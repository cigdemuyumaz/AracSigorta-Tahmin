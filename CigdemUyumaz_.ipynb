{
  "nbformat": 4,
  "nbformat_minor": 0,
  "metadata": {
    "kernelspec": {
      "display_name": "Python 3",
      "language": "python",
      "name": "python3"
    },
    "language_info": {
      "codemirror_mode": {
        "name": "ipython",
        "version": 3
      },
      "file_extension": ".py",
      "mimetype": "text/x-python",
      "name": "python",
      "nbconvert_exporter": "python",
      "pygments_lexer": "ipython3",
      "version": "3.7.6"
    },
    "colab": {
      "name": "CigdemUyumaz .ipynb",
      "provenance": [],
      "toc_visible": true
    }
  },
  "cells": [
    {
      "cell_type": "markdown",
      "metadata": {
        "id": "isiMZBzkHRkU"
      },
      "source": [
        "## Araç Sigortası Satış Tahmin Problemi\n",
        "Araç sahiplerinin araç sigortası satın almak konusundaki niyetlerinin tespiti sigorta şirketleri için büyük önem taşır. Doğru tahminler sigorta şirketleri için bir iletişim stratejisi planlayarak potansiyel müşterilere ulaşma, iş modellerini ve gelirlerini optmize etme fırsatı yaratır.   \n",
        "\n",
        "Müşterilerine sağlık sigortası sağlayan bir sigorta şirketi bir önceki yılın poliçe sahiplerine araç sigortası satmayı planlamaktadır. Müşterilerin araç sigortası ile ilgilenip ilgilenmediklerini tahmin amacıyla kullanılacak şirket verisi müşterinin demografik bilgilerini (yaş, cinsiyet, bulunduğu il vb), araç özelliklerini (yaş ve hasar durumu) ve poliçe bilgilerini (prim ve kanal bilgileri) içermektedir. \n",
        "\n",
        "Aşağıdaki tablo veri setinde kullanılan öznitelikleri (features) ve açıklamalarını içermektedir.\n",
        "\n",
        "|Öznitelik|Açıklama|\n",
        "|---------|--------|\n",
        "|Musteri_no|Anonim müşteri no|\n",
        "|Cinsiyet|Müşteri cinsiyeti (E/K)|\n",
        "|Yas|Müşteri doğum yılı|\n",
        "|Ehliyet|Müşteri ehliyet durumu (Var/Yok)|\n",
        "|Sehir|Müşterinin bulunduğu il|\n",
        "|Gecmis_police|Müşterinin halihazırda araç sigortası var mı? (Var/Yok)|\n",
        "|Arac_yasi|Aracın yaşı (<1 Yıl, 1-2 Yıl, 2-5 Yıl, 5-10 Yıl, >10 Yıl)|\n",
        "|Hasar_durumu|Müşteri aracında geçmişte hasar oluştu mu? (E/H)|\n",
        "|Yillik_prm|Yıllık prim bedeli|\n",
        "|Acenta_no|Satış sorumlusu kod numarası (anonim)|\n",
        "|Sure|Sigortalı (sağlık sigortası) olma süresi (gün)|\n",
        "|Sonuc|Müşteri isteği (hedef): ilgileniyor (1), ilgilenmiyor (0)|\n",
        "\n",
        "\n",
        "### Sizlerden beklenenler:\n",
        "1. Veriyi ve problemi anlamak üzere hem bağımlı (hedef) hem de bağımsız değişkenler üzerinde bir Keşifsel Veri Analizi  (EDA) yapmanız ve bunları yorumlamanız beklenmektedir. Yorumsuz bırakılan grafikler/plotlar bir anlam taşımadığı gibi değerlendirmeye de alınmayacaktır. Notebook üzerindeki tüm çalışmaların doğru başlıklarla okunabilir ve anlaşılabilir olmasına ve bir düzen içinde sunulmuş olmasına  azami dikkat göstermenizi rica ediyoruz. Bu bölümün notlandırması burada sözü edilen kriterlere dayanacak ve 40 (100 üzerinden) puanlık bir ağırlık taşıyacaktır. \n",
        "\n",
        "\n",
        "2. En iyi performans gösteren modelin \"test\" verisi üzerindeki tahminlerini `.csv` dosyası olarak oluşturmanız ve Kaggle'a yüklemeniz gerekmektedir. Kaggle üzerindeki toplam (private + public) skorunuza stinaden bu bölümün ağırlığı 60 (100 üzerinden) puan olarak belirlenmiştir. 60 puan Kaggle'daki sıralamanıza göre doğrusal bir formülle normalize edilcektir.\n",
        "\n",
        "\n",
        "### Başarı metriği\n",
        "Bu hackathon için değerlendirme metriğiniz \"**ROC_AUC Score**\" olarak belirlenmiştir.\n",
        "\n",
        "\n",
        "\n"
      ]
    },
    {
      "cell_type": "code",
      "metadata": {
        "id": "sRr_4sUYHoFP"
      },
      "source": [
        "import numpy as np\n",
        "import pandas as pd\n",
        "import seaborn as sns\n",
        "import scipy.stats as stats\n",
        "from sklearn import preprocessing\n",
        "from sklearn import model_selection\n",
        "from sklearn.metrics import accuracy_score\n",
        "from sklearn.metrics import roc_curve, auc\n",
        "from sklearn.metrics import confusion_matrix\n",
        "from sklearn.preprocessing import StandardScaler\n",
        "from sklearn.discriminant_analysis import LinearDiscriminantAnalysis\n",
        "from sklearn.model_selection import GridSearchCV\n",
        "from sklearn.metrics import classification_report\n",
        "from sklearn.neighbors import KNeighborsClassifier\n",
        "from sklearn.pipeline import Pipeline\n",
        "from sklearn.linear_model import LogisticRegression\n",
        "import xgboost as xgb\n",
        "from xgboost.sklearn import XGBClassifier\n",
        "from sklearn.tree import DecisionTreeClassifier\n",
        "from sklearn.ensemble import RandomForestClassifier, ExtraTreesClassifier\n",
        "from sklearn.ensemble import GradientBoostingClassifier, BaggingClassifier, AdaBoostClassifier\n",
        "from sklearn.model_selection import cross_val_score\n",
        "from sklearn.model_selection import StratifiedKFold\n",
        "from sklearn.naive_bayes import GaussianNB\n",
        "from sklearn.model_selection import train_test_split\n",
        "from sklearn.metrics import accuracy_score, log_loss, f1_score, precision_score, recall_score\n",
        "from sklearn.svm import SVC\n",
        "from sklearn.ensemble import VotingClassifier, StackingClassifier\n",
        "import matplotlib.pyplot as plt\n",
        "from sklearn.metrics import fbeta_score, make_scorer\n",
        "import statsmodels.api as sm\n",
        "import statsmodels.formula.api as smf\n",
        "import seaborn as sns\n",
        "import time\n",
        "from sklearn import metrics  \n",
        "from sklearn import preprocessing\n",
        "from sklearn import model_selection\n",
        "from sklearn.pipeline import Pipeline\n",
        "from sklearn.metrics import accuracy_score\n",
        "from sklearn.metrics import confusion_matrix\n",
        "from lightgbm import LGBMClassifier\n",
        "from  xgboost import XGBClassifier\n",
        "from sklearn.preprocessing import StandardScaler\n",
        "from sklearn.metrics import classification_report\n",
        "from sklearn.model_selection import StratifiedKFold\n",
        "from sklearn.model_selection import cross_val_score\n",
        "from sklearn.model_selection import train_test_split\n",
        "from sklearn.model_selection import cross_val_predict\n",
        "from sklearn.metrics import roc_curve, roc_auc_score, auc\n",
        "from sklearn.model_selection import GridSearchCV, RandomizedSearchCV,RepeatedStratifiedKFold\n",
        "\n",
        "from sklearn.linear_model import LogisticRegression\n",
        "from sklearn.ensemble import RandomForestClassifier\n",
        "from sklearn.feature_selection import chi2\n",
        "from sklearn.feature_selection import SelectKBest\n",
        "from sklearn.preprocessing import LabelEncoder, OrdinalEncoder\n",
        "sns.set()\n",
        "import warnings\n",
        "warnings.filterwarnings(\"ignore\") # Don't want to see the warnings in the notebook\n",
        "# explicitly require this experimental feature\n",
        "from sklearn.experimental import enable_iterative_imputer\n",
        "# now you can import normally from sklearn.impute\n",
        "from sklearn.impute import IterativeImputer, SimpleImputer\n",
        "from sklearn import model_selection\n",
        "from sklearn.preprocessing import binarize\n",
        "from sklearn.metrics import roc_curve, auc\n",
        "from sklearn.metrics import confusion_matrix\n",
        "from sklearn.compose import ColumnTransformer\n",
        "from sklearn.preprocessing import StandardScaler\n",
        "from sklearn.model_selection import GridSearchCV\n",
        "from sklearn.metrics import precision_recall_curve\n",
        "from sklearn.linear_model import LogisticRegression\n",
        "from sklearn.model_selection import StratifiedKFold\n",
        "from sklearn.pipeline import make_pipeline, Pipeline\n",
        "from sklearn.metrics import precision_score, recall_score, roc_auc_score, precision_recall_curve\n",
        "from sklearn.metrics import f1_score, fbeta_score, accuracy_score, classification_report, average_precision_score\n",
        "from datetime import datetime,timedelta\n",
        "from imblearn.combine import SMOTEENN\n",
        "from imblearn.under_sampling import EditedNearestNeighbours\n",
        "# Import libraries\n",
        "from imblearn.over_sampling import SMOTE\n",
        "from imblearn.pipeline import Pipeline as pipe_imb\n",
        "from imblearn.over_sampling import RandomOverSampler\n",
        "from imblearn.under_sampling import RandomUnderSampler\n",
        "from imblearn.metrics import classification_report_imbalanced\n",
        "from imblearn.pipeline import make_pipeline as make_pipeline_imb\n",
        "from imblearn.pipeline import Pipeline as pipe_imb\n",
        "from sklearn.neural_network import MLPClassifier\n",
        "from sklearn.ensemble import RandomForestClassifier as RF\n",
        "import missingno as msno\n",
        "\n",
        "import sklearn.decomposition as dec"
      ],
      "execution_count": null,
      "outputs": []
    },
    {
      "cell_type": "code",
      "metadata": {
        "id": "84R9LVVOHRkW"
      },
      "source": [
        "arac_test = pd.read_excel('Arac_test.xlsx')\n",
        "\n",
        "arac_train = pd.read_excel('Arac_train.xlsx')\n",
        "arac_train=arac_train.drop(['Musteri_no'], axis=1)\n",
        "arac_test=arac_test.drop(['Musteri_no'], axis=1)"
      ],
      "execution_count": null,
      "outputs": []
    },
    {
      "cell_type": "code",
      "metadata": {
        "id": "puBSZzLfHyMS"
      },
      "source": [
        "arac_train[\"Yas\"]=2021-arac_train[\"Yas\"]\n"
      ],
      "execution_count": null,
      "outputs": []
    },
    {
      "cell_type": "code",
      "metadata": {
        "id": "DO2AlU5vYJvl"
      },
      "source": [
        "arac_test[\"Yas\"]=2021-arac_test[\"Yas\"]"
      ],
      "execution_count": null,
      "outputs": []
    },
    {
      "cell_type": "markdown",
      "metadata": {
        "id": "zSSMJnMKIrc_"
      },
      "source": [
        "# **EDA**"
      ]
    },
    {
      "cell_type": "code",
      "metadata": {
        "colab": {
          "base_uri": "https://localhost:8080/",
          "height": 368
        },
        "id": "VOM-TuqqIqmJ",
        "outputId": "64654d11-49ab-40c5-d4d5-4b00e329c68d"
      },
      "source": [
        "# ENBALANCED DATA SET\n",
        "plt.figure(figsize = (7,4))\n",
        "\n",
        "print(arac_train.groupby('Sonuc').size()) # or (df.Churn == True).value_counts()\n",
        "sns.countplot(arac_train['Sonuc'],label=\"Count\", palette=\"autumn\",saturation=0.4, capsize=0.2) # Frequency of Sales\n",
        "plt.title('Count of Sonuc  ')\n",
        "plt.show()"
      ],
      "execution_count": null,
      "outputs": [
        {
          "output_type": "stream",
          "text": [
            "Sonuc\n",
            "0    223556\n",
            "1     31131\n",
            "dtype: int64\n"
          ],
          "name": "stdout"
        },
        {
          "output_type": "display_data",
          "data": {
            "image/png": "[encoded data removed]",
            "text/plain": [
              "<Figure size 504x288 with 1 Axes>"
            ]
          },
          "metadata": {
            "tags": []
          }
        }
      ]
    },
    {
      "cell_type": "code",
      "metadata": {
        "colab": {
          "base_uri": "https://localhost:8080/",
          "height": 524
        },
        "id": "KmmpXQl9IVJR",
        "outputId": "0296d251-87c0-4379-ee7a-8eb5477e6a22"
      },
      "source": [
        "sns.set()\n",
        "msno.bar(arac_train, figsize=(12,6));"
      ],
      "execution_count": null,
      "outputs": [
        {
          "output_type": "display_data",
          "data": {
            "image/png": "[encoded data removed]",
            "text/plain": [
              "<Figure size 864x432 with 3 Axes>"
            ]
          },
          "metadata": {
            "tags": []
          }
        }
      ]
    },
    {
      "cell_type": "code",
      "metadata": {
        "colab": {
          "base_uri": "https://localhost:8080/",
          "height": 75
        },
        "id": "mgGwOQf5I9MI",
        "outputId": "7c49e018-c9c9-416f-d26d-a6560a8def76"
      },
      "source": [
        "arac_train.head(1)"
      ],
      "execution_count": null,
      "outputs": [
        {
          "output_type": "execute_result",
          "data": {
            "text/html": [
              "<div>\n",
              "<style scoped>\n",
              "    .dataframe tbody tr th:only-of-type {\n",
              "        vertical-align: middle;\n",
              "    }\n",
              "\n",
              "    .dataframe tbody tr th {\n",
              "        vertical-align: top;\n",
              "    }\n",
              "\n",
              "    .dataframe thead th {\n",
              "        text-align: right;\n",
              "    }\n",
              "</style>\n",
              "<table border=\"1\" class=\"dataframe\">\n",
              "  <thead>\n",
              "    <tr style=\"text-align: right;\">\n",
              "      <th></th>\n",
              "      <th>Cinsiyet</th>\n",
              "      <th>Yas</th>\n",
              "      <th>Ehliyet</th>\n",
              "      <th>Sehir</th>\n",
              "      <th>Gecmis_police</th>\n",
              "      <th>Arac_yasi</th>\n",
              "      <th>Hasar_durumu</th>\n",
              "      <th>Yillik_prim</th>\n",
              "      <th>Acenta_no</th>\n",
              "      <th>Sure</th>\n",
              "      <th>Sonuc</th>\n",
              "    </tr>\n",
              "  </thead>\n",
              "  <tbody>\n",
              "    <tr>\n",
              "      <th>0</th>\n",
              "      <td>E</td>\n",
              "      <td>36</td>\n",
              "      <td>Var</td>\n",
              "      <td>Ordu</td>\n",
              "      <td>Yok</td>\n",
              "      <td>1-2 Yil</td>\n",
              "      <td>E</td>\n",
              "      <td>2960.0</td>\n",
              "      <td>147</td>\n",
              "      <td>131</td>\n",
              "      <td>0</td>\n",
              "    </tr>\n",
              "  </tbody>\n",
              "</table>\n",
              "</div>"
            ],
            "text/plain": [
              "  Cinsiyet  Yas Ehliyet Sehir  ... Yillik_prim Acenta_no Sure  Sonuc\n",
              "0        E   36     Var  Ordu  ...      2960.0       147  131      0\n",
              "\n",
              "[1 rows x 11 columns]"
            ]
          },
          "metadata": {
            "tags": []
          },
          "execution_count": 11
        }
      ]
    },
    {
      "cell_type": "markdown",
      "metadata": {
        "id": "DQeKWscZJGcB"
      },
      "source": [
        "# **CİNSİYETT**"
      ]
    },
    {
      "cell_type": "code",
      "metadata": {
        "colab": {
          "base_uri": "https://localhost:8080/",
          "height": 297
        },
        "id": "63J8WGA_I9Jr",
        "outputId": "9986f15e-2a7c-43bf-b7e5-44b553ac431a"
      },
      "source": [
        "table=pd.crosstab(arac_train.Cinsiyet, arac_train.Sonuc)\n",
        "table.div(table.sum(1).astype(float), axis=0).plot(kind='bar', figsize=(8,4), stacked=True)\n",
        "plt.title('Cinsiyet vs Sonuc')\n",
        "plt.xlabel('Cinsiyet')\n",
        "plt.ylabel('Sonuc')\n",
        "plt.show()"
      ],
      "execution_count": null,
      "outputs": [
        {
          "output_type": "display_data",
          "data": {
            "image/png": "[encoded data removed]",
            "text/plain": [
              "<Figure size 576x288 with 1 Axes>"
            ]
          },
          "metadata": {
            "tags": []
          }
        }
      ]
    },
    {
      "cell_type": "code",
      "metadata": {
        "id": "1sHTkeBcVsRZ"
      },
      "source": [
        "cols_to_transform = ['Cinsiyet'] # make a list if more than one column\n",
        "arac_train = pd.get_dummies(arac_train, columns = cols_to_transform,drop_first=True)"
      ],
      "execution_count": null,
      "outputs": []
    },
    {
      "cell_type": "code",
      "metadata": {
        "id": "tL-nsd-oVxRM"
      },
      "source": [
        "cols_to_transform = ['Cinsiyet'] # make a list if more than one column\n",
        "arac_test = pd.get_dummies(arac_test, columns = cols_to_transform,drop_first=True)"
      ],
      "execution_count": null,
      "outputs": []
    },
    {
      "cell_type": "code",
      "metadata": {
        "colab": {
          "base_uri": "https://localhost:8080/",
          "height": 190
        },
        "id": "ERwiJxWsXyGC",
        "outputId": "edb2ac23-ca9f-4fb6-b840-e239219142f8"
      },
      "source": [
        "arac_train.head()"
      ],
      "execution_count": null,
      "outputs": [
        {
          "output_type": "execute_result",
          "data": {
            "text/html": [
              "<div>\n",
              "<style scoped>\n",
              "    .dataframe tbody tr th:only-of-type {\n",
              "        vertical-align: middle;\n",
              "    }\n",
              "\n",
              "    .dataframe tbody tr th {\n",
              "        vertical-align: top;\n",
              "    }\n",
              "\n",
              "    .dataframe thead th {\n",
              "        text-align: right;\n",
              "    }\n",
              "</style>\n",
              "<table border=\"1\" class=\"dataframe\">\n",
              "  <thead>\n",
              "    <tr style=\"text-align: right;\">\n",
              "      <th></th>\n",
              "      <th>Yas</th>\n",
              "      <th>Ehliyet</th>\n",
              "      <th>Sehir</th>\n",
              "      <th>Gecmis_police</th>\n",
              "      <th>Arac_yasi</th>\n",
              "      <th>Hasar_durumu</th>\n",
              "      <th>Yillik_prim</th>\n",
              "      <th>Acenta_no</th>\n",
              "      <th>Sure</th>\n",
              "      <th>Sonuc</th>\n",
              "      <th>Cinsiyet_K</th>\n",
              "    </tr>\n",
              "  </thead>\n",
              "  <tbody>\n",
              "    <tr>\n",
              "      <th>0</th>\n",
              "      <td>36</td>\n",
              "      <td>Var</td>\n",
              "      <td>Ordu</td>\n",
              "      <td>Yok</td>\n",
              "      <td>1-2 Yil</td>\n",
              "      <td>E</td>\n",
              "      <td>2960.00</td>\n",
              "      <td>147</td>\n",
              "      <td>131</td>\n",
              "      <td>0</td>\n",
              "      <td>0</td>\n",
              "    </tr>\n",
              "    <tr>\n",
              "      <th>1</th>\n",
              "      <td>31</td>\n",
              "      <td>Var</td>\n",
              "      <td>Gaziantep</td>\n",
              "      <td>Var</td>\n",
              "      <td>&lt; 1 Yil</td>\n",
              "      <td>H</td>\n",
              "      <td>3081.78</td>\n",
              "      <td>177</td>\n",
              "      <td>213</td>\n",
              "      <td>0</td>\n",
              "      <td>0</td>\n",
              "    </tr>\n",
              "    <tr>\n",
              "      <th>2</th>\n",
              "      <td>31</td>\n",
              "      <td>Var</td>\n",
              "      <td>Kocaeli</td>\n",
              "      <td>Yok</td>\n",
              "      <td>&lt; 1 Yil</td>\n",
              "      <td>E</td>\n",
              "      <td>3672.67</td>\n",
              "      <td>177</td>\n",
              "      <td>72</td>\n",
              "      <td>0</td>\n",
              "      <td>0</td>\n",
              "    </tr>\n",
              "    <tr>\n",
              "      <th>3</th>\n",
              "      <td>26</td>\n",
              "      <td>Var</td>\n",
              "      <td>Izmir</td>\n",
              "      <td>Var</td>\n",
              "      <td>&lt; 1 Yil</td>\n",
              "      <td>H</td>\n",
              "      <td>3599.89</td>\n",
              "      <td>177</td>\n",
              "      <td>117</td>\n",
              "      <td>0</td>\n",
              "      <td>0</td>\n",
              "    </tr>\n",
              "    <tr>\n",
              "      <th>4</th>\n",
              "      <td>23</td>\n",
              "      <td>Var</td>\n",
              "      <td>Kocaeli</td>\n",
              "      <td>Yok</td>\n",
              "      <td>&lt; 1 Yil</td>\n",
              "      <td>E</td>\n",
              "      <td>3697.22</td>\n",
              "      <td>177</td>\n",
              "      <td>177</td>\n",
              "      <td>0</td>\n",
              "      <td>0</td>\n",
              "    </tr>\n",
              "  </tbody>\n",
              "</table>\n",
              "</div>"
            ],
            "text/plain": [
              "   Yas Ehliyet      Sehir Gecmis_police  ... Acenta_no Sure  Sonuc  Cinsiyet_K\n",
              "0   36     Var       Ordu           Yok  ...       147  131      0           0\n",
              "1   31     Var  Gaziantep           Var  ...       177  213      0           0\n",
              "2   31     Var    Kocaeli           Yok  ...       177   72      0           0\n",
              "3   26     Var      Izmir           Var  ...       177  117      0           0\n",
              "4   23     Var    Kocaeli           Yok  ...       177  177      0           0\n",
              "\n",
              "[5 rows x 11 columns]"
            ]
          },
          "metadata": {
            "tags": []
          },
          "execution_count": 15
        }
      ]
    },
    {
      "cell_type": "markdown",
      "metadata": {
        "id": "BlpgSWJ7JdHs"
      },
      "source": [
        "# **Yas**"
      ]
    },
    {
      "cell_type": "code",
      "metadata": {
        "colab": {
          "base_uri": "https://localhost:8080/",
          "height": 284
        },
        "id": "JBeEb5D5I9HY",
        "outputId": "885fcee9-852e-4015-9f0f-403e8e984135"
      },
      "source": [
        "g = sns.kdeplot(arac_train['Yas'][(arac_train[\"Sonuc\"] == 0)], color=\"Red\", shade = True)\n",
        "g = sns.kdeplot(arac_train['Yas'][(arac_train[\"Sonuc\"] == 1)], ax =g, color=\"Blue\", shade= True)\n",
        "g.set_xlabel('Yas')\n",
        "g.set_ylabel(\"Frequency\")\n",
        "g = g.legend([\"Yas for Sonuc = 0\", \"Yas for Sonuc = 1\"])"
      ],
      "execution_count": null,
      "outputs": [
        {
          "output_type": "display_data",
          "data": {
            "image/png": "[encoded data removed]",
            "text/plain": [
              "<Figure size 432x288 with 1 Axes>"
            ]
          },
          "metadata": {
            "tags": []
          }
        }
      ]
    },
    {
      "cell_type": "code",
      "metadata": {
        "colab": {
          "base_uri": "https://localhost:8080/"
        },
        "id": "ESwjqgx_KNNW",
        "outputId": "f8f5aea6-c9de-4b13-9144-7349e95403e7"
      },
      "source": [
        "arac_train['Yas'].max()"
      ],
      "execution_count": null,
      "outputs": [
        {
          "output_type": "execute_result",
          "data": {
            "text/plain": [
              "86"
            ]
          },
          "metadata": {
            "tags": []
          },
          "execution_count": 17
        }
      ]
    },
    {
      "cell_type": "code",
      "metadata": {
        "colab": {
          "base_uri": "https://localhost:8080/"
        },
        "id": "J3rF_NZmX2y0",
        "outputId": "e479ed76-cfec-493d-edfc-b1db1d324333"
      },
      "source": [
        "arac_train['Yas'].min()"
      ],
      "execution_count": null,
      "outputs": [
        {
          "output_type": "execute_result",
          "data": {
            "text/plain": [
              "21"
            ]
          },
          "metadata": {
            "tags": []
          },
          "execution_count": 18
        }
      ]
    },
    {
      "cell_type": "code",
      "metadata": {
        "colab": {
          "base_uri": "https://localhost:8080/",
          "height": 190
        },
        "id": "r60cC1z0JwT0",
        "outputId": "dcb433f6-83d1-42d0-dcc3-764e3af1bfb7"
      },
      "source": [
        "bins = [20,30,40,50,60,100]\n",
        "labels=[\"young\",\"middle\",\"middle_p\",\"older\",\"older_p\"]\n",
        "arac_train['age_bin'] = pd.cut(arac_train['Yas'], bins=bins, labels=labels)\n",
        "arac_train.head()"
      ],
      "execution_count": null,
      "outputs": [
        {
          "output_type": "execute_result",
          "data": {
            "text/html": [
              "<div>\n",
              "<style scoped>\n",
              "    .dataframe tbody tr th:only-of-type {\n",
              "        vertical-align: middle;\n",
              "    }\n",
              "\n",
              "    .dataframe tbody tr th {\n",
              "        vertical-align: top;\n",
              "    }\n",
              "\n",
              "    .dataframe thead th {\n",
              "        text-align: right;\n",
              "    }\n",
              "</style>\n",
              "<table border=\"1\" class=\"dataframe\">\n",
              "  <thead>\n",
              "    <tr style=\"text-align: right;\">\n",
              "      <th></th>\n",
              "      <th>Yas</th>\n",
              "      <th>Ehliyet</th>\n",
              "      <th>Sehir</th>\n",
              "      <th>Gecmis_police</th>\n",
              "      <th>Arac_yasi</th>\n",
              "      <th>Hasar_durumu</th>\n",
              "      <th>Yillik_prim</th>\n",
              "      <th>Acenta_no</th>\n",
              "      <th>Sure</th>\n",
              "      <th>Sonuc</th>\n",
              "      <th>Cinsiyet_K</th>\n",
              "      <th>age_bin</th>\n",
              "    </tr>\n",
              "  </thead>\n",
              "  <tbody>\n",
              "    <tr>\n",
              "      <th>0</th>\n",
              "      <td>36</td>\n",
              "      <td>Var</td>\n",
              "      <td>Ordu</td>\n",
              "      <td>Yok</td>\n",
              "      <td>1-2 Yil</td>\n",
              "      <td>E</td>\n",
              "      <td>2960.00</td>\n",
              "      <td>147</td>\n",
              "      <td>131</td>\n",
              "      <td>0</td>\n",
              "      <td>0</td>\n",
              "      <td>middle</td>\n",
              "    </tr>\n",
              "    <tr>\n",
              "      <th>1</th>\n",
              "      <td>31</td>\n",
              "      <td>Var</td>\n",
              "      <td>Gaziantep</td>\n",
              "      <td>Var</td>\n",
              "      <td>&lt; 1 Yil</td>\n",
              "      <td>H</td>\n",
              "      <td>3081.78</td>\n",
              "      <td>177</td>\n",
              "      <td>213</td>\n",
              "      <td>0</td>\n",
              "      <td>0</td>\n",
              "      <td>middle</td>\n",
              "    </tr>\n",
              "    <tr>\n",
              "      <th>2</th>\n",
              "      <td>31</td>\n",
              "      <td>Var</td>\n",
              "      <td>Kocaeli</td>\n",
              "      <td>Yok</td>\n",
              "      <td>&lt; 1 Yil</td>\n",
              "      <td>E</td>\n",
              "      <td>3672.67</td>\n",
              "      <td>177</td>\n",
              "      <td>72</td>\n",
              "      <td>0</td>\n",
              "      <td>0</td>\n",
              "      <td>middle</td>\n",
              "    </tr>\n",
              "    <tr>\n",
              "      <th>3</th>\n",
              "      <td>26</td>\n",
              "      <td>Var</td>\n",
              "      <td>Izmir</td>\n",
              "      <td>Var</td>\n",
              "      <td>&lt; 1 Yil</td>\n",
              "      <td>H</td>\n",
              "      <td>3599.89</td>\n",
              "      <td>177</td>\n",
              "      <td>117</td>\n",
              "      <td>0</td>\n",
              "      <td>0</td>\n",
              "      <td>young</td>\n",
              "    </tr>\n",
              "    <tr>\n",
              "      <th>4</th>\n",
              "      <td>23</td>\n",
              "      <td>Var</td>\n",
              "      <td>Kocaeli</td>\n",
              "      <td>Yok</td>\n",
              "      <td>&lt; 1 Yil</td>\n",
              "      <td>E</td>\n",
              "      <td>3697.22</td>\n",
              "      <td>177</td>\n",
              "      <td>177</td>\n",
              "      <td>0</td>\n",
              "      <td>0</td>\n",
              "      <td>young</td>\n",
              "    </tr>\n",
              "  </tbody>\n",
              "</table>\n",
              "</div>"
            ],
            "text/plain": [
              "   Yas Ehliyet      Sehir Gecmis_police  ... Sure Sonuc  Cinsiyet_K  age_bin\n",
              "0   36     Var       Ordu           Yok  ...  131     0           0   middle\n",
              "1   31     Var  Gaziantep           Var  ...  213     0           0   middle\n",
              "2   31     Var    Kocaeli           Yok  ...   72     0           0   middle\n",
              "3   26     Var      Izmir           Var  ...  117     0           0    young\n",
              "4   23     Var    Kocaeli           Yok  ...  177     0           0    young\n",
              "\n",
              "[5 rows x 12 columns]"
            ]
          },
          "metadata": {
            "tags": []
          },
          "execution_count": 19
        }
      ]
    },
    {
      "cell_type": "code",
      "metadata": {
        "colab": {
          "base_uri": "https://localhost:8080/",
          "height": 190
        },
        "id": "ivEf5c8KXbtY",
        "outputId": "c8e80b20-6c81-4029-aaaa-e195ccf8fc00"
      },
      "source": [
        "bins = [20,30,40,50,60,100]\n",
        "labels=[\"young\",\"middle\",\"middle_p\",\"older\",\"older_p\"]\n",
        "arac_test['age_bin'] = pd.cut(arac_test['Yas'], bins=bins, labels=labels)\n",
        "arac_test.head()"
      ],
      "execution_count": null,
      "outputs": [
        {
          "output_type": "execute_result",
          "data": {
            "text/html": [
              "<div>\n",
              "<style scoped>\n",
              "    .dataframe tbody tr th:only-of-type {\n",
              "        vertical-align: middle;\n",
              "    }\n",
              "\n",
              "    .dataframe tbody tr th {\n",
              "        vertical-align: top;\n",
              "    }\n",
              "\n",
              "    .dataframe thead th {\n",
              "        text-align: right;\n",
              "    }\n",
              "</style>\n",
              "<table border=\"1\" class=\"dataframe\">\n",
              "  <thead>\n",
              "    <tr style=\"text-align: right;\">\n",
              "      <th></th>\n",
              "      <th>Yas</th>\n",
              "      <th>Ehliyet</th>\n",
              "      <th>Sehir</th>\n",
              "      <th>Gecmis_police</th>\n",
              "      <th>Arac_yasi</th>\n",
              "      <th>Hasar_durumu</th>\n",
              "      <th>Yillik_prim</th>\n",
              "      <th>Acenta_no</th>\n",
              "      <th>Sure</th>\n",
              "      <th>Cinsiyet_K</th>\n",
              "      <th>age_bin</th>\n",
              "    </tr>\n",
              "  </thead>\n",
              "  <tbody>\n",
              "    <tr>\n",
              "      <th>0</th>\n",
              "      <td>26</td>\n",
              "      <td>Var</td>\n",
              "      <td>Kocaeli</td>\n",
              "      <td>Yok</td>\n",
              "      <td>&lt; 1 Yil</td>\n",
              "      <td>H</td>\n",
              "      <td>2975.56</td>\n",
              "      <td>177</td>\n",
              "      <td>94</td>\n",
              "      <td>1</td>\n",
              "      <td>young</td>\n",
              "    </tr>\n",
              "    <tr>\n",
              "      <th>1</th>\n",
              "      <td>24</td>\n",
              "      <td>Var</td>\n",
              "      <td>Mersin</td>\n",
              "      <td>Var</td>\n",
              "      <td>&lt; 1 Yil</td>\n",
              "      <td>H</td>\n",
              "      <td>2683.33</td>\n",
              "      <td>177</td>\n",
              "      <td>105</td>\n",
              "      <td>1</td>\n",
              "      <td>young</td>\n",
              "    </tr>\n",
              "    <tr>\n",
              "      <th>2</th>\n",
              "      <td>43</td>\n",
              "      <td>Var</td>\n",
              "      <td>Samsun</td>\n",
              "      <td>Yok</td>\n",
              "      <td>1-2 Yil</td>\n",
              "      <td>E</td>\n",
              "      <td>3982.78</td>\n",
              "      <td>149</td>\n",
              "      <td>76</td>\n",
              "      <td>0</td>\n",
              "      <td>middle_p</td>\n",
              "    </tr>\n",
              "    <tr>\n",
              "      <th>3</th>\n",
              "      <td>26</td>\n",
              "      <td>Var</td>\n",
              "      <td>Antalya</td>\n",
              "      <td>Yok</td>\n",
              "      <td>1-2 Yil</td>\n",
              "      <td>E</td>\n",
              "      <td>2716.67</td>\n",
              "      <td>179</td>\n",
              "      <td>193</td>\n",
              "      <td>1</td>\n",
              "      <td>young</td>\n",
              "    </tr>\n",
              "    <tr>\n",
              "      <th>4</th>\n",
              "      <td>22</td>\n",
              "      <td>Var</td>\n",
              "      <td>Bursa</td>\n",
              "      <td>Var</td>\n",
              "      <td>&lt; 1 Yil</td>\n",
              "      <td>H</td>\n",
              "      <td>3301.89</td>\n",
              "      <td>185</td>\n",
              "      <td>224</td>\n",
              "      <td>1</td>\n",
              "      <td>young</td>\n",
              "    </tr>\n",
              "  </tbody>\n",
              "</table>\n",
              "</div>"
            ],
            "text/plain": [
              "   Yas Ehliyet    Sehir Gecmis_police  ... Acenta_no Sure  Cinsiyet_K   age_bin\n",
              "0   26     Var  Kocaeli           Yok  ...       177   94           1     young\n",
              "1   24     Var   Mersin           Var  ...       177  105           1     young\n",
              "2   43     Var   Samsun           Yok  ...       149   76           0  middle_p\n",
              "3   26     Var  Antalya           Yok  ...       179  193           1     young\n",
              "4   22     Var    Bursa           Var  ...       185  224           1     young\n",
              "\n",
              "[5 rows x 11 columns]"
            ]
          },
          "metadata": {
            "tags": []
          },
          "execution_count": 20
        }
      ]
    },
    {
      "cell_type": "code",
      "metadata": {
        "colab": {
          "base_uri": "https://localhost:8080/"
        },
        "id": "hW4eRdUkKmm4",
        "outputId": "ed873db9-4063-4e0f-a5b8-604a7aa3d0b9"
      },
      "source": [
        "arac_train['age_bin'].unique()"
      ],
      "execution_count": null,
      "outputs": [
        {
          "output_type": "execute_result",
          "data": {
            "text/plain": [
              "['middle', 'young', 'middle_p', 'older_p', 'older']\n",
              "Categories (5, object): ['young' < 'middle' < 'middle_p' < 'older' < 'older_p']"
            ]
          },
          "metadata": {
            "tags": []
          },
          "execution_count": 21
        }
      ]
    },
    {
      "cell_type": "code",
      "metadata": {
        "colab": {
          "base_uri": "https://localhost:8080/"
        },
        "id": "GkfjtaFUYRak",
        "outputId": "f0df58f6-1baf-4b37-9bba-7a9d827e2be6"
      },
      "source": [
        "arac_test['age_bin'].unique()"
      ],
      "execution_count": null,
      "outputs": [
        {
          "output_type": "execute_result",
          "data": {
            "text/plain": [
              "['young', 'middle_p', 'middle', 'older', 'older_p']\n",
              "Categories (5, object): ['young' < 'middle' < 'middle_p' < 'older' < 'older_p']"
            ]
          },
          "metadata": {
            "tags": []
          },
          "execution_count": 22
        }
      ]
    },
    {
      "cell_type": "code",
      "metadata": {
        "colab": {
          "base_uri": "https://localhost:8080/",
          "height": 340
        },
        "id": "CtBcmKUkKuVe",
        "outputId": "333ec9de-01d1-48d0-bcbb-17c69dfc0094"
      },
      "source": [
        "table=pd.crosstab(arac_train.age_bin, arac_train.Sonuc)\n",
        "table.div(table.sum(1).astype(float), axis=0).plot(kind='bar', figsize=(8,4), stacked=True)\n",
        "plt.title('age_bin vs Sonuc')\n",
        "plt.xlabel('age_bin')\n",
        "plt.ylabel('Sonuc')\n",
        "plt.show()"
      ],
      "execution_count": null,
      "outputs": [
        {
          "output_type": "display_data",
          "data": {
            "image/png": "[encoded data removed]",
            "text/plain": [
              "<Figure size 576x288 with 1 Axes>"
            ]
          },
          "metadata": {
            "tags": []
          }
        }
      ]
    },
    {
      "cell_type": "code",
      "metadata": {
        "colab": {
          "base_uri": "https://localhost:8080/",
          "height": 409
        },
        "id": "sC_QhS7BK70Z",
        "outputId": "8720deeb-9fa9-4ebf-e94b-a709764362fb"
      },
      "source": [
        "arac_train['NUMBER'] = 1 \n",
        "pivot_table = pd.pivot_table(arac_train,values = 'NUMBER',index=['age_bin'],columns=['Sonuc'], aggfunc=np.sum,fill_value=0).rename_axis(None)\n",
        "pivot_table = pivot_table[[0,1]]\n",
        "pivot_table.plot(kind='barh', stacked=True,figsize=(12,6), title= 'age_bin and Sonuc', rot=0)"
      ],
      "execution_count": null,
      "outputs": [
        {
          "output_type": "execute_result",
          "data": {
            "text/plain": [
              "<matplotlib.axes._subplots.AxesSubplot at 0x7f6c5c1ca710>"
            ]
          },
          "metadata": {
            "tags": []
          },
          "execution_count": 24
        },
        {
          "output_type": "display_data",
          "data": {
            "image/png": "[encoded data removed]",
            "text/plain": [
              "<Figure size 864x432 with 1 Axes>"
            ]
          },
          "metadata": {
            "tags": []
          }
        }
      ]
    },
    {
      "cell_type": "markdown",
      "metadata": {
        "id": "4f4fj5e4LI5l"
      },
      "source": [
        "Yaşa göre farklılaştığını gördüğüm için binlere ayırdım yaşı. büyük çogunlugu datanın young(20-30) arasından gelıyor.40-50 yaş middle_p diğerlerinden farklılaşıyor"
      ]
    },
    {
      "cell_type": "code",
      "metadata": {
        "colab": {
          "base_uri": "https://localhost:8080/",
          "height": 274
        },
        "id": "_P1rwu_BWyzd",
        "outputId": "5922f2a1-3512-41b2-fce0-b1730766cd85"
      },
      "source": [
        "PythonDummies = arac_train['age_bin'].str.get_dummies(sep=\",\")\n",
        "Satisfaction=arac_train[\"Sonuc\"]\n",
        "\n",
        "chi2test = SelectKBest(score_func=chi2, k='all') # you can select the first n features as well (k=n)\n",
        "selector = chi2test.fit(PythonDummies, Satisfaction)\n",
        "\n",
        "# summarize scores\n",
        "np.set_printoptions(precision=3)\n",
        "print('Scores  :', selector.scores_, '\\n')\n",
        "print('p_values:', selector.pvalues_, '\\n')\n",
        "features = selector.transform(PythonDummies)\n",
        "\n",
        "print(PythonDummies.columns[selector.get_support()])\n",
        "\n",
        "dfChi2 = pd.DataFrame(data=np.zeros(shape=(PythonDummies.shape[1],2)), columns = ['Feature', 'p-value'])\n",
        "for i in range(PythonDummies.shape[1]):\n",
        "    dfChi2.loc[i,'Feature'] = PythonDummies.columns[i]\n",
        "    dfChi2.loc[i, 'p-value'] = np.round(selector.pvalues_[i],6)\n",
        "dfChi2.sort_values(by='p-value')"
      ],
      "execution_count": null,
      "outputs": [
        {
          "output_type": "stream",
          "text": [
            "Scores  : [2199.591 4659.778 1117.426  123.466 7089.717] \n",
            "\n",
            "p_values: [0.000e+000 0.000e+000 5.389e-245 1.103e-028 0.000e+000] \n",
            "\n",
            "Index(['middle', 'middle_p', 'older', 'older_p', 'young'], dtype='object')\n"
          ],
          "name": "stdout"
        },
        {
          "output_type": "execute_result",
          "data": {
            "text/html": [
              "<div>\n",
              "<style scoped>\n",
              "    .dataframe tbody tr th:only-of-type {\n",
              "        vertical-align: middle;\n",
              "    }\n",
              "\n",
              "    .dataframe tbody tr th {\n",
              "        vertical-align: top;\n",
              "    }\n",
              "\n",
              "    .dataframe thead th {\n",
              "        text-align: right;\n",
              "    }\n",
              "</style>\n",
              "<table border=\"1\" class=\"dataframe\">\n",
              "  <thead>\n",
              "    <tr style=\"text-align: right;\">\n",
              "      <th></th>\n",
              "      <th>Feature</th>\n",
              "      <th>p-value</th>\n",
              "    </tr>\n",
              "  </thead>\n",
              "  <tbody>\n",
              "    <tr>\n",
              "      <th>0</th>\n",
              "      <td>middle</td>\n",
              "      <td>0.0</td>\n",
              "    </tr>\n",
              "    <tr>\n",
              "      <th>1</th>\n",
              "      <td>middle_p</td>\n",
              "      <td>0.0</td>\n",
              "    </tr>\n",
              "    <tr>\n",
              "      <th>2</th>\n",
              "      <td>older</td>\n",
              "      <td>0.0</td>\n",
              "    </tr>\n",
              "    <tr>\n",
              "      <th>3</th>\n",
              "      <td>older_p</td>\n",
              "      <td>0.0</td>\n",
              "    </tr>\n",
              "    <tr>\n",
              "      <th>4</th>\n",
              "      <td>young</td>\n",
              "      <td>0.0</td>\n",
              "    </tr>\n",
              "  </tbody>\n",
              "</table>\n",
              "</div>"
            ],
            "text/plain": [
              "    Feature  p-value\n",
              "0    middle      0.0\n",
              "1  middle_p      0.0\n",
              "2     older      0.0\n",
              "3   older_p      0.0\n",
              "4     young      0.0"
            ]
          },
          "metadata": {
            "tags": []
          },
          "execution_count": 25
        }
      ]
    },
    {
      "cell_type": "code",
      "metadata": {
        "colab": {
          "base_uri": "https://localhost:8080/",
          "height": 190
        },
        "id": "dKyd3o9NXNoL",
        "outputId": "240588ca-6fd8-4867-a38b-049a2a0caed7"
      },
      "source": [
        "cols_to_transform = ['age_bin'] # make a list if more than one column\n",
        "arac_train = pd.get_dummies(arac_train, columns = cols_to_transform,drop_first=True)\n",
        "arac_train.head()"
      ],
      "execution_count": null,
      "outputs": [
        {
          "output_type": "execute_result",
          "data": {
            "text/html": [
              "<div>\n",
              "<style scoped>\n",
              "    .dataframe tbody tr th:only-of-type {\n",
              "        vertical-align: middle;\n",
              "    }\n",
              "\n",
              "    .dataframe tbody tr th {\n",
              "        vertical-align: top;\n",
              "    }\n",
              "\n",
              "    .dataframe thead th {\n",
              "        text-align: right;\n",
              "    }\n",
              "</style>\n",
              "<table border=\"1\" class=\"dataframe\">\n",
              "  <thead>\n",
              "    <tr style=\"text-align: right;\">\n",
              "      <th></th>\n",
              "      <th>Yas</th>\n",
              "      <th>Ehliyet</th>\n",
              "      <th>Sehir</th>\n",
              "      <th>Gecmis_police</th>\n",
              "      <th>Arac_yasi</th>\n",
              "      <th>Hasar_durumu</th>\n",
              "      <th>Yillik_prim</th>\n",
              "      <th>Acenta_no</th>\n",
              "      <th>Sure</th>\n",
              "      <th>Sonuc</th>\n",
              "      <th>Cinsiyet_K</th>\n",
              "      <th>NUMBER</th>\n",
              "      <th>age_bin_middle</th>\n",
              "      <th>age_bin_middle_p</th>\n",
              "      <th>age_bin_older</th>\n",
              "      <th>age_bin_older_p</th>\n",
              "    </tr>\n",
              "  </thead>\n",
              "  <tbody>\n",
              "    <tr>\n",
              "      <th>0</th>\n",
              "      <td>36</td>\n",
              "      <td>Var</td>\n",
              "      <td>Ordu</td>\n",
              "      <td>Yok</td>\n",
              "      <td>1-2 Yil</td>\n",
              "      <td>E</td>\n",
              "      <td>2960.00</td>\n",
              "      <td>147</td>\n",
              "      <td>131</td>\n",
              "      <td>0</td>\n",
              "      <td>0</td>\n",
              "      <td>1</td>\n",
              "      <td>1</td>\n",
              "      <td>0</td>\n",
              "      <td>0</td>\n",
              "      <td>0</td>\n",
              "    </tr>\n",
              "    <tr>\n",
              "      <th>1</th>\n",
              "      <td>31</td>\n",
              "      <td>Var</td>\n",
              "      <td>Gaziantep</td>\n",
              "      <td>Var</td>\n",
              "      <td>&lt; 1 Yil</td>\n",
              "      <td>H</td>\n",
              "      <td>3081.78</td>\n",
              "      <td>177</td>\n",
              "      <td>213</td>\n",
              "      <td>0</td>\n",
              "      <td>0</td>\n",
              "      <td>1</td>\n",
              "      <td>1</td>\n",
              "      <td>0</td>\n",
              "      <td>0</td>\n",
              "      <td>0</td>\n",
              "    </tr>\n",
              "    <tr>\n",
              "      <th>2</th>\n",
              "      <td>31</td>\n",
              "      <td>Var</td>\n",
              "      <td>Kocaeli</td>\n",
              "      <td>Yok</td>\n",
              "      <td>&lt; 1 Yil</td>\n",
              "      <td>E</td>\n",
              "      <td>3672.67</td>\n",
              "      <td>177</td>\n",
              "      <td>72</td>\n",
              "      <td>0</td>\n",
              "      <td>0</td>\n",
              "      <td>1</td>\n",
              "      <td>1</td>\n",
              "      <td>0</td>\n",
              "      <td>0</td>\n",
              "      <td>0</td>\n",
              "    </tr>\n",
              "    <tr>\n",
              "      <th>3</th>\n",
              "      <td>26</td>\n",
              "      <td>Var</td>\n",
              "      <td>Izmir</td>\n",
              "      <td>Var</td>\n",
              "      <td>&lt; 1 Yil</td>\n",
              "      <td>H</td>\n",
              "      <td>3599.89</td>\n",
              "      <td>177</td>\n",
              "      <td>117</td>\n",
              "      <td>0</td>\n",
              "      <td>0</td>\n",
              "      <td>1</td>\n",
              "      <td>0</td>\n",
              "      <td>0</td>\n",
              "      <td>0</td>\n",
              "      <td>0</td>\n",
              "    </tr>\n",
              "    <tr>\n",
              "      <th>4</th>\n",
              "      <td>23</td>\n",
              "      <td>Var</td>\n",
              "      <td>Kocaeli</td>\n",
              "      <td>Yok</td>\n",
              "      <td>&lt; 1 Yil</td>\n",
              "      <td>E</td>\n",
              "      <td>3697.22</td>\n",
              "      <td>177</td>\n",
              "      <td>177</td>\n",
              "      <td>0</td>\n",
              "      <td>0</td>\n",
              "      <td>1</td>\n",
              "      <td>0</td>\n",
              "      <td>0</td>\n",
              "      <td>0</td>\n",
              "      <td>0</td>\n",
              "    </tr>\n",
              "  </tbody>\n",
              "</table>\n",
              "</div>"
            ],
            "text/plain": [
              "   Yas Ehliyet      Sehir  ... age_bin_middle_p age_bin_older age_bin_older_p\n",
              "0   36     Var       Ordu  ...                0             0               0\n",
              "1   31     Var  Gaziantep  ...                0             0               0\n",
              "2   31     Var    Kocaeli  ...                0             0               0\n",
              "3   26     Var      Izmir  ...                0             0               0\n",
              "4   23     Var    Kocaeli  ...                0             0               0\n",
              "\n",
              "[5 rows x 16 columns]"
            ]
          },
          "metadata": {
            "tags": []
          },
          "execution_count": 26
        }
      ]
    },
    {
      "cell_type": "code",
      "metadata": {
        "colab": {
          "base_uri": "https://localhost:8080/",
          "height": 190
        },
        "id": "Va465GKKXXMG",
        "outputId": "fb219389-e569-45e7-a037-09ff8c7b7c7e"
      },
      "source": [
        "cols_to_transform = ['age_bin'] # make a list if more than one column\n",
        "arac_test= pd.get_dummies(arac_test, columns = cols_to_transform,drop_first=True)\n",
        "arac_test.head()"
      ],
      "execution_count": null,
      "outputs": [
        {
          "output_type": "execute_result",
          "data": {
            "text/html": [
              "<div>\n",
              "<style scoped>\n",
              "    .dataframe tbody tr th:only-of-type {\n",
              "        vertical-align: middle;\n",
              "    }\n",
              "\n",
              "    .dataframe tbody tr th {\n",
              "        vertical-align: top;\n",
              "    }\n",
              "\n",
              "    .dataframe thead th {\n",
              "        text-align: right;\n",
              "    }\n",
              "</style>\n",
              "<table border=\"1\" class=\"dataframe\">\n",
              "  <thead>\n",
              "    <tr style=\"text-align: right;\">\n",
              "      <th></th>\n",
              "      <th>Yas</th>\n",
              "      <th>Ehliyet</th>\n",
              "      <th>Sehir</th>\n",
              "      <th>Gecmis_police</th>\n",
              "      <th>Arac_yasi</th>\n",
              "      <th>Hasar_durumu</th>\n",
              "      <th>Yillik_prim</th>\n",
              "      <th>Acenta_no</th>\n",
              "      <th>Sure</th>\n",
              "      <th>Cinsiyet_K</th>\n",
              "      <th>age_bin_middle</th>\n",
              "      <th>age_bin_middle_p</th>\n",
              "      <th>age_bin_older</th>\n",
              "      <th>age_bin_older_p</th>\n",
              "    </tr>\n",
              "  </thead>\n",
              "  <tbody>\n",
              "    <tr>\n",
              "      <th>0</th>\n",
              "      <td>26</td>\n",
              "      <td>Var</td>\n",
              "      <td>Kocaeli</td>\n",
              "      <td>Yok</td>\n",
              "      <td>&lt; 1 Yil</td>\n",
              "      <td>H</td>\n",
              "      <td>2975.56</td>\n",
              "      <td>177</td>\n",
              "      <td>94</td>\n",
              "      <td>1</td>\n",
              "      <td>0</td>\n",
              "      <td>0</td>\n",
              "      <td>0</td>\n",
              "      <td>0</td>\n",
              "    </tr>\n",
              "    <tr>\n",
              "      <th>1</th>\n",
              "      <td>24</td>\n",
              "      <td>Var</td>\n",
              "      <td>Mersin</td>\n",
              "      <td>Var</td>\n",
              "      <td>&lt; 1 Yil</td>\n",
              "      <td>H</td>\n",
              "      <td>2683.33</td>\n",
              "      <td>177</td>\n",
              "      <td>105</td>\n",
              "      <td>1</td>\n",
              "      <td>0</td>\n",
              "      <td>0</td>\n",
              "      <td>0</td>\n",
              "      <td>0</td>\n",
              "    </tr>\n",
              "    <tr>\n",
              "      <th>2</th>\n",
              "      <td>43</td>\n",
              "      <td>Var</td>\n",
              "      <td>Samsun</td>\n",
              "      <td>Yok</td>\n",
              "      <td>1-2 Yil</td>\n",
              "      <td>E</td>\n",
              "      <td>3982.78</td>\n",
              "      <td>149</td>\n",
              "      <td>76</td>\n",
              "      <td>0</td>\n",
              "      <td>0</td>\n",
              "      <td>1</td>\n",
              "      <td>0</td>\n",
              "      <td>0</td>\n",
              "    </tr>\n",
              "    <tr>\n",
              "      <th>3</th>\n",
              "      <td>26</td>\n",
              "      <td>Var</td>\n",
              "      <td>Antalya</td>\n",
              "      <td>Yok</td>\n",
              "      <td>1-2 Yil</td>\n",
              "      <td>E</td>\n",
              "      <td>2716.67</td>\n",
              "      <td>179</td>\n",
              "      <td>193</td>\n",
              "      <td>1</td>\n",
              "      <td>0</td>\n",
              "      <td>0</td>\n",
              "      <td>0</td>\n",
              "      <td>0</td>\n",
              "    </tr>\n",
              "    <tr>\n",
              "      <th>4</th>\n",
              "      <td>22</td>\n",
              "      <td>Var</td>\n",
              "      <td>Bursa</td>\n",
              "      <td>Var</td>\n",
              "      <td>&lt; 1 Yil</td>\n",
              "      <td>H</td>\n",
              "      <td>3301.89</td>\n",
              "      <td>185</td>\n",
              "      <td>224</td>\n",
              "      <td>1</td>\n",
              "      <td>0</td>\n",
              "      <td>0</td>\n",
              "      <td>0</td>\n",
              "      <td>0</td>\n",
              "    </tr>\n",
              "  </tbody>\n",
              "</table>\n",
              "</div>"
            ],
            "text/plain": [
              "   Yas Ehliyet    Sehir  ... age_bin_middle_p age_bin_older age_bin_older_p\n",
              "0   26     Var  Kocaeli  ...                0             0               0\n",
              "1   24     Var   Mersin  ...                0             0               0\n",
              "2   43     Var   Samsun  ...                1             0               0\n",
              "3   26     Var  Antalya  ...                0             0               0\n",
              "4   22     Var    Bursa  ...                0             0               0\n",
              "\n",
              "[5 rows x 14 columns]"
            ]
          },
          "metadata": {
            "tags": []
          },
          "execution_count": 27
        }
      ]
    },
    {
      "cell_type": "markdown",
      "metadata": {
        "id": "GAU1RdVhWAK6"
      },
      "source": [
        "# **Ehliyet**"
      ]
    },
    {
      "cell_type": "code",
      "metadata": {
        "colab": {
          "base_uri": "https://localhost:8080/",
          "height": 417
        },
        "id": "rt4_SVnYWCNl",
        "outputId": "ea1cfeda-f6fc-46de-97b0-f4c57c58f444"
      },
      "source": [
        "table=pd.crosstab(arac_train.Ehliyet, arac_train.Sonuc)\n",
        "table.div(table.sum(1).astype(float), axis=0).plot(kind='bar', figsize=(10,6), stacked=True)\n",
        "plt.title('Ehliyet vs Sonuc')\n",
        "plt.xlabel('Ehliyet')\n",
        "plt.ylabel('Sonuc')\n",
        "plt.show()"
      ],
      "execution_count": null,
      "outputs": [
        {
          "output_type": "display_data",
          "data": {
            "image/png": "[encoded data removed]",
            "text/plain": [
              "<Figure size 720x432 with 1 Axes>"
            ]
          },
          "metadata": {
            "tags": []
          }
        }
      ]
    },
    {
      "cell_type": "code",
      "metadata": {
        "id": "DWPymXIzWKmM"
      },
      "source": [
        "cols_to_transform = ['Ehliyet'] # make a list if more than one column\n",
        "arac_train = pd.get_dummies(arac_train, columns = cols_to_transform,drop_first=True)\n",
        "cols_to_transform = ['Ehliyet'] # make a list if more than one column\n",
        "arac_test = pd.get_dummies(arac_test, columns = cols_to_transform,drop_first=True)"
      ],
      "execution_count": null,
      "outputs": []
    },
    {
      "cell_type": "code",
      "metadata": {
        "colab": {
          "base_uri": "https://localhost:8080/",
          "height": 104
        },
        "id": "SaMIxJCvYkPM",
        "outputId": "dcffe3ec-2823-4cd0-f2bf-2cb49183f10b"
      },
      "source": [
        "arac_train.head(2)"
      ],
      "execution_count": null,
      "outputs": [
        {
          "output_type": "execute_result",
          "data": {
            "text/html": [
              "<div>\n",
              "<style scoped>\n",
              "    .dataframe tbody tr th:only-of-type {\n",
              "        vertical-align: middle;\n",
              "    }\n",
              "\n",
              "    .dataframe tbody tr th {\n",
              "        vertical-align: top;\n",
              "    }\n",
              "\n",
              "    .dataframe thead th {\n",
              "        text-align: right;\n",
              "    }\n",
              "</style>\n",
              "<table border=\"1\" class=\"dataframe\">\n",
              "  <thead>\n",
              "    <tr style=\"text-align: right;\">\n",
              "      <th></th>\n",
              "      <th>Yas</th>\n",
              "      <th>Sehir</th>\n",
              "      <th>Gecmis_police</th>\n",
              "      <th>Arac_yasi</th>\n",
              "      <th>Hasar_durumu</th>\n",
              "      <th>Yillik_prim</th>\n",
              "      <th>Acenta_no</th>\n",
              "      <th>Sure</th>\n",
              "      <th>Sonuc</th>\n",
              "      <th>Cinsiyet_K</th>\n",
              "      <th>NUMBER</th>\n",
              "      <th>age_bin_middle</th>\n",
              "      <th>age_bin_middle_p</th>\n",
              "      <th>age_bin_older</th>\n",
              "      <th>age_bin_older_p</th>\n",
              "      <th>Ehliyet_Yok</th>\n",
              "    </tr>\n",
              "  </thead>\n",
              "  <tbody>\n",
              "    <tr>\n",
              "      <th>0</th>\n",
              "      <td>36</td>\n",
              "      <td>Ordu</td>\n",
              "      <td>Yok</td>\n",
              "      <td>1-2 Yil</td>\n",
              "      <td>E</td>\n",
              "      <td>2960.00</td>\n",
              "      <td>147</td>\n",
              "      <td>131</td>\n",
              "      <td>0</td>\n",
              "      <td>0</td>\n",
              "      <td>1</td>\n",
              "      <td>1</td>\n",
              "      <td>0</td>\n",
              "      <td>0</td>\n",
              "      <td>0</td>\n",
              "      <td>0</td>\n",
              "    </tr>\n",
              "    <tr>\n",
              "      <th>1</th>\n",
              "      <td>31</td>\n",
              "      <td>Gaziantep</td>\n",
              "      <td>Var</td>\n",
              "      <td>&lt; 1 Yil</td>\n",
              "      <td>H</td>\n",
              "      <td>3081.78</td>\n",
              "      <td>177</td>\n",
              "      <td>213</td>\n",
              "      <td>0</td>\n",
              "      <td>0</td>\n",
              "      <td>1</td>\n",
              "      <td>1</td>\n",
              "      <td>0</td>\n",
              "      <td>0</td>\n",
              "      <td>0</td>\n",
              "      <td>0</td>\n",
              "    </tr>\n",
              "  </tbody>\n",
              "</table>\n",
              "</div>"
            ],
            "text/plain": [
              "   Yas      Sehir Gecmis_police  ... age_bin_older age_bin_older_p  Ehliyet_Yok\n",
              "0   36       Ordu           Yok  ...             0               0            0\n",
              "1   31  Gaziantep           Var  ...             0               0            0\n",
              "\n",
              "[2 rows x 16 columns]"
            ]
          },
          "metadata": {
            "tags": []
          },
          "execution_count": 30
        }
      ]
    },
    {
      "cell_type": "code",
      "metadata": {
        "colab": {
          "base_uri": "https://localhost:8080/",
          "height": 104
        },
        "id": "wpPt_ueHYkrM",
        "outputId": "6bae05ee-55bb-4e62-dfd9-2ba88275a1ba"
      },
      "source": [
        "arac_test.head(2)"
      ],
      "execution_count": null,
      "outputs": [
        {
          "output_type": "execute_result",
          "data": {
            "text/html": [
              "<div>\n",
              "<style scoped>\n",
              "    .dataframe tbody tr th:only-of-type {\n",
              "        vertical-align: middle;\n",
              "    }\n",
              "\n",
              "    .dataframe tbody tr th {\n",
              "        vertical-align: top;\n",
              "    }\n",
              "\n",
              "    .dataframe thead th {\n",
              "        text-align: right;\n",
              "    }\n",
              "</style>\n",
              "<table border=\"1\" class=\"dataframe\">\n",
              "  <thead>\n",
              "    <tr style=\"text-align: right;\">\n",
              "      <th></th>\n",
              "      <th>Yas</th>\n",
              "      <th>Sehir</th>\n",
              "      <th>Gecmis_police</th>\n",
              "      <th>Arac_yasi</th>\n",
              "      <th>Hasar_durumu</th>\n",
              "      <th>Yillik_prim</th>\n",
              "      <th>Acenta_no</th>\n",
              "      <th>Sure</th>\n",
              "      <th>Cinsiyet_K</th>\n",
              "      <th>age_bin_middle</th>\n",
              "      <th>age_bin_middle_p</th>\n",
              "      <th>age_bin_older</th>\n",
              "      <th>age_bin_older_p</th>\n",
              "      <th>Ehliyet_Yok</th>\n",
              "    </tr>\n",
              "  </thead>\n",
              "  <tbody>\n",
              "    <tr>\n",
              "      <th>0</th>\n",
              "      <td>26</td>\n",
              "      <td>Kocaeli</td>\n",
              "      <td>Yok</td>\n",
              "      <td>&lt; 1 Yil</td>\n",
              "      <td>H</td>\n",
              "      <td>2975.56</td>\n",
              "      <td>177</td>\n",
              "      <td>94</td>\n",
              "      <td>1</td>\n",
              "      <td>0</td>\n",
              "      <td>0</td>\n",
              "      <td>0</td>\n",
              "      <td>0</td>\n",
              "      <td>0</td>\n",
              "    </tr>\n",
              "    <tr>\n",
              "      <th>1</th>\n",
              "      <td>24</td>\n",
              "      <td>Mersin</td>\n",
              "      <td>Var</td>\n",
              "      <td>&lt; 1 Yil</td>\n",
              "      <td>H</td>\n",
              "      <td>2683.33</td>\n",
              "      <td>177</td>\n",
              "      <td>105</td>\n",
              "      <td>1</td>\n",
              "      <td>0</td>\n",
              "      <td>0</td>\n",
              "      <td>0</td>\n",
              "      <td>0</td>\n",
              "      <td>0</td>\n",
              "    </tr>\n",
              "  </tbody>\n",
              "</table>\n",
              "</div>"
            ],
            "text/plain": [
              "   Yas    Sehir Gecmis_police  ... age_bin_older age_bin_older_p  Ehliyet_Yok\n",
              "0   26  Kocaeli           Yok  ...             0               0            0\n",
              "1   24   Mersin           Var  ...             0               0            0\n",
              "\n",
              "[2 rows x 14 columns]"
            ]
          },
          "metadata": {
            "tags": []
          },
          "execution_count": 31
        }
      ]
    },
    {
      "cell_type": "markdown",
      "metadata": {
        "id": "xgjtFqRCK41i"
      },
      "source": [
        "# **SEHIR**"
      ]
    },
    {
      "cell_type": "code",
      "metadata": {
        "colab": {
          "base_uri": "https://localhost:8080/",
          "height": 462
        },
        "id": "bAQKSRURKuTc",
        "outputId": "e168649b-b3c0-421b-bb9c-9a42ec1f1b0c"
      },
      "source": [
        "table=pd.crosstab(arac_train.Sehir, arac_train.Sonuc)\n",
        "table.div(table.sum(1).astype(float), axis=0).plot(kind='bar', figsize=(10,6), stacked=True)\n",
        "plt.title('Sehir vs Sonuc')\n",
        "plt.xlabel('Sehir')\n",
        "plt.ylabel('Sonuc')\n",
        "plt.show()"
      ],
      "execution_count": null,
      "outputs": [
        {
          "output_type": "display_data",
          "data": {
            "image/png": "[encoded data removed]",
            "text/plain": [
              "<Figure size 720x432 with 1 Axes>"
            ]
          },
          "metadata": {
            "tags": []
          }
        }
      ]
    },
    {
      "cell_type": "code",
      "metadata": {
        "colab": {
          "base_uri": "https://localhost:8080/",
          "height": 1000
        },
        "id": "itgmimTKMn9k",
        "outputId": "c2ded184-615d-40bd-9bf1-d51613f44680"
      },
      "source": [
        "PythonDummies = arac_train['Sehir'].str.get_dummies(sep=\",\")\n",
        "Satisfaction=arac_train[\"Sonuc\"]\n",
        "\n",
        "chi2test = SelectKBest(score_func=chi2, k='all') # you can select the first n features as well (k=n)\n",
        "selector = chi2test.fit(PythonDummies, Satisfaction)\n",
        "\n",
        "# summarize scores\n",
        "np.set_printoptions(precision=3)\n",
        "print('Scores  :', selector.scores_, '\\n')\n",
        "print('p_values:', selector.pvalues_, '\\n')\n",
        "features = selector.transform(PythonDummies)\n",
        "\n",
        "print(PythonDummies.columns[selector.get_support()])\n",
        "\n",
        "dfChi2 = pd.DataFrame(data=np.zeros(shape=(PythonDummies.shape[1],2)), columns = ['Feature', 'p-value'])\n",
        "for i in range(PythonDummies.shape[1]):\n",
        "    dfChi2.loc[i,'Feature'] = PythonDummies.columns[i]\n",
        "    dfChi2.loc[i, 'p-value'] = np.round(selector.pvalues_[i],6)\n",
        "dfChi2.sort_values(by='p-value')"
      ],
      "execution_count": null,
      "outputs": [
        {
          "output_type": "stream",
          "text": [
            "Scores  : [6.253e+00 4.859e+01 1.308e+01 5.709e+00 1.173e+00 2.198e+02 2.381e+02\n",
            " 5.794e+01 7.147e+01 9.515e+01 4.314e+00 1.208e+01 7.912e+00 1.262e+02\n",
            " 2.689e+01 3.181e+01 1.797e+00 1.918e+01 2.005e+01 3.407e+01 2.676e+02\n",
            " 1.940e+01 1.331e+02 1.949e+01 3.246e+03 6.261e+01 7.942e+00 7.102e+01\n",
            " 2.366e+02 1.797e+01 4.736e+01 2.995e+01 2.167e-01 1.778e-01 7.257e+00\n",
            " 1.094e-01 8.309e+01 1.121e+01 1.890e-01 3.108e+01 3.072e+01 9.338e+01\n",
            " 7.472e+00 1.531e+01 5.011e+01 1.952e-01 1.057e+02 1.506e+01 1.385e+02\n",
            " 2.783e-04 9.439e+00 3.240e+01 1.145e+01] \n",
            "\n",
            "p_values: [1.240e-02 3.148e-12 2.980e-04 1.687e-02 2.788e-01 9.984e-50 1.023e-53\n",
            " 2.704e-14 2.815e-17 1.764e-22 3.781e-02 5.090e-04 4.911e-03 2.825e-29\n",
            " 2.149e-07 1.701e-08 1.801e-01 1.189e-05 7.561e-06 5.317e-09 3.691e-60\n",
            " 1.062e-05 8.599e-31 1.012e-05 0.000e+00 2.523e-15 4.830e-03 3.535e-17\n",
            " 2.189e-53 2.246e-05 5.898e-12 4.422e-08 6.415e-01 6.733e-01 7.061e-03\n",
            " 7.409e-01 7.827e-20 8.116e-04 6.638e-01 2.473e-08 2.978e-08 4.320e-22\n",
            " 6.265e-03 9.110e-05 1.450e-12 6.586e-01 8.404e-25 1.042e-04 5.711e-32\n",
            " 9.867e-01 2.125e-03 1.256e-08 7.161e-04] \n",
            "\n",
            "Index(['Adana', 'Adiyaman', 'Afyon', 'Agri', 'Aksaray', 'Ankara', 'Antalya',\n",
            "       'Aydin', 'Balikesir', 'Batman', 'Bursa', 'Canakkale', 'Corum',\n",
            "       'Denizli', 'Diyarbakir', 'Duzce', 'Edirne', 'Elazig', 'Erzurum',\n",
            "       'Eskisehir', 'Gaziantep', 'Giresun', 'Hatay', 'Isparta', 'Istanbul',\n",
            "       'Izmir', 'Kastamonu', 'Kayseri', 'Kocaeli', 'Konya', 'Kutahya',\n",
            "       'Malatya', 'Manisa', 'Maras', 'Mardin', 'Mersin', 'Mugla', 'Mus',\n",
            "       'Nigde', 'Ordu', 'Osmaniye', 'Sakarya', 'Samsun', 'Sirnak', 'Sivas',\n",
            "       'Tekirdag', 'Tokat', 'Trabzon', 'Urfa', 'Usak', 'Van', 'Yozgat',\n",
            "       'Zonguldak'],\n",
            "      dtype='object')\n"
          ],
          "name": "stdout"
        },
        {
          "output_type": "execute_result",
          "data": {
            "text/html": [
              "<div>\n",
              "<style scoped>\n",
              "    .dataframe tbody tr th:only-of-type {\n",
              "        vertical-align: middle;\n",
              "    }\n",
              "\n",
              "    .dataframe tbody tr th {\n",
              "        vertical-align: top;\n",
              "    }\n",
              "\n",
              "    .dataframe thead th {\n",
              "        text-align: right;\n",
              "    }\n",
              "</style>\n",
              "<table border=\"1\" class=\"dataframe\">\n",
              "  <thead>\n",
              "    <tr style=\"text-align: right;\">\n",
              "      <th></th>\n",
              "      <th>Feature</th>\n",
              "      <th>p-value</th>\n",
              "    </tr>\n",
              "  </thead>\n",
              "  <tbody>\n",
              "    <tr>\n",
              "      <th>40</th>\n",
              "      <td>Osmaniye</td>\n",
              "      <td>0.000000</td>\n",
              "    </tr>\n",
              "    <tr>\n",
              "      <th>51</th>\n",
              "      <td>Yozgat</td>\n",
              "      <td>0.000000</td>\n",
              "    </tr>\n",
              "    <tr>\n",
              "      <th>22</th>\n",
              "      <td>Hatay</td>\n",
              "      <td>0.000000</td>\n",
              "    </tr>\n",
              "    <tr>\n",
              "      <th>27</th>\n",
              "      <td>Kayseri</td>\n",
              "      <td>0.000000</td>\n",
              "    </tr>\n",
              "    <tr>\n",
              "      <th>20</th>\n",
              "      <td>Gaziantep</td>\n",
              "      <td>0.000000</td>\n",
              "    </tr>\n",
              "    <tr>\n",
              "      <th>19</th>\n",
              "      <td>Eskisehir</td>\n",
              "      <td>0.000000</td>\n",
              "    </tr>\n",
              "    <tr>\n",
              "      <th>36</th>\n",
              "      <td>Mugla</td>\n",
              "      <td>0.000000</td>\n",
              "    </tr>\n",
              "    <tr>\n",
              "      <th>41</th>\n",
              "      <td>Sakarya</td>\n",
              "      <td>0.000000</td>\n",
              "    </tr>\n",
              "    <tr>\n",
              "      <th>44</th>\n",
              "      <td>Sivas</td>\n",
              "      <td>0.000000</td>\n",
              "    </tr>\n",
              "    <tr>\n",
              "      <th>15</th>\n",
              "      <td>Duzce</td>\n",
              "      <td>0.000000</td>\n",
              "    </tr>\n",
              "    <tr>\n",
              "      <th>14</th>\n",
              "      <td>Diyarbakir</td>\n",
              "      <td>0.000000</td>\n",
              "    </tr>\n",
              "    <tr>\n",
              "      <th>13</th>\n",
              "      <td>Denizli</td>\n",
              "      <td>0.000000</td>\n",
              "    </tr>\n",
              "    <tr>\n",
              "      <th>46</th>\n",
              "      <td>Tokat</td>\n",
              "      <td>0.000000</td>\n",
              "    </tr>\n",
              "    <tr>\n",
              "      <th>28</th>\n",
              "      <td>Kocaeli</td>\n",
              "      <td>0.000000</td>\n",
              "    </tr>\n",
              "    <tr>\n",
              "      <th>30</th>\n",
              "      <td>Kutahya</td>\n",
              "      <td>0.000000</td>\n",
              "    </tr>\n",
              "    <tr>\n",
              "      <th>9</th>\n",
              "      <td>Batman</td>\n",
              "      <td>0.000000</td>\n",
              "    </tr>\n",
              "    <tr>\n",
              "      <th>8</th>\n",
              "      <td>Balikesir</td>\n",
              "      <td>0.000000</td>\n",
              "    </tr>\n",
              "    <tr>\n",
              "      <th>7</th>\n",
              "      <td>Aydin</td>\n",
              "      <td>0.000000</td>\n",
              "    </tr>\n",
              "    <tr>\n",
              "      <th>6</th>\n",
              "      <td>Antalya</td>\n",
              "      <td>0.000000</td>\n",
              "    </tr>\n",
              "    <tr>\n",
              "      <th>5</th>\n",
              "      <td>Ankara</td>\n",
              "      <td>0.000000</td>\n",
              "    </tr>\n",
              "    <tr>\n",
              "      <th>48</th>\n",
              "      <td>Urfa</td>\n",
              "      <td>0.000000</td>\n",
              "    </tr>\n",
              "    <tr>\n",
              "      <th>39</th>\n",
              "      <td>Ordu</td>\n",
              "      <td>0.000000</td>\n",
              "    </tr>\n",
              "    <tr>\n",
              "      <th>31</th>\n",
              "      <td>Malatya</td>\n",
              "      <td>0.000000</td>\n",
              "    </tr>\n",
              "    <tr>\n",
              "      <th>1</th>\n",
              "      <td>Adiyaman</td>\n",
              "      <td>0.000000</td>\n",
              "    </tr>\n",
              "    <tr>\n",
              "      <th>24</th>\n",
              "      <td>Istanbul</td>\n",
              "      <td>0.000000</td>\n",
              "    </tr>\n",
              "    <tr>\n",
              "      <th>25</th>\n",
              "      <td>Izmir</td>\n",
              "      <td>0.000000</td>\n",
              "    </tr>\n",
              "    <tr>\n",
              "      <th>18</th>\n",
              "      <td>Erzurum</td>\n",
              "      <td>0.000008</td>\n",
              "    </tr>\n",
              "    <tr>\n",
              "      <th>23</th>\n",
              "      <td>Isparta</td>\n",
              "      <td>0.000010</td>\n",
              "    </tr>\n",
              "    <tr>\n",
              "      <th>21</th>\n",
              "      <td>Giresun</td>\n",
              "      <td>0.000011</td>\n",
              "    </tr>\n",
              "    <tr>\n",
              "      <th>17</th>\n",
              "      <td>Elazig</td>\n",
              "      <td>0.000012</td>\n",
              "    </tr>\n",
              "    <tr>\n",
              "      <th>29</th>\n",
              "      <td>Konya</td>\n",
              "      <td>0.000022</td>\n",
              "    </tr>\n",
              "    <tr>\n",
              "      <th>43</th>\n",
              "      <td>Sirnak</td>\n",
              "      <td>0.000091</td>\n",
              "    </tr>\n",
              "    <tr>\n",
              "      <th>47</th>\n",
              "      <td>Trabzon</td>\n",
              "      <td>0.000104</td>\n",
              "    </tr>\n",
              "    <tr>\n",
              "      <th>2</th>\n",
              "      <td>Afyon</td>\n",
              "      <td>0.000298</td>\n",
              "    </tr>\n",
              "    <tr>\n",
              "      <th>11</th>\n",
              "      <td>Canakkale</td>\n",
              "      <td>0.000509</td>\n",
              "    </tr>\n",
              "    <tr>\n",
              "      <th>52</th>\n",
              "      <td>Zonguldak</td>\n",
              "      <td>0.000716</td>\n",
              "    </tr>\n",
              "    <tr>\n",
              "      <th>37</th>\n",
              "      <td>Mus</td>\n",
              "      <td>0.000812</td>\n",
              "    </tr>\n",
              "    <tr>\n",
              "      <th>50</th>\n",
              "      <td>Van</td>\n",
              "      <td>0.002125</td>\n",
              "    </tr>\n",
              "    <tr>\n",
              "      <th>26</th>\n",
              "      <td>Kastamonu</td>\n",
              "      <td>0.004830</td>\n",
              "    </tr>\n",
              "    <tr>\n",
              "      <th>12</th>\n",
              "      <td>Corum</td>\n",
              "      <td>0.004911</td>\n",
              "    </tr>\n",
              "    <tr>\n",
              "      <th>42</th>\n",
              "      <td>Samsun</td>\n",
              "      <td>0.006265</td>\n",
              "    </tr>\n",
              "    <tr>\n",
              "      <th>34</th>\n",
              "      <td>Mardin</td>\n",
              "      <td>0.007061</td>\n",
              "    </tr>\n",
              "    <tr>\n",
              "      <th>0</th>\n",
              "      <td>Adana</td>\n",
              "      <td>0.012395</td>\n",
              "    </tr>\n",
              "    <tr>\n",
              "      <th>3</th>\n",
              "      <td>Agri</td>\n",
              "      <td>0.016874</td>\n",
              "    </tr>\n",
              "    <tr>\n",
              "      <th>10</th>\n",
              "      <td>Bursa</td>\n",
              "      <td>0.037811</td>\n",
              "    </tr>\n",
              "    <tr>\n",
              "      <th>16</th>\n",
              "      <td>Edirne</td>\n",
              "      <td>0.180057</td>\n",
              "    </tr>\n",
              "    <tr>\n",
              "      <th>4</th>\n",
              "      <td>Aksaray</td>\n",
              "      <td>0.278773</td>\n",
              "    </tr>\n",
              "    <tr>\n",
              "      <th>32</th>\n",
              "      <td>Manisa</td>\n",
              "      <td>0.641544</td>\n",
              "    </tr>\n",
              "    <tr>\n",
              "      <th>45</th>\n",
              "      <td>Tekirdag</td>\n",
              "      <td>0.658614</td>\n",
              "    </tr>\n",
              "    <tr>\n",
              "      <th>38</th>\n",
              "      <td>Nigde</td>\n",
              "      <td>0.663758</td>\n",
              "    </tr>\n",
              "    <tr>\n",
              "      <th>33</th>\n",
              "      <td>Maras</td>\n",
              "      <td>0.673263</td>\n",
              "    </tr>\n",
              "    <tr>\n",
              "      <th>35</th>\n",
              "      <td>Mersin</td>\n",
              "      <td>0.740862</td>\n",
              "    </tr>\n",
              "    <tr>\n",
              "      <th>49</th>\n",
              "      <td>Usak</td>\n",
              "      <td>0.986690</td>\n",
              "    </tr>\n",
              "  </tbody>\n",
              "</table>\n",
              "</div>"
            ],
            "text/plain": [
              "       Feature   p-value\n",
              "40    Osmaniye  0.000000\n",
              "51      Yozgat  0.000000\n",
              "22       Hatay  0.000000\n",
              "27     Kayseri  0.000000\n",
              "20   Gaziantep  0.000000\n",
              "19   Eskisehir  0.000000\n",
              "36       Mugla  0.000000\n",
              "41     Sakarya  0.000000\n",
              "44       Sivas  0.000000\n",
              "15       Duzce  0.000000\n",
              "14  Diyarbakir  0.000000\n",
              "13     Denizli  0.000000\n",
              "46       Tokat  0.000000\n",
              "28     Kocaeli  0.000000\n",
              "30     Kutahya  0.000000\n",
              "9       Batman  0.000000\n",
              "8    Balikesir  0.000000\n",
              "7        Aydin  0.000000\n",
              "6      Antalya  0.000000\n",
              "5       Ankara  0.000000\n",
              "48        Urfa  0.000000\n",
              "39        Ordu  0.000000\n",
              "31     Malatya  0.000000\n",
              "1     Adiyaman  0.000000\n",
              "24    Istanbul  0.000000\n",
              "25       Izmir  0.000000\n",
              "18     Erzurum  0.000008\n",
              "23     Isparta  0.000010\n",
              "21     Giresun  0.000011\n",
              "17      Elazig  0.000012\n",
              "29       Konya  0.000022\n",
              "43      Sirnak  0.000091\n",
              "47     Trabzon  0.000104\n",
              "2        Afyon  0.000298\n",
              "11   Canakkale  0.000509\n",
              "52   Zonguldak  0.000716\n",
              "37         Mus  0.000812\n",
              "50         Van  0.002125\n",
              "26   Kastamonu  0.004830\n",
              "12       Corum  0.004911\n",
              "42      Samsun  0.006265\n",
              "34      Mardin  0.007061\n",
              "0        Adana  0.012395\n",
              "3         Agri  0.016874\n",
              "10       Bursa  0.037811\n",
              "16      Edirne  0.180057\n",
              "4      Aksaray  0.278773\n",
              "32      Manisa  0.641544\n",
              "45    Tekirdag  0.658614\n",
              "38       Nigde  0.663758\n",
              "33       Maras  0.673263\n",
              "35      Mersin  0.740862\n",
              "49        Usak  0.986690"
            ]
          },
          "metadata": {
            "tags": []
          },
          "execution_count": 33
        }
      ]
    },
    {
      "cell_type": "code",
      "metadata": {
        "id": "cdeLj80HNajQ"
      },
      "source": [
        "cols_to_transform = ['Sehir'] # make a list if more than one column\n",
        "arac_train = pd.get_dummies(arac_train, columns = cols_to_transform)"
      ],
      "execution_count": null,
      "outputs": []
    },
    {
      "cell_type": "code",
      "metadata": {
        "id": "q61YfNecOJQ0"
      },
      "source": [
        "cols_to_transform = ['Sehir'] # make a list if more than one column\n",
        "arac_test = pd.get_dummies(arac_test, columns = cols_to_transform)"
      ],
      "execution_count": null,
      "outputs": []
    },
    {
      "cell_type": "code",
      "metadata": {
        "id": "HZVhVQLrNk2x"
      },
      "source": [
        "arac_train=arac_train.drop(['Sehir_Usak', 'Sehir_Mersin','Sehir_Maras','Sehir_Nigde','Sehir_Tekirdag','Sehir_Manisa','Sehir_Aksaray','Sehir_Edirne','Sehir_Bursa'], axis=1)"
      ],
      "execution_count": null,
      "outputs": []
    },
    {
      "cell_type": "code",
      "metadata": {
        "id": "FO0w12y6OM3q"
      },
      "source": [
        "arac_test=arac_test.drop(['Sehir_Usak', 'Sehir_Mersin','Sehir_Maras','Sehir_Nigde','Sehir_Tekirdag','Sehir_Manisa','Sehir_Aksaray','Sehir_Edirne','Sehir_Bursa'], axis=1)"
      ],
      "execution_count": null,
      "outputs": []
    },
    {
      "cell_type": "code",
      "metadata": {
        "colab": {
          "base_uri": "https://localhost:8080/",
          "height": 95
        },
        "id": "biGidllZNaaq",
        "outputId": "8df893ed-c2cd-4602-d8ae-74084d66e127"
      },
      "source": [
        "arac_train.head(1)"
      ],
      "execution_count": null,
      "outputs": [
        {
          "output_type": "execute_result",
          "data": {
            "text/html": [
              "<div>\n",
              "<style scoped>\n",
              "    .dataframe tbody tr th:only-of-type {\n",
              "        vertical-align: middle;\n",
              "    }\n",
              "\n",
              "    .dataframe tbody tr th {\n",
              "        vertical-align: top;\n",
              "    }\n",
              "\n",
              "    .dataframe thead th {\n",
              "        text-align: right;\n",
              "    }\n",
              "</style>\n",
              "<table border=\"1\" class=\"dataframe\">\n",
              "  <thead>\n",
              "    <tr style=\"text-align: right;\">\n",
              "      <th></th>\n",
              "      <th>Yas</th>\n",
              "      <th>Gecmis_police</th>\n",
              "      <th>Arac_yasi</th>\n",
              "      <th>Hasar_durumu</th>\n",
              "      <th>Yillik_prim</th>\n",
              "      <th>Acenta_no</th>\n",
              "      <th>Sure</th>\n",
              "      <th>Sonuc</th>\n",
              "      <th>Cinsiyet_K</th>\n",
              "      <th>NUMBER</th>\n",
              "      <th>age_bin_middle</th>\n",
              "      <th>age_bin_middle_p</th>\n",
              "      <th>age_bin_older</th>\n",
              "      <th>age_bin_older_p</th>\n",
              "      <th>Ehliyet_Yok</th>\n",
              "      <th>Sehir_Adana</th>\n",
              "      <th>Sehir_Adiyaman</th>\n",
              "      <th>Sehir_Afyon</th>\n",
              "      <th>Sehir_Agri</th>\n",
              "      <th>Sehir_Ankara</th>\n",
              "      <th>Sehir_Antalya</th>\n",
              "      <th>Sehir_Aydin</th>\n",
              "      <th>Sehir_Balikesir</th>\n",
              "      <th>Sehir_Batman</th>\n",
              "      <th>Sehir_Canakkale</th>\n",
              "      <th>Sehir_Corum</th>\n",
              "      <th>Sehir_Denizli</th>\n",
              "      <th>Sehir_Diyarbakir</th>\n",
              "      <th>Sehir_Duzce</th>\n",
              "      <th>Sehir_Elazig</th>\n",
              "      <th>Sehir_Erzurum</th>\n",
              "      <th>Sehir_Eskisehir</th>\n",
              "      <th>Sehir_Gaziantep</th>\n",
              "      <th>Sehir_Giresun</th>\n",
              "      <th>Sehir_Hatay</th>\n",
              "      <th>Sehir_Isparta</th>\n",
              "      <th>Sehir_Istanbul</th>\n",
              "      <th>Sehir_Izmir</th>\n",
              "      <th>Sehir_Kastamonu</th>\n",
              "      <th>Sehir_Kayseri</th>\n",
              "      <th>Sehir_Kocaeli</th>\n",
              "      <th>Sehir_Konya</th>\n",
              "      <th>Sehir_Kutahya</th>\n",
              "      <th>Sehir_Malatya</th>\n",
              "      <th>Sehir_Mardin</th>\n",
              "      <th>Sehir_Mugla</th>\n",
              "      <th>Sehir_Mus</th>\n",
              "      <th>Sehir_Ordu</th>\n",
              "      <th>Sehir_Osmaniye</th>\n",
              "      <th>Sehir_Sakarya</th>\n",
              "      <th>Sehir_Samsun</th>\n",
              "      <th>Sehir_Sirnak</th>\n",
              "      <th>Sehir_Sivas</th>\n",
              "      <th>Sehir_Tokat</th>\n",
              "      <th>Sehir_Trabzon</th>\n",
              "      <th>Sehir_Urfa</th>\n",
              "      <th>Sehir_Van</th>\n",
              "      <th>Sehir_Yozgat</th>\n",
              "      <th>Sehir_Zonguldak</th>\n",
              "    </tr>\n",
              "  </thead>\n",
              "  <tbody>\n",
              "    <tr>\n",
              "      <th>0</th>\n",
              "      <td>36</td>\n",
              "      <td>Yok</td>\n",
              "      <td>1-2 Yil</td>\n",
              "      <td>E</td>\n",
              "      <td>2960.0</td>\n",
              "      <td>147</td>\n",
              "      <td>131</td>\n",
              "      <td>0</td>\n",
              "      <td>0</td>\n",
              "      <td>1</td>\n",
              "      <td>1</td>\n",
              "      <td>0</td>\n",
              "      <td>0</td>\n",
              "      <td>0</td>\n",
              "      <td>0</td>\n",
              "      <td>0</td>\n",
              "      <td>0</td>\n",
              "      <td>0</td>\n",
              "      <td>0</td>\n",
              "      <td>0</td>\n",
              "      <td>0</td>\n",
              "      <td>0</td>\n",
              "      <td>0</td>\n",
              "      <td>0</td>\n",
              "      <td>0</td>\n",
              "      <td>0</td>\n",
              "      <td>0</td>\n",
              "      <td>0</td>\n",
              "      <td>0</td>\n",
              "      <td>0</td>\n",
              "      <td>0</td>\n",
              "      <td>0</td>\n",
              "      <td>0</td>\n",
              "      <td>0</td>\n",
              "      <td>0</td>\n",
              "      <td>0</td>\n",
              "      <td>0</td>\n",
              "      <td>0</td>\n",
              "      <td>0</td>\n",
              "      <td>0</td>\n",
              "      <td>0</td>\n",
              "      <td>0</td>\n",
              "      <td>0</td>\n",
              "      <td>0</td>\n",
              "      <td>0</td>\n",
              "      <td>0</td>\n",
              "      <td>0</td>\n",
              "      <td>1</td>\n",
              "      <td>0</td>\n",
              "      <td>0</td>\n",
              "      <td>0</td>\n",
              "      <td>0</td>\n",
              "      <td>0</td>\n",
              "      <td>0</td>\n",
              "      <td>0</td>\n",
              "      <td>0</td>\n",
              "      <td>0</td>\n",
              "      <td>0</td>\n",
              "      <td>0</td>\n",
              "    </tr>\n",
              "  </tbody>\n",
              "</table>\n",
              "</div>"
            ],
            "text/plain": [
              "   Yas Gecmis_police Arac_yasi  ... Sehir_Van  Sehir_Yozgat  Sehir_Zonguldak\n",
              "0   36           Yok   1-2 Yil  ...         0             0                0\n",
              "\n",
              "[1 rows x 59 columns]"
            ]
          },
          "metadata": {
            "tags": []
          },
          "execution_count": 38
        }
      ]
    },
    {
      "cell_type": "code",
      "metadata": {
        "colab": {
          "base_uri": "https://localhost:8080/",
          "height": 95
        },
        "id": "boGr8U-wY39H",
        "outputId": "746fc028-53c3-4dcb-f67b-95a012993801"
      },
      "source": [
        "arac_test.head(1)"
      ],
      "execution_count": null,
      "outputs": [
        {
          "output_type": "execute_result",
          "data": {
            "text/html": [
              "<div>\n",
              "<style scoped>\n",
              "    .dataframe tbody tr th:only-of-type {\n",
              "        vertical-align: middle;\n",
              "    }\n",
              "\n",
              "    .dataframe tbody tr th {\n",
              "        vertical-align: top;\n",
              "    }\n",
              "\n",
              "    .dataframe thead th {\n",
              "        text-align: right;\n",
              "    }\n",
              "</style>\n",
              "<table border=\"1\" class=\"dataframe\">\n",
              "  <thead>\n",
              "    <tr style=\"text-align: right;\">\n",
              "      <th></th>\n",
              "      <th>Yas</th>\n",
              "      <th>Gecmis_police</th>\n",
              "      <th>Arac_yasi</th>\n",
              "      <th>Hasar_durumu</th>\n",
              "      <th>Yillik_prim</th>\n",
              "      <th>Acenta_no</th>\n",
              "      <th>Sure</th>\n",
              "      <th>Cinsiyet_K</th>\n",
              "      <th>age_bin_middle</th>\n",
              "      <th>age_bin_middle_p</th>\n",
              "      <th>age_bin_older</th>\n",
              "      <th>age_bin_older_p</th>\n",
              "      <th>Ehliyet_Yok</th>\n",
              "      <th>Sehir_Adana</th>\n",
              "      <th>Sehir_Adiyaman</th>\n",
              "      <th>Sehir_Afyon</th>\n",
              "      <th>Sehir_Agri</th>\n",
              "      <th>Sehir_Ankara</th>\n",
              "      <th>Sehir_Antalya</th>\n",
              "      <th>Sehir_Aydin</th>\n",
              "      <th>Sehir_Balikesir</th>\n",
              "      <th>Sehir_Batman</th>\n",
              "      <th>Sehir_Canakkale</th>\n",
              "      <th>Sehir_Corum</th>\n",
              "      <th>Sehir_Denizli</th>\n",
              "      <th>Sehir_Diyarbakir</th>\n",
              "      <th>Sehir_Duzce</th>\n",
              "      <th>Sehir_Elazig</th>\n",
              "      <th>Sehir_Erzurum</th>\n",
              "      <th>Sehir_Eskisehir</th>\n",
              "      <th>Sehir_Gaziantep</th>\n",
              "      <th>Sehir_Giresun</th>\n",
              "      <th>Sehir_Hatay</th>\n",
              "      <th>Sehir_Isparta</th>\n",
              "      <th>Sehir_Istanbul</th>\n",
              "      <th>Sehir_Izmir</th>\n",
              "      <th>Sehir_Kastamonu</th>\n",
              "      <th>Sehir_Kayseri</th>\n",
              "      <th>Sehir_Kocaeli</th>\n",
              "      <th>Sehir_Konya</th>\n",
              "      <th>Sehir_Kutahya</th>\n",
              "      <th>Sehir_Malatya</th>\n",
              "      <th>Sehir_Mardin</th>\n",
              "      <th>Sehir_Mugla</th>\n",
              "      <th>Sehir_Mus</th>\n",
              "      <th>Sehir_Ordu</th>\n",
              "      <th>Sehir_Osmaniye</th>\n",
              "      <th>Sehir_Sakarya</th>\n",
              "      <th>Sehir_Samsun</th>\n",
              "      <th>Sehir_Sirnak</th>\n",
              "      <th>Sehir_Sivas</th>\n",
              "      <th>Sehir_Tokat</th>\n",
              "      <th>Sehir_Trabzon</th>\n",
              "      <th>Sehir_Urfa</th>\n",
              "      <th>Sehir_Van</th>\n",
              "      <th>Sehir_Yozgat</th>\n",
              "      <th>Sehir_Zonguldak</th>\n",
              "    </tr>\n",
              "  </thead>\n",
              "  <tbody>\n",
              "    <tr>\n",
              "      <th>0</th>\n",
              "      <td>26</td>\n",
              "      <td>Yok</td>\n",
              "      <td>&lt; 1 Yil</td>\n",
              "      <td>H</td>\n",
              "      <td>2975.56</td>\n",
              "      <td>177</td>\n",
              "      <td>94</td>\n",
              "      <td>1</td>\n",
              "      <td>0</td>\n",
              "      <td>0</td>\n",
              "      <td>0</td>\n",
              "      <td>0</td>\n",
              "      <td>0</td>\n",
              "      <td>0</td>\n",
              "      <td>0</td>\n",
              "      <td>0</td>\n",
              "      <td>0</td>\n",
              "      <td>0</td>\n",
              "      <td>0</td>\n",
              "      <td>0</td>\n",
              "      <td>0</td>\n",
              "      <td>0</td>\n",
              "      <td>0</td>\n",
              "      <td>0</td>\n",
              "      <td>0</td>\n",
              "      <td>0</td>\n",
              "      <td>0</td>\n",
              "      <td>0</td>\n",
              "      <td>0</td>\n",
              "      <td>0</td>\n",
              "      <td>0</td>\n",
              "      <td>0</td>\n",
              "      <td>0</td>\n",
              "      <td>0</td>\n",
              "      <td>0</td>\n",
              "      <td>0</td>\n",
              "      <td>0</td>\n",
              "      <td>0</td>\n",
              "      <td>1</td>\n",
              "      <td>0</td>\n",
              "      <td>0</td>\n",
              "      <td>0</td>\n",
              "      <td>0</td>\n",
              "      <td>0</td>\n",
              "      <td>0</td>\n",
              "      <td>0</td>\n",
              "      <td>0</td>\n",
              "      <td>0</td>\n",
              "      <td>0</td>\n",
              "      <td>0</td>\n",
              "      <td>0</td>\n",
              "      <td>0</td>\n",
              "      <td>0</td>\n",
              "      <td>0</td>\n",
              "      <td>0</td>\n",
              "      <td>0</td>\n",
              "      <td>0</td>\n",
              "    </tr>\n",
              "  </tbody>\n",
              "</table>\n",
              "</div>"
            ],
            "text/plain": [
              "   Yas Gecmis_police Arac_yasi  ... Sehir_Van  Sehir_Yozgat  Sehir_Zonguldak\n",
              "0   26           Yok   < 1 Yil  ...         0             0                0\n",
              "\n",
              "[1 rows x 57 columns]"
            ]
          },
          "metadata": {
            "tags": []
          },
          "execution_count": 39
        }
      ]
    },
    {
      "cell_type": "markdown",
      "metadata": {
        "id": "FYNJh1y2Lzsj"
      },
      "source": [
        "# **Gecmis_police**"
      ]
    },
    {
      "cell_type": "code",
      "metadata": {
        "colab": {
          "base_uri": "https://localhost:8080/",
          "height": 417
        },
        "id": "0nEk7V0bKuPo",
        "outputId": "182abb45-44af-4ef0-d02d-90ab9b91c7c4"
      },
      "source": [
        "table=pd.crosstab(arac_train.Gecmis_police, arac_train.Sonuc)\n",
        "table.div(table.sum(1).astype(float), axis=0).plot(kind='bar', figsize=(10,6), stacked=True)\n",
        "plt.title('Gecmis_police vs Sonuc')\n",
        "plt.xlabel('Gecmis_police')\n",
        "plt.ylabel('Sonuc')\n",
        "plt.show()"
      ],
      "execution_count": null,
      "outputs": [
        {
          "output_type": "display_data",
          "data": {
            "image/png": "[encoded data removed]",
            "text/plain": [
              "<Figure size 720x432 with 1 Axes>"
            ]
          },
          "metadata": {
            "tags": []
          }
        }
      ]
    },
    {
      "cell_type": "code",
      "metadata": {
        "colab": {
          "base_uri": "https://localhost:8080/",
          "height": 409
        },
        "id": "GfO1TzefKuLx",
        "outputId": "d3a972d7-cb20-4cb2-db89-8aa8a20c6da2"
      },
      "source": [
        "arac_train['NUMBER'] = 1 \n",
        "pivot_table = pd.pivot_table(arac_train,values = 'NUMBER',index=['Gecmis_police'],columns=['Sonuc'], aggfunc=np.sum,fill_value=0).rename_axis(None)\n",
        "pivot_table = pivot_table[[0,1]]\n",
        "pivot_table.plot(kind='barh', stacked=True,figsize=(12,6), title= 'Gecmis_police and Sonuc', rot=0)"
      ],
      "execution_count": null,
      "outputs": [
        {
          "output_type": "execute_result",
          "data": {
            "text/plain": [
              "<matplotlib.axes._subplots.AxesSubplot at 0x7f6c5a059ad0>"
            ]
          },
          "metadata": {
            "tags": []
          },
          "execution_count": 41
        },
        {
          "output_type": "display_data",
          "data": {
            "image/png": "[encoded data removed]",
            "text/plain": [
              "<Figure size 864x432 with 1 Axes>"
            ]
          },
          "metadata": {
            "tags": []
          }
        }
      ]
    },
    {
      "cell_type": "code",
      "metadata": {
        "colab": {
          "base_uri": "https://localhost:8080/",
          "height": 124
        },
        "id": "Kw-GMQfgY8sz",
        "outputId": "3fcc85e6-7daa-45c1-faab-5bad7112978d"
      },
      "source": [
        "cols_to_transform = ['Gecmis_police'] # make a list if more than one column\n",
        "arac_train = pd.get_dummies(arac_train, columns = cols_to_transform,drop_first=True)\n",
        "arac_train.head(2)"
      ],
      "execution_count": null,
      "outputs": [
        {
          "output_type": "execute_result",
          "data": {
            "text/html": [
              "<div>\n",
              "<style scoped>\n",
              "    .dataframe tbody tr th:only-of-type {\n",
              "        vertical-align: middle;\n",
              "    }\n",
              "\n",
              "    .dataframe tbody tr th {\n",
              "        vertical-align: top;\n",
              "    }\n",
              "\n",
              "    .dataframe thead th {\n",
              "        text-align: right;\n",
              "    }\n",
              "</style>\n",
              "<table border=\"1\" class=\"dataframe\">\n",
              "  <thead>\n",
              "    <tr style=\"text-align: right;\">\n",
              "      <th></th>\n",
              "      <th>Yas</th>\n",
              "      <th>Arac_yasi</th>\n",
              "      <th>Hasar_durumu</th>\n",
              "      <th>Yillik_prim</th>\n",
              "      <th>Acenta_no</th>\n",
              "      <th>Sure</th>\n",
              "      <th>Sonuc</th>\n",
              "      <th>Cinsiyet_K</th>\n",
              "      <th>NUMBER</th>\n",
              "      <th>age_bin_middle</th>\n",
              "      <th>age_bin_middle_p</th>\n",
              "      <th>age_bin_older</th>\n",
              "      <th>age_bin_older_p</th>\n",
              "      <th>Ehliyet_Yok</th>\n",
              "      <th>Sehir_Adana</th>\n",
              "      <th>Sehir_Adiyaman</th>\n",
              "      <th>Sehir_Afyon</th>\n",
              "      <th>Sehir_Agri</th>\n",
              "      <th>Sehir_Ankara</th>\n",
              "      <th>Sehir_Antalya</th>\n",
              "      <th>Sehir_Aydin</th>\n",
              "      <th>Sehir_Balikesir</th>\n",
              "      <th>Sehir_Batman</th>\n",
              "      <th>Sehir_Canakkale</th>\n",
              "      <th>Sehir_Corum</th>\n",
              "      <th>Sehir_Denizli</th>\n",
              "      <th>Sehir_Diyarbakir</th>\n",
              "      <th>Sehir_Duzce</th>\n",
              "      <th>Sehir_Elazig</th>\n",
              "      <th>Sehir_Erzurum</th>\n",
              "      <th>Sehir_Eskisehir</th>\n",
              "      <th>Sehir_Gaziantep</th>\n",
              "      <th>Sehir_Giresun</th>\n",
              "      <th>Sehir_Hatay</th>\n",
              "      <th>Sehir_Isparta</th>\n",
              "      <th>Sehir_Istanbul</th>\n",
              "      <th>Sehir_Izmir</th>\n",
              "      <th>Sehir_Kastamonu</th>\n",
              "      <th>Sehir_Kayseri</th>\n",
              "      <th>Sehir_Kocaeli</th>\n",
              "      <th>Sehir_Konya</th>\n",
              "      <th>Sehir_Kutahya</th>\n",
              "      <th>Sehir_Malatya</th>\n",
              "      <th>Sehir_Mardin</th>\n",
              "      <th>Sehir_Mugla</th>\n",
              "      <th>Sehir_Mus</th>\n",
              "      <th>Sehir_Ordu</th>\n",
              "      <th>Sehir_Osmaniye</th>\n",
              "      <th>Sehir_Sakarya</th>\n",
              "      <th>Sehir_Samsun</th>\n",
              "      <th>Sehir_Sirnak</th>\n",
              "      <th>Sehir_Sivas</th>\n",
              "      <th>Sehir_Tokat</th>\n",
              "      <th>Sehir_Trabzon</th>\n",
              "      <th>Sehir_Urfa</th>\n",
              "      <th>Sehir_Van</th>\n",
              "      <th>Sehir_Yozgat</th>\n",
              "      <th>Sehir_Zonguldak</th>\n",
              "      <th>Gecmis_police_Yok</th>\n",
              "    </tr>\n",
              "  </thead>\n",
              "  <tbody>\n",
              "    <tr>\n",
              "      <th>0</th>\n",
              "      <td>36</td>\n",
              "      <td>1-2 Yil</td>\n",
              "      <td>E</td>\n",
              "      <td>2960.00</td>\n",
              "      <td>147</td>\n",
              "      <td>131</td>\n",
              "      <td>0</td>\n",
              "      <td>0</td>\n",
              "      <td>1</td>\n",
              "      <td>1</td>\n",
              "      <td>0</td>\n",
              "      <td>0</td>\n",
              "      <td>0</td>\n",
              "      <td>0</td>\n",
              "      <td>0</td>\n",
              "      <td>0</td>\n",
              "      <td>0</td>\n",
              "      <td>0</td>\n",
              "      <td>0</td>\n",
              "      <td>0</td>\n",
              "      <td>0</td>\n",
              "      <td>0</td>\n",
              "      <td>0</td>\n",
              "      <td>0</td>\n",
              "      <td>0</td>\n",
              "      <td>0</td>\n",
              "      <td>0</td>\n",
              "      <td>0</td>\n",
              "      <td>0</td>\n",
              "      <td>0</td>\n",
              "      <td>0</td>\n",
              "      <td>0</td>\n",
              "      <td>0</td>\n",
              "      <td>0</td>\n",
              "      <td>0</td>\n",
              "      <td>0</td>\n",
              "      <td>0</td>\n",
              "      <td>0</td>\n",
              "      <td>0</td>\n",
              "      <td>0</td>\n",
              "      <td>0</td>\n",
              "      <td>0</td>\n",
              "      <td>0</td>\n",
              "      <td>0</td>\n",
              "      <td>0</td>\n",
              "      <td>0</td>\n",
              "      <td>1</td>\n",
              "      <td>0</td>\n",
              "      <td>0</td>\n",
              "      <td>0</td>\n",
              "      <td>0</td>\n",
              "      <td>0</td>\n",
              "      <td>0</td>\n",
              "      <td>0</td>\n",
              "      <td>0</td>\n",
              "      <td>0</td>\n",
              "      <td>0</td>\n",
              "      <td>0</td>\n",
              "      <td>1</td>\n",
              "    </tr>\n",
              "    <tr>\n",
              "      <th>1</th>\n",
              "      <td>31</td>\n",
              "      <td>&lt; 1 Yil</td>\n",
              "      <td>H</td>\n",
              "      <td>3081.78</td>\n",
              "      <td>177</td>\n",
              "      <td>213</td>\n",
              "      <td>0</td>\n",
              "      <td>0</td>\n",
              "      <td>1</td>\n",
              "      <td>1</td>\n",
              "      <td>0</td>\n",
              "      <td>0</td>\n",
              "      <td>0</td>\n",
              "      <td>0</td>\n",
              "      <td>0</td>\n",
              "      <td>0</td>\n",
              "      <td>0</td>\n",
              "      <td>0</td>\n",
              "      <td>0</td>\n",
              "      <td>0</td>\n",
              "      <td>0</td>\n",
              "      <td>0</td>\n",
              "      <td>0</td>\n",
              "      <td>0</td>\n",
              "      <td>0</td>\n",
              "      <td>0</td>\n",
              "      <td>0</td>\n",
              "      <td>0</td>\n",
              "      <td>0</td>\n",
              "      <td>0</td>\n",
              "      <td>0</td>\n",
              "      <td>1</td>\n",
              "      <td>0</td>\n",
              "      <td>0</td>\n",
              "      <td>0</td>\n",
              "      <td>0</td>\n",
              "      <td>0</td>\n",
              "      <td>0</td>\n",
              "      <td>0</td>\n",
              "      <td>0</td>\n",
              "      <td>0</td>\n",
              "      <td>0</td>\n",
              "      <td>0</td>\n",
              "      <td>0</td>\n",
              "      <td>0</td>\n",
              "      <td>0</td>\n",
              "      <td>0</td>\n",
              "      <td>0</td>\n",
              "      <td>0</td>\n",
              "      <td>0</td>\n",
              "      <td>0</td>\n",
              "      <td>0</td>\n",
              "      <td>0</td>\n",
              "      <td>0</td>\n",
              "      <td>0</td>\n",
              "      <td>0</td>\n",
              "      <td>0</td>\n",
              "      <td>0</td>\n",
              "      <td>0</td>\n",
              "    </tr>\n",
              "  </tbody>\n",
              "</table>\n",
              "</div>"
            ],
            "text/plain": [
              "   Yas Arac_yasi Hasar_durumu  ...  Sehir_Yozgat  Sehir_Zonguldak  Gecmis_police_Yok\n",
              "0   36   1-2 Yil            E  ...             0                0                  1\n",
              "1   31   < 1 Yil            H  ...             0                0                  0\n",
              "\n",
              "[2 rows x 59 columns]"
            ]
          },
          "metadata": {
            "tags": []
          },
          "execution_count": 42
        }
      ]
    },
    {
      "cell_type": "code",
      "metadata": {
        "colab": {
          "base_uri": "https://localhost:8080/",
          "height": 124
        },
        "id": "HaxJ41PjZGHv",
        "outputId": "b201fe67-0e67-4b63-b842-e9f5d724273f"
      },
      "source": [
        "cols_to_transform = ['Gecmis_police'] # make a list if more than one column\n",
        "arac_test = pd.get_dummies(arac_test, columns = cols_to_transform,drop_first=True)\n",
        "arac_test.head(2)"
      ],
      "execution_count": null,
      "outputs": [
        {
          "output_type": "execute_result",
          "data": {
            "text/html": [
              "<div>\n",
              "<style scoped>\n",
              "    .dataframe tbody tr th:only-of-type {\n",
              "        vertical-align: middle;\n",
              "    }\n",
              "\n",
              "    .dataframe tbody tr th {\n",
              "        vertical-align: top;\n",
              "    }\n",
              "\n",
              "    .dataframe thead th {\n",
              "        text-align: right;\n",
              "    }\n",
              "</style>\n",
              "<table border=\"1\" class=\"dataframe\">\n",
              "  <thead>\n",
              "    <tr style=\"text-align: right;\">\n",
              "      <th></th>\n",
              "      <th>Yas</th>\n",
              "      <th>Arac_yasi</th>\n",
              "      <th>Hasar_durumu</th>\n",
              "      <th>Yillik_prim</th>\n",
              "      <th>Acenta_no</th>\n",
              "      <th>Sure</th>\n",
              "      <th>Cinsiyet_K</th>\n",
              "      <th>age_bin_middle</th>\n",
              "      <th>age_bin_middle_p</th>\n",
              "      <th>age_bin_older</th>\n",
              "      <th>age_bin_older_p</th>\n",
              "      <th>Ehliyet_Yok</th>\n",
              "      <th>Sehir_Adana</th>\n",
              "      <th>Sehir_Adiyaman</th>\n",
              "      <th>Sehir_Afyon</th>\n",
              "      <th>Sehir_Agri</th>\n",
              "      <th>Sehir_Ankara</th>\n",
              "      <th>Sehir_Antalya</th>\n",
              "      <th>Sehir_Aydin</th>\n",
              "      <th>Sehir_Balikesir</th>\n",
              "      <th>Sehir_Batman</th>\n",
              "      <th>Sehir_Canakkale</th>\n",
              "      <th>Sehir_Corum</th>\n",
              "      <th>Sehir_Denizli</th>\n",
              "      <th>Sehir_Diyarbakir</th>\n",
              "      <th>Sehir_Duzce</th>\n",
              "      <th>Sehir_Elazig</th>\n",
              "      <th>Sehir_Erzurum</th>\n",
              "      <th>Sehir_Eskisehir</th>\n",
              "      <th>Sehir_Gaziantep</th>\n",
              "      <th>Sehir_Giresun</th>\n",
              "      <th>Sehir_Hatay</th>\n",
              "      <th>Sehir_Isparta</th>\n",
              "      <th>Sehir_Istanbul</th>\n",
              "      <th>Sehir_Izmir</th>\n",
              "      <th>Sehir_Kastamonu</th>\n",
              "      <th>Sehir_Kayseri</th>\n",
              "      <th>Sehir_Kocaeli</th>\n",
              "      <th>Sehir_Konya</th>\n",
              "      <th>Sehir_Kutahya</th>\n",
              "      <th>Sehir_Malatya</th>\n",
              "      <th>Sehir_Mardin</th>\n",
              "      <th>Sehir_Mugla</th>\n",
              "      <th>Sehir_Mus</th>\n",
              "      <th>Sehir_Ordu</th>\n",
              "      <th>Sehir_Osmaniye</th>\n",
              "      <th>Sehir_Sakarya</th>\n",
              "      <th>Sehir_Samsun</th>\n",
              "      <th>Sehir_Sirnak</th>\n",
              "      <th>Sehir_Sivas</th>\n",
              "      <th>Sehir_Tokat</th>\n",
              "      <th>Sehir_Trabzon</th>\n",
              "      <th>Sehir_Urfa</th>\n",
              "      <th>Sehir_Van</th>\n",
              "      <th>Sehir_Yozgat</th>\n",
              "      <th>Sehir_Zonguldak</th>\n",
              "      <th>Gecmis_police_Yok</th>\n",
              "    </tr>\n",
              "  </thead>\n",
              "  <tbody>\n",
              "    <tr>\n",
              "      <th>0</th>\n",
              "      <td>26</td>\n",
              "      <td>&lt; 1 Yil</td>\n",
              "      <td>H</td>\n",
              "      <td>2975.56</td>\n",
              "      <td>177</td>\n",
              "      <td>94</td>\n",
              "      <td>1</td>\n",
              "      <td>0</td>\n",
              "      <td>0</td>\n",
              "      <td>0</td>\n",
              "      <td>0</td>\n",
              "      <td>0</td>\n",
              "      <td>0</td>\n",
              "      <td>0</td>\n",
              "      <td>0</td>\n",
              "      <td>0</td>\n",
              "      <td>0</td>\n",
              "      <td>0</td>\n",
              "      <td>0</td>\n",
              "      <td>0</td>\n",
              "      <td>0</td>\n",
              "      <td>0</td>\n",
              "      <td>0</td>\n",
              "      <td>0</td>\n",
              "      <td>0</td>\n",
              "      <td>0</td>\n",
              "      <td>0</td>\n",
              "      <td>0</td>\n",
              "      <td>0</td>\n",
              "      <td>0</td>\n",
              "      <td>0</td>\n",
              "      <td>0</td>\n",
              "      <td>0</td>\n",
              "      <td>0</td>\n",
              "      <td>0</td>\n",
              "      <td>0</td>\n",
              "      <td>0</td>\n",
              "      <td>1</td>\n",
              "      <td>0</td>\n",
              "      <td>0</td>\n",
              "      <td>0</td>\n",
              "      <td>0</td>\n",
              "      <td>0</td>\n",
              "      <td>0</td>\n",
              "      <td>0</td>\n",
              "      <td>0</td>\n",
              "      <td>0</td>\n",
              "      <td>0</td>\n",
              "      <td>0</td>\n",
              "      <td>0</td>\n",
              "      <td>0</td>\n",
              "      <td>0</td>\n",
              "      <td>0</td>\n",
              "      <td>0</td>\n",
              "      <td>0</td>\n",
              "      <td>0</td>\n",
              "      <td>1</td>\n",
              "    </tr>\n",
              "    <tr>\n",
              "      <th>1</th>\n",
              "      <td>24</td>\n",
              "      <td>&lt; 1 Yil</td>\n",
              "      <td>H</td>\n",
              "      <td>2683.33</td>\n",
              "      <td>177</td>\n",
              "      <td>105</td>\n",
              "      <td>1</td>\n",
              "      <td>0</td>\n",
              "      <td>0</td>\n",
              "      <td>0</td>\n",
              "      <td>0</td>\n",
              "      <td>0</td>\n",
              "      <td>0</td>\n",
              "      <td>0</td>\n",
              "      <td>0</td>\n",
              "      <td>0</td>\n",
              "      <td>0</td>\n",
              "      <td>0</td>\n",
              "      <td>0</td>\n",
              "      <td>0</td>\n",
              "      <td>0</td>\n",
              "      <td>0</td>\n",
              "      <td>0</td>\n",
              "      <td>0</td>\n",
              "      <td>0</td>\n",
              "      <td>0</td>\n",
              "      <td>0</td>\n",
              "      <td>0</td>\n",
              "      <td>0</td>\n",
              "      <td>0</td>\n",
              "      <td>0</td>\n",
              "      <td>0</td>\n",
              "      <td>0</td>\n",
              "      <td>0</td>\n",
              "      <td>0</td>\n",
              "      <td>0</td>\n",
              "      <td>0</td>\n",
              "      <td>0</td>\n",
              "      <td>0</td>\n",
              "      <td>0</td>\n",
              "      <td>0</td>\n",
              "      <td>0</td>\n",
              "      <td>0</td>\n",
              "      <td>0</td>\n",
              "      <td>0</td>\n",
              "      <td>0</td>\n",
              "      <td>0</td>\n",
              "      <td>0</td>\n",
              "      <td>0</td>\n",
              "      <td>0</td>\n",
              "      <td>0</td>\n",
              "      <td>0</td>\n",
              "      <td>0</td>\n",
              "      <td>0</td>\n",
              "      <td>0</td>\n",
              "      <td>0</td>\n",
              "      <td>0</td>\n",
              "    </tr>\n",
              "  </tbody>\n",
              "</table>\n",
              "</div>"
            ],
            "text/plain": [
              "   Yas Arac_yasi Hasar_durumu  ...  Sehir_Yozgat  Sehir_Zonguldak  Gecmis_police_Yok\n",
              "0   26   < 1 Yil            H  ...             0                0                  1\n",
              "1   24   < 1 Yil            H  ...             0                0                  0\n",
              "\n",
              "[2 rows x 57 columns]"
            ]
          },
          "metadata": {
            "tags": []
          },
          "execution_count": 43
        }
      ]
    },
    {
      "cell_type": "markdown",
      "metadata": {
        "id": "u6C9hts_MEL3"
      },
      "source": [
        "# **Arac_yasi**"
      ]
    },
    {
      "cell_type": "code",
      "metadata": {
        "colab": {
          "base_uri": "https://localhost:8080/",
          "height": 441
        },
        "id": "Cotgh0qWMBzb",
        "outputId": "5c06e0a2-ff2c-4bb4-ba4c-2617f8b9c0d2"
      },
      "source": [
        "table=pd.crosstab(arac_train.Arac_yasi, arac_train.Sonuc)\n",
        "table.div(table.sum(1).astype(float), axis=0).plot(kind='bar', figsize=(10,6), stacked=True)\n",
        "plt.title('Arac_yasi vs Sonuc')\n",
        "plt.xlabel('Arac_yasi')\n",
        "plt.ylabel('Sonuc')\n",
        "plt.show()"
      ],
      "execution_count": null,
      "outputs": [
        {
          "output_type": "display_data",
          "data": {
            "image/png": "[encoded data removed]",
            "text/plain": [
              "<Figure size 720x432 with 1 Axes>"
            ]
          },
          "metadata": {
            "tags": []
          }
        }
      ]
    },
    {
      "cell_type": "code",
      "metadata": {
        "colab": {
          "base_uri": "https://localhost:8080/"
        },
        "id": "wmqJjWRFaw51",
        "outputId": "952e4c7d-c51a-434a-8b9b-4c64742d270b"
      },
      "source": [
        "arac_train.Arac_yasi.unique()"
      ],
      "execution_count": null,
      "outputs": [
        {
          "output_type": "execute_result",
          "data": {
            "text/plain": [
              "array(['1-2 Yil', '< 1 Yil', '5-10 Yil', '2-5 Yil', '> 10 Yil'],\n",
              "      dtype=object)"
            ]
          },
          "metadata": {
            "tags": []
          },
          "execution_count": 45
        }
      ]
    },
    {
      "cell_type": "code",
      "metadata": {
        "colab": {
          "base_uri": "https://localhost:8080/",
          "height": 274
        },
        "id": "BbuE5_8GMBw0",
        "outputId": "8aa417d7-f06e-48b4-a67f-55bf7c810e75"
      },
      "source": [
        "PythonDummies = arac_train['Arac_yasi'].str.get_dummies(sep=\",\")\n",
        "Satisfaction=arac_train[\"Sonuc\"]\n",
        "\n",
        "chi2test = SelectKBest(score_func=chi2, k='all') # you can select the first n features as well (k=n)\n",
        "selector = chi2test.fit(PythonDummies, Satisfaction)\n",
        "\n",
        "# summarize scores\n",
        "np.set_printoptions(precision=3)\n",
        "print('Scores  :', selector.scores_, '\\n')\n",
        "print('p_values:', selector.pvalues_, '\\n')\n",
        "features = selector.transform(PythonDummies)\n",
        "\n",
        "print(PythonDummies.columns[selector.get_support()])\n",
        "\n",
        "dfChi2 = pd.DataFrame(data=np.zeros(shape=(PythonDummies.shape[1],2)), columns = ['Feature', 'p-value'])\n",
        "for i in range(PythonDummies.shape[1]):\n",
        "    dfChi2.loc[i,'Feature'] = PythonDummies.columns[i]\n",
        "    dfChi2.loc[i, 'p-value'] = np.round(selector.pvalues_[i],6)\n",
        "dfChi2.sort_values(by='p-value')"
      ],
      "execution_count": null,
      "outputs": [
        {
          "output_type": "stream",
          "text": [
            "Scores  : [3811.386 1942.291 1312.157 6842.199  171.865] \n",
            "\n",
            "p_values: [0.000e+000 0.000e+000 2.579e-287 0.000e+000 2.897e-039] \n",
            "\n",
            "Index(['1-2 Yil', '2-5 Yil', '5-10 Yil', '< 1 Yil', '> 10 Yil'], dtype='object')\n"
          ],
          "name": "stdout"
        },
        {
          "output_type": "execute_result",
          "data": {
            "text/html": [
              "<div>\n",
              "<style scoped>\n",
              "    .dataframe tbody tr th:only-of-type {\n",
              "        vertical-align: middle;\n",
              "    }\n",
              "\n",
              "    .dataframe tbody tr th {\n",
              "        vertical-align: top;\n",
              "    }\n",
              "\n",
              "    .dataframe thead th {\n",
              "        text-align: right;\n",
              "    }\n",
              "</style>\n",
              "<table border=\"1\" class=\"dataframe\">\n",
              "  <thead>\n",
              "    <tr style=\"text-align: right;\">\n",
              "      <th></th>\n",
              "      <th>Feature</th>\n",
              "      <th>p-value</th>\n",
              "    </tr>\n",
              "  </thead>\n",
              "  <tbody>\n",
              "    <tr>\n",
              "      <th>0</th>\n",
              "      <td>1-2 Yil</td>\n",
              "      <td>0.0</td>\n",
              "    </tr>\n",
              "    <tr>\n",
              "      <th>1</th>\n",
              "      <td>2-5 Yil</td>\n",
              "      <td>0.0</td>\n",
              "    </tr>\n",
              "    <tr>\n",
              "      <th>2</th>\n",
              "      <td>5-10 Yil</td>\n",
              "      <td>0.0</td>\n",
              "    </tr>\n",
              "    <tr>\n",
              "      <th>3</th>\n",
              "      <td>&lt; 1 Yil</td>\n",
              "      <td>0.0</td>\n",
              "    </tr>\n",
              "    <tr>\n",
              "      <th>4</th>\n",
              "      <td>&gt; 10 Yil</td>\n",
              "      <td>0.0</td>\n",
              "    </tr>\n",
              "  </tbody>\n",
              "</table>\n",
              "</div>"
            ],
            "text/plain": [
              "    Feature  p-value\n",
              "0   1-2 Yil      0.0\n",
              "1   2-5 Yil      0.0\n",
              "2  5-10 Yil      0.0\n",
              "3   < 1 Yil      0.0\n",
              "4  > 10 Yil      0.0"
            ]
          },
          "metadata": {
            "tags": []
          },
          "execution_count": 46
        }
      ]
    },
    {
      "cell_type": "code",
      "metadata": {
        "id": "bOcL8nVOO6zs"
      },
      "source": [
        "arac_train['Arac_yasi_bin'] = arac_train['Arac_yasi'].map({'< 1 Yil' : 1,'1-2 Yil' : 2, '2-5 Yil' : 3,'5-10 Yil' : 4,'> 10 Yil' : 5})\n"
      ],
      "execution_count": null,
      "outputs": []
    },
    {
      "cell_type": "code",
      "metadata": {
        "id": "qabofb02cIx7"
      },
      "source": [
        "arac_test['Arac_yasi_bin'] = arac_test['Arac_yasi'].map({'< 1 Yil' : 1,'1-2 Yil' : 2, '2-5 Yil' : 3,'5-10 Yil' : 4,'> 10 Yil' : 5})"
      ],
      "execution_count": null,
      "outputs": []
    },
    {
      "cell_type": "code",
      "metadata": {
        "colab": {
          "base_uri": "https://localhost:8080/",
          "height": 124
        },
        "id": "aZds4CJ1ZN2g",
        "outputId": "72a5242f-7ae9-4afb-edad-74d876746afc"
      },
      "source": [
        "arac_train.head(2)"
      ],
      "execution_count": null,
      "outputs": [
        {
          "output_type": "execute_result",
          "data": {
            "text/html": [
              "<div>\n",
              "<style scoped>\n",
              "    .dataframe tbody tr th:only-of-type {\n",
              "        vertical-align: middle;\n",
              "    }\n",
              "\n",
              "    .dataframe tbody tr th {\n",
              "        vertical-align: top;\n",
              "    }\n",
              "\n",
              "    .dataframe thead th {\n",
              "        text-align: right;\n",
              "    }\n",
              "</style>\n",
              "<table border=\"1\" class=\"dataframe\">\n",
              "  <thead>\n",
              "    <tr style=\"text-align: right;\">\n",
              "      <th></th>\n",
              "      <th>Yas</th>\n",
              "      <th>Arac_yasi</th>\n",
              "      <th>Hasar_durumu</th>\n",
              "      <th>Yillik_prim</th>\n",
              "      <th>Acenta_no</th>\n",
              "      <th>Sure</th>\n",
              "      <th>Sonuc</th>\n",
              "      <th>Cinsiyet_K</th>\n",
              "      <th>NUMBER</th>\n",
              "      <th>age_bin_middle</th>\n",
              "      <th>age_bin_middle_p</th>\n",
              "      <th>age_bin_older</th>\n",
              "      <th>age_bin_older_p</th>\n",
              "      <th>Ehliyet_Yok</th>\n",
              "      <th>Sehir_Adana</th>\n",
              "      <th>Sehir_Adiyaman</th>\n",
              "      <th>Sehir_Afyon</th>\n",
              "      <th>Sehir_Agri</th>\n",
              "      <th>Sehir_Ankara</th>\n",
              "      <th>Sehir_Antalya</th>\n",
              "      <th>Sehir_Aydin</th>\n",
              "      <th>Sehir_Balikesir</th>\n",
              "      <th>Sehir_Batman</th>\n",
              "      <th>Sehir_Canakkale</th>\n",
              "      <th>Sehir_Corum</th>\n",
              "      <th>Sehir_Denizli</th>\n",
              "      <th>Sehir_Diyarbakir</th>\n",
              "      <th>Sehir_Duzce</th>\n",
              "      <th>Sehir_Elazig</th>\n",
              "      <th>Sehir_Erzurum</th>\n",
              "      <th>Sehir_Eskisehir</th>\n",
              "      <th>Sehir_Gaziantep</th>\n",
              "      <th>Sehir_Giresun</th>\n",
              "      <th>Sehir_Hatay</th>\n",
              "      <th>Sehir_Isparta</th>\n",
              "      <th>Sehir_Istanbul</th>\n",
              "      <th>Sehir_Izmir</th>\n",
              "      <th>Sehir_Kastamonu</th>\n",
              "      <th>Sehir_Kayseri</th>\n",
              "      <th>Sehir_Kocaeli</th>\n",
              "      <th>Sehir_Konya</th>\n",
              "      <th>Sehir_Kutahya</th>\n",
              "      <th>Sehir_Malatya</th>\n",
              "      <th>Sehir_Mardin</th>\n",
              "      <th>Sehir_Mugla</th>\n",
              "      <th>Sehir_Mus</th>\n",
              "      <th>Sehir_Ordu</th>\n",
              "      <th>Sehir_Osmaniye</th>\n",
              "      <th>Sehir_Sakarya</th>\n",
              "      <th>Sehir_Samsun</th>\n",
              "      <th>Sehir_Sirnak</th>\n",
              "      <th>Sehir_Sivas</th>\n",
              "      <th>Sehir_Tokat</th>\n",
              "      <th>Sehir_Trabzon</th>\n",
              "      <th>Sehir_Urfa</th>\n",
              "      <th>Sehir_Van</th>\n",
              "      <th>Sehir_Yozgat</th>\n",
              "      <th>Sehir_Zonguldak</th>\n",
              "      <th>Gecmis_police_Yok</th>\n",
              "      <th>Arac_yasi_bin</th>\n",
              "    </tr>\n",
              "  </thead>\n",
              "  <tbody>\n",
              "    <tr>\n",
              "      <th>0</th>\n",
              "      <td>36</td>\n",
              "      <td>1-2 Yil</td>\n",
              "      <td>E</td>\n",
              "      <td>2960.00</td>\n",
              "      <td>147</td>\n",
              "      <td>131</td>\n",
              "      <td>0</td>\n",
              "      <td>0</td>\n",
              "      <td>1</td>\n",
              "      <td>1</td>\n",
              "      <td>0</td>\n",
              "      <td>0</td>\n",
              "      <td>0</td>\n",
              "      <td>0</td>\n",
              "      <td>0</td>\n",
              "      <td>0</td>\n",
              "      <td>0</td>\n",
              "      <td>0</td>\n",
              "      <td>0</td>\n",
              "      <td>0</td>\n",
              "      <td>0</td>\n",
              "      <td>0</td>\n",
              "      <td>0</td>\n",
              "      <td>0</td>\n",
              "      <td>0</td>\n",
              "      <td>0</td>\n",
              "      <td>0</td>\n",
              "      <td>0</td>\n",
              "      <td>0</td>\n",
              "      <td>0</td>\n",
              "      <td>0</td>\n",
              "      <td>0</td>\n",
              "      <td>0</td>\n",
              "      <td>0</td>\n",
              "      <td>0</td>\n",
              "      <td>0</td>\n",
              "      <td>0</td>\n",
              "      <td>0</td>\n",
              "      <td>0</td>\n",
              "      <td>0</td>\n",
              "      <td>0</td>\n",
              "      <td>0</td>\n",
              "      <td>0</td>\n",
              "      <td>0</td>\n",
              "      <td>0</td>\n",
              "      <td>0</td>\n",
              "      <td>1</td>\n",
              "      <td>0</td>\n",
              "      <td>0</td>\n",
              "      <td>0</td>\n",
              "      <td>0</td>\n",
              "      <td>0</td>\n",
              "      <td>0</td>\n",
              "      <td>0</td>\n",
              "      <td>0</td>\n",
              "      <td>0</td>\n",
              "      <td>0</td>\n",
              "      <td>0</td>\n",
              "      <td>1</td>\n",
              "      <td>2</td>\n",
              "    </tr>\n",
              "    <tr>\n",
              "      <th>1</th>\n",
              "      <td>31</td>\n",
              "      <td>&lt; 1 Yil</td>\n",
              "      <td>H</td>\n",
              "      <td>3081.78</td>\n",
              "      <td>177</td>\n",
              "      <td>213</td>\n",
              "      <td>0</td>\n",
              "      <td>0</td>\n",
              "      <td>1</td>\n",
              "      <td>1</td>\n",
              "      <td>0</td>\n",
              "      <td>0</td>\n",
              "      <td>0</td>\n",
              "      <td>0</td>\n",
              "      <td>0</td>\n",
              "      <td>0</td>\n",
              "      <td>0</td>\n",
              "      <td>0</td>\n",
              "      <td>0</td>\n",
              "      <td>0</td>\n",
              "      <td>0</td>\n",
              "      <td>0</td>\n",
              "      <td>0</td>\n",
              "      <td>0</td>\n",
              "      <td>0</td>\n",
              "      <td>0</td>\n",
              "      <td>0</td>\n",
              "      <td>0</td>\n",
              "      <td>0</td>\n",
              "      <td>0</td>\n",
              "      <td>0</td>\n",
              "      <td>1</td>\n",
              "      <td>0</td>\n",
              "      <td>0</td>\n",
              "      <td>0</td>\n",
              "      <td>0</td>\n",
              "      <td>0</td>\n",
              "      <td>0</td>\n",
              "      <td>0</td>\n",
              "      <td>0</td>\n",
              "      <td>0</td>\n",
              "      <td>0</td>\n",
              "      <td>0</td>\n",
              "      <td>0</td>\n",
              "      <td>0</td>\n",
              "      <td>0</td>\n",
              "      <td>0</td>\n",
              "      <td>0</td>\n",
              "      <td>0</td>\n",
              "      <td>0</td>\n",
              "      <td>0</td>\n",
              "      <td>0</td>\n",
              "      <td>0</td>\n",
              "      <td>0</td>\n",
              "      <td>0</td>\n",
              "      <td>0</td>\n",
              "      <td>0</td>\n",
              "      <td>0</td>\n",
              "      <td>0</td>\n",
              "      <td>1</td>\n",
              "    </tr>\n",
              "  </tbody>\n",
              "</table>\n",
              "</div>"
            ],
            "text/plain": [
              "   Yas Arac_yasi  ... Gecmis_police_Yok  Arac_yasi_bin\n",
              "0   36   1-2 Yil  ...                 1              2\n",
              "1   31   < 1 Yil  ...                 0              1\n",
              "\n",
              "[2 rows x 60 columns]"
            ]
          },
          "metadata": {
            "tags": []
          },
          "execution_count": 49
        }
      ]
    },
    {
      "cell_type": "code",
      "metadata": {
        "colab": {
          "base_uri": "https://localhost:8080/",
          "height": 124
        },
        "id": "os5qouM2ZSCI",
        "outputId": "27d0c949-9bb7-40c3-e82c-7fbdd875067f"
      },
      "source": [
        "arac_test.head(2)"
      ],
      "execution_count": null,
      "outputs": [
        {
          "output_type": "execute_result",
          "data": {
            "text/html": [
              "<div>\n",
              "<style scoped>\n",
              "    .dataframe tbody tr th:only-of-type {\n",
              "        vertical-align: middle;\n",
              "    }\n",
              "\n",
              "    .dataframe tbody tr th {\n",
              "        vertical-align: top;\n",
              "    }\n",
              "\n",
              "    .dataframe thead th {\n",
              "        text-align: right;\n",
              "    }\n",
              "</style>\n",
              "<table border=\"1\" class=\"dataframe\">\n",
              "  <thead>\n",
              "    <tr style=\"text-align: right;\">\n",
              "      <th></th>\n",
              "      <th>Yas</th>\n",
              "      <th>Arac_yasi</th>\n",
              "      <th>Hasar_durumu</th>\n",
              "      <th>Yillik_prim</th>\n",
              "      <th>Acenta_no</th>\n",
              "      <th>Sure</th>\n",
              "      <th>Cinsiyet_K</th>\n",
              "      <th>age_bin_middle</th>\n",
              "      <th>age_bin_middle_p</th>\n",
              "      <th>age_bin_older</th>\n",
              "      <th>age_bin_older_p</th>\n",
              "      <th>Ehliyet_Yok</th>\n",
              "      <th>Sehir_Adana</th>\n",
              "      <th>Sehir_Adiyaman</th>\n",
              "      <th>Sehir_Afyon</th>\n",
              "      <th>Sehir_Agri</th>\n",
              "      <th>Sehir_Ankara</th>\n",
              "      <th>Sehir_Antalya</th>\n",
              "      <th>Sehir_Aydin</th>\n",
              "      <th>Sehir_Balikesir</th>\n",
              "      <th>Sehir_Batman</th>\n",
              "      <th>Sehir_Canakkale</th>\n",
              "      <th>Sehir_Corum</th>\n",
              "      <th>Sehir_Denizli</th>\n",
              "      <th>Sehir_Diyarbakir</th>\n",
              "      <th>Sehir_Duzce</th>\n",
              "      <th>Sehir_Elazig</th>\n",
              "      <th>Sehir_Erzurum</th>\n",
              "      <th>Sehir_Eskisehir</th>\n",
              "      <th>Sehir_Gaziantep</th>\n",
              "      <th>Sehir_Giresun</th>\n",
              "      <th>Sehir_Hatay</th>\n",
              "      <th>Sehir_Isparta</th>\n",
              "      <th>Sehir_Istanbul</th>\n",
              "      <th>Sehir_Izmir</th>\n",
              "      <th>Sehir_Kastamonu</th>\n",
              "      <th>Sehir_Kayseri</th>\n",
              "      <th>Sehir_Kocaeli</th>\n",
              "      <th>Sehir_Konya</th>\n",
              "      <th>Sehir_Kutahya</th>\n",
              "      <th>Sehir_Malatya</th>\n",
              "      <th>Sehir_Mardin</th>\n",
              "      <th>Sehir_Mugla</th>\n",
              "      <th>Sehir_Mus</th>\n",
              "      <th>Sehir_Ordu</th>\n",
              "      <th>Sehir_Osmaniye</th>\n",
              "      <th>Sehir_Sakarya</th>\n",
              "      <th>Sehir_Samsun</th>\n",
              "      <th>Sehir_Sirnak</th>\n",
              "      <th>Sehir_Sivas</th>\n",
              "      <th>Sehir_Tokat</th>\n",
              "      <th>Sehir_Trabzon</th>\n",
              "      <th>Sehir_Urfa</th>\n",
              "      <th>Sehir_Van</th>\n",
              "      <th>Sehir_Yozgat</th>\n",
              "      <th>Sehir_Zonguldak</th>\n",
              "      <th>Gecmis_police_Yok</th>\n",
              "      <th>Arac_yasi_bin</th>\n",
              "    </tr>\n",
              "  </thead>\n",
              "  <tbody>\n",
              "    <tr>\n",
              "      <th>0</th>\n",
              "      <td>26</td>\n",
              "      <td>&lt; 1 Yil</td>\n",
              "      <td>H</td>\n",
              "      <td>2975.56</td>\n",
              "      <td>177</td>\n",
              "      <td>94</td>\n",
              "      <td>1</td>\n",
              "      <td>0</td>\n",
              "      <td>0</td>\n",
              "      <td>0</td>\n",
              "      <td>0</td>\n",
              "      <td>0</td>\n",
              "      <td>0</td>\n",
              "      <td>0</td>\n",
              "      <td>0</td>\n",
              "      <td>0</td>\n",
              "      <td>0</td>\n",
              "      <td>0</td>\n",
              "      <td>0</td>\n",
              "      <td>0</td>\n",
              "      <td>0</td>\n",
              "      <td>0</td>\n",
              "      <td>0</td>\n",
              "      <td>0</td>\n",
              "      <td>0</td>\n",
              "      <td>0</td>\n",
              "      <td>0</td>\n",
              "      <td>0</td>\n",
              "      <td>0</td>\n",
              "      <td>0</td>\n",
              "      <td>0</td>\n",
              "      <td>0</td>\n",
              "      <td>0</td>\n",
              "      <td>0</td>\n",
              "      <td>0</td>\n",
              "      <td>0</td>\n",
              "      <td>0</td>\n",
              "      <td>1</td>\n",
              "      <td>0</td>\n",
              "      <td>0</td>\n",
              "      <td>0</td>\n",
              "      <td>0</td>\n",
              "      <td>0</td>\n",
              "      <td>0</td>\n",
              "      <td>0</td>\n",
              "      <td>0</td>\n",
              "      <td>0</td>\n",
              "      <td>0</td>\n",
              "      <td>0</td>\n",
              "      <td>0</td>\n",
              "      <td>0</td>\n",
              "      <td>0</td>\n",
              "      <td>0</td>\n",
              "      <td>0</td>\n",
              "      <td>0</td>\n",
              "      <td>0</td>\n",
              "      <td>1</td>\n",
              "      <td>1</td>\n",
              "    </tr>\n",
              "    <tr>\n",
              "      <th>1</th>\n",
              "      <td>24</td>\n",
              "      <td>&lt; 1 Yil</td>\n",
              "      <td>H</td>\n",
              "      <td>2683.33</td>\n",
              "      <td>177</td>\n",
              "      <td>105</td>\n",
              "      <td>1</td>\n",
              "      <td>0</td>\n",
              "      <td>0</td>\n",
              "      <td>0</td>\n",
              "      <td>0</td>\n",
              "      <td>0</td>\n",
              "      <td>0</td>\n",
              "      <td>0</td>\n",
              "      <td>0</td>\n",
              "      <td>0</td>\n",
              "      <td>0</td>\n",
              "      <td>0</td>\n",
              "      <td>0</td>\n",
              "      <td>0</td>\n",
              "      <td>0</td>\n",
              "      <td>0</td>\n",
              "      <td>0</td>\n",
              "      <td>0</td>\n",
              "      <td>0</td>\n",
              "      <td>0</td>\n",
              "      <td>0</td>\n",
              "      <td>0</td>\n",
              "      <td>0</td>\n",
              "      <td>0</td>\n",
              "      <td>0</td>\n",
              "      <td>0</td>\n",
              "      <td>0</td>\n",
              "      <td>0</td>\n",
              "      <td>0</td>\n",
              "      <td>0</td>\n",
              "      <td>0</td>\n",
              "      <td>0</td>\n",
              "      <td>0</td>\n",
              "      <td>0</td>\n",
              "      <td>0</td>\n",
              "      <td>0</td>\n",
              "      <td>0</td>\n",
              "      <td>0</td>\n",
              "      <td>0</td>\n",
              "      <td>0</td>\n",
              "      <td>0</td>\n",
              "      <td>0</td>\n",
              "      <td>0</td>\n",
              "      <td>0</td>\n",
              "      <td>0</td>\n",
              "      <td>0</td>\n",
              "      <td>0</td>\n",
              "      <td>0</td>\n",
              "      <td>0</td>\n",
              "      <td>0</td>\n",
              "      <td>0</td>\n",
              "      <td>1</td>\n",
              "    </tr>\n",
              "  </tbody>\n",
              "</table>\n",
              "</div>"
            ],
            "text/plain": [
              "   Yas Arac_yasi  ... Gecmis_police_Yok  Arac_yasi_bin\n",
              "0   26   < 1 Yil  ...                 1              1\n",
              "1   24   < 1 Yil  ...                 0              1\n",
              "\n",
              "[2 rows x 58 columns]"
            ]
          },
          "metadata": {
            "tags": []
          },
          "execution_count": 50
        }
      ]
    },
    {
      "cell_type": "code",
      "metadata": {
        "id": "W4dSbZajcRN1"
      },
      "source": [
        "arac_train=arac_train.drop(['Arac_yasi'], axis=1)\n",
        "arac_test=arac_test.drop(['Arac_yasi'], axis=1)"
      ],
      "execution_count": null,
      "outputs": []
    },
    {
      "cell_type": "markdown",
      "metadata": {
        "id": "5B2AdQlwPD6R"
      },
      "source": [
        "# **Hasar_durumu**"
      ]
    },
    {
      "cell_type": "code",
      "metadata": {
        "colab": {
          "base_uri": "https://localhost:8080/",
          "height": 408
        },
        "id": "qnJIrgTGPDtl",
        "outputId": "fddaea27-3ea6-4ccc-bd45-22a51414b2b0"
      },
      "source": [
        "table=pd.crosstab(arac_train.Hasar_durumu, arac_train.Sonuc)\n",
        "table.div(table.sum(1).astype(float), axis=0).plot(kind='bar', figsize=(10,6), stacked=True)\n",
        "plt.title('Hasar_durumu vs Sonuc')\n",
        "plt.xlabel('Hasar_durumu')\n",
        "plt.ylabel('Sonuc')\n",
        "plt.show()"
      ],
      "execution_count": null,
      "outputs": [
        {
          "output_type": "display_data",
          "data": {
            "image/png": "[encoded data removed]",
            "text/plain": [
              "<Figure size 720x432 with 1 Axes>"
            ]
          },
          "metadata": {
            "tags": []
          }
        }
      ]
    },
    {
      "cell_type": "code",
      "metadata": {
        "colab": {
          "base_uri": "https://localhost:8080/",
          "height": 124
        },
        "id": "JVVnXT2VPDri",
        "outputId": "80eedd7a-f478-4183-a045-66e6640cc266"
      },
      "source": [
        "cols_to_transform = ['Hasar_durumu'] # make a list if more than one column\n",
        "arac_test = pd.get_dummies(arac_test, columns = cols_to_transform,drop_first=True)\n",
        "arac_test.head(2)"
      ],
      "execution_count": null,
      "outputs": [
        {
          "output_type": "execute_result",
          "data": {
            "text/html": [
              "<div>\n",
              "<style scoped>\n",
              "    .dataframe tbody tr th:only-of-type {\n",
              "        vertical-align: middle;\n",
              "    }\n",
              "\n",
              "    .dataframe tbody tr th {\n",
              "        vertical-align: top;\n",
              "    }\n",
              "\n",
              "    .dataframe thead th {\n",
              "        text-align: right;\n",
              "    }\n",
              "</style>\n",
              "<table border=\"1\" class=\"dataframe\">\n",
              "  <thead>\n",
              "    <tr style=\"text-align: right;\">\n",
              "      <th></th>\n",
              "      <th>Yas</th>\n",
              "      <th>Yillik_prim</th>\n",
              "      <th>Acenta_no</th>\n",
              "      <th>Sure</th>\n",
              "      <th>Cinsiyet_K</th>\n",
              "      <th>age_bin_middle</th>\n",
              "      <th>age_bin_middle_p</th>\n",
              "      <th>age_bin_older</th>\n",
              "      <th>age_bin_older_p</th>\n",
              "      <th>Ehliyet_Yok</th>\n",
              "      <th>Sehir_Adana</th>\n",
              "      <th>Sehir_Adiyaman</th>\n",
              "      <th>Sehir_Afyon</th>\n",
              "      <th>Sehir_Agri</th>\n",
              "      <th>Sehir_Ankara</th>\n",
              "      <th>Sehir_Antalya</th>\n",
              "      <th>Sehir_Aydin</th>\n",
              "      <th>Sehir_Balikesir</th>\n",
              "      <th>Sehir_Batman</th>\n",
              "      <th>Sehir_Canakkale</th>\n",
              "      <th>Sehir_Corum</th>\n",
              "      <th>Sehir_Denizli</th>\n",
              "      <th>Sehir_Diyarbakir</th>\n",
              "      <th>Sehir_Duzce</th>\n",
              "      <th>Sehir_Elazig</th>\n",
              "      <th>Sehir_Erzurum</th>\n",
              "      <th>Sehir_Eskisehir</th>\n",
              "      <th>Sehir_Gaziantep</th>\n",
              "      <th>Sehir_Giresun</th>\n",
              "      <th>Sehir_Hatay</th>\n",
              "      <th>Sehir_Isparta</th>\n",
              "      <th>Sehir_Istanbul</th>\n",
              "      <th>Sehir_Izmir</th>\n",
              "      <th>Sehir_Kastamonu</th>\n",
              "      <th>Sehir_Kayseri</th>\n",
              "      <th>Sehir_Kocaeli</th>\n",
              "      <th>Sehir_Konya</th>\n",
              "      <th>Sehir_Kutahya</th>\n",
              "      <th>Sehir_Malatya</th>\n",
              "      <th>Sehir_Mardin</th>\n",
              "      <th>Sehir_Mugla</th>\n",
              "      <th>Sehir_Mus</th>\n",
              "      <th>Sehir_Ordu</th>\n",
              "      <th>Sehir_Osmaniye</th>\n",
              "      <th>Sehir_Sakarya</th>\n",
              "      <th>Sehir_Samsun</th>\n",
              "      <th>Sehir_Sirnak</th>\n",
              "      <th>Sehir_Sivas</th>\n",
              "      <th>Sehir_Tokat</th>\n",
              "      <th>Sehir_Trabzon</th>\n",
              "      <th>Sehir_Urfa</th>\n",
              "      <th>Sehir_Van</th>\n",
              "      <th>Sehir_Yozgat</th>\n",
              "      <th>Sehir_Zonguldak</th>\n",
              "      <th>Gecmis_police_Yok</th>\n",
              "      <th>Arac_yasi_bin</th>\n",
              "      <th>Hasar_durumu_H</th>\n",
              "    </tr>\n",
              "  </thead>\n",
              "  <tbody>\n",
              "    <tr>\n",
              "      <th>0</th>\n",
              "      <td>26</td>\n",
              "      <td>2975.56</td>\n",
              "      <td>177</td>\n",
              "      <td>94</td>\n",
              "      <td>1</td>\n",
              "      <td>0</td>\n",
              "      <td>0</td>\n",
              "      <td>0</td>\n",
              "      <td>0</td>\n",
              "      <td>0</td>\n",
              "      <td>0</td>\n",
              "      <td>0</td>\n",
              "      <td>0</td>\n",
              "      <td>0</td>\n",
              "      <td>0</td>\n",
              "      <td>0</td>\n",
              "      <td>0</td>\n",
              "      <td>0</td>\n",
              "      <td>0</td>\n",
              "      <td>0</td>\n",
              "      <td>0</td>\n",
              "      <td>0</td>\n",
              "      <td>0</td>\n",
              "      <td>0</td>\n",
              "      <td>0</td>\n",
              "      <td>0</td>\n",
              "      <td>0</td>\n",
              "      <td>0</td>\n",
              "      <td>0</td>\n",
              "      <td>0</td>\n",
              "      <td>0</td>\n",
              "      <td>0</td>\n",
              "      <td>0</td>\n",
              "      <td>0</td>\n",
              "      <td>0</td>\n",
              "      <td>1</td>\n",
              "      <td>0</td>\n",
              "      <td>0</td>\n",
              "      <td>0</td>\n",
              "      <td>0</td>\n",
              "      <td>0</td>\n",
              "      <td>0</td>\n",
              "      <td>0</td>\n",
              "      <td>0</td>\n",
              "      <td>0</td>\n",
              "      <td>0</td>\n",
              "      <td>0</td>\n",
              "      <td>0</td>\n",
              "      <td>0</td>\n",
              "      <td>0</td>\n",
              "      <td>0</td>\n",
              "      <td>0</td>\n",
              "      <td>0</td>\n",
              "      <td>0</td>\n",
              "      <td>1</td>\n",
              "      <td>1</td>\n",
              "      <td>1</td>\n",
              "    </tr>\n",
              "    <tr>\n",
              "      <th>1</th>\n",
              "      <td>24</td>\n",
              "      <td>2683.33</td>\n",
              "      <td>177</td>\n",
              "      <td>105</td>\n",
              "      <td>1</td>\n",
              "      <td>0</td>\n",
              "      <td>0</td>\n",
              "      <td>0</td>\n",
              "      <td>0</td>\n",
              "      <td>0</td>\n",
              "      <td>0</td>\n",
              "      <td>0</td>\n",
              "      <td>0</td>\n",
              "      <td>0</td>\n",
              "      <td>0</td>\n",
              "      <td>0</td>\n",
              "      <td>0</td>\n",
              "      <td>0</td>\n",
              "      <td>0</td>\n",
              "      <td>0</td>\n",
              "      <td>0</td>\n",
              "      <td>0</td>\n",
              "      <td>0</td>\n",
              "      <td>0</td>\n",
              "      <td>0</td>\n",
              "      <td>0</td>\n",
              "      <td>0</td>\n",
              "      <td>0</td>\n",
              "      <td>0</td>\n",
              "      <td>0</td>\n",
              "      <td>0</td>\n",
              "      <td>0</td>\n",
              "      <td>0</td>\n",
              "      <td>0</td>\n",
              "      <td>0</td>\n",
              "      <td>0</td>\n",
              "      <td>0</td>\n",
              "      <td>0</td>\n",
              "      <td>0</td>\n",
              "      <td>0</td>\n",
              "      <td>0</td>\n",
              "      <td>0</td>\n",
              "      <td>0</td>\n",
              "      <td>0</td>\n",
              "      <td>0</td>\n",
              "      <td>0</td>\n",
              "      <td>0</td>\n",
              "      <td>0</td>\n",
              "      <td>0</td>\n",
              "      <td>0</td>\n",
              "      <td>0</td>\n",
              "      <td>0</td>\n",
              "      <td>0</td>\n",
              "      <td>0</td>\n",
              "      <td>0</td>\n",
              "      <td>1</td>\n",
              "      <td>1</td>\n",
              "    </tr>\n",
              "  </tbody>\n",
              "</table>\n",
              "</div>"
            ],
            "text/plain": [
              "   Yas  Yillik_prim  ...  Arac_yasi_bin  Hasar_durumu_H\n",
              "0   26      2975.56  ...              1               1\n",
              "1   24      2683.33  ...              1               1\n",
              "\n",
              "[2 rows x 57 columns]"
            ]
          },
          "metadata": {
            "tags": []
          },
          "execution_count": 53
        }
      ]
    },
    {
      "cell_type": "code",
      "metadata": {
        "colab": {
          "base_uri": "https://localhost:8080/",
          "height": 124
        },
        "id": "-93gpLskQZtG",
        "outputId": "d6834936-8627-4229-82d6-1832587b6cb3"
      },
      "source": [
        "cols_to_transform = ['Hasar_durumu'] # make a list if more than one column\n",
        "arac_train = pd.get_dummies(arac_train, columns = cols_to_transform,drop_first=True)\n",
        "arac_train.head(2)"
      ],
      "execution_count": null,
      "outputs": [
        {
          "output_type": "execute_result",
          "data": {
            "text/html": [
              "<div>\n",
              "<style scoped>\n",
              "    .dataframe tbody tr th:only-of-type {\n",
              "        vertical-align: middle;\n",
              "    }\n",
              "\n",
              "    .dataframe tbody tr th {\n",
              "        vertical-align: top;\n",
              "    }\n",
              "\n",
              "    .dataframe thead th {\n",
              "        text-align: right;\n",
              "    }\n",
              "</style>\n",
              "<table border=\"1\" class=\"dataframe\">\n",
              "  <thead>\n",
              "    <tr style=\"text-align: right;\">\n",
              "      <th></th>\n",
              "      <th>Yas</th>\n",
              "      <th>Yillik_prim</th>\n",
              "      <th>Acenta_no</th>\n",
              "      <th>Sure</th>\n",
              "      <th>Sonuc</th>\n",
              "      <th>Cinsiyet_K</th>\n",
              "      <th>NUMBER</th>\n",
              "      <th>age_bin_middle</th>\n",
              "      <th>age_bin_middle_p</th>\n",
              "      <th>age_bin_older</th>\n",
              "      <th>age_bin_older_p</th>\n",
              "      <th>Ehliyet_Yok</th>\n",
              "      <th>Sehir_Adana</th>\n",
              "      <th>Sehir_Adiyaman</th>\n",
              "      <th>Sehir_Afyon</th>\n",
              "      <th>Sehir_Agri</th>\n",
              "      <th>Sehir_Ankara</th>\n",
              "      <th>Sehir_Antalya</th>\n",
              "      <th>Sehir_Aydin</th>\n",
              "      <th>Sehir_Balikesir</th>\n",
              "      <th>Sehir_Batman</th>\n",
              "      <th>Sehir_Canakkale</th>\n",
              "      <th>Sehir_Corum</th>\n",
              "      <th>Sehir_Denizli</th>\n",
              "      <th>Sehir_Diyarbakir</th>\n",
              "      <th>Sehir_Duzce</th>\n",
              "      <th>Sehir_Elazig</th>\n",
              "      <th>Sehir_Erzurum</th>\n",
              "      <th>Sehir_Eskisehir</th>\n",
              "      <th>Sehir_Gaziantep</th>\n",
              "      <th>Sehir_Giresun</th>\n",
              "      <th>Sehir_Hatay</th>\n",
              "      <th>Sehir_Isparta</th>\n",
              "      <th>Sehir_Istanbul</th>\n",
              "      <th>Sehir_Izmir</th>\n",
              "      <th>Sehir_Kastamonu</th>\n",
              "      <th>Sehir_Kayseri</th>\n",
              "      <th>Sehir_Kocaeli</th>\n",
              "      <th>Sehir_Konya</th>\n",
              "      <th>Sehir_Kutahya</th>\n",
              "      <th>Sehir_Malatya</th>\n",
              "      <th>Sehir_Mardin</th>\n",
              "      <th>Sehir_Mugla</th>\n",
              "      <th>Sehir_Mus</th>\n",
              "      <th>Sehir_Ordu</th>\n",
              "      <th>Sehir_Osmaniye</th>\n",
              "      <th>Sehir_Sakarya</th>\n",
              "      <th>Sehir_Samsun</th>\n",
              "      <th>Sehir_Sirnak</th>\n",
              "      <th>Sehir_Sivas</th>\n",
              "      <th>Sehir_Tokat</th>\n",
              "      <th>Sehir_Trabzon</th>\n",
              "      <th>Sehir_Urfa</th>\n",
              "      <th>Sehir_Van</th>\n",
              "      <th>Sehir_Yozgat</th>\n",
              "      <th>Sehir_Zonguldak</th>\n",
              "      <th>Gecmis_police_Yok</th>\n",
              "      <th>Arac_yasi_bin</th>\n",
              "      <th>Hasar_durumu_H</th>\n",
              "    </tr>\n",
              "  </thead>\n",
              "  <tbody>\n",
              "    <tr>\n",
              "      <th>0</th>\n",
              "      <td>36</td>\n",
              "      <td>2960.00</td>\n",
              "      <td>147</td>\n",
              "      <td>131</td>\n",
              "      <td>0</td>\n",
              "      <td>0</td>\n",
              "      <td>1</td>\n",
              "      <td>1</td>\n",
              "      <td>0</td>\n",
              "      <td>0</td>\n",
              "      <td>0</td>\n",
              "      <td>0</td>\n",
              "      <td>0</td>\n",
              "      <td>0</td>\n",
              "      <td>0</td>\n",
              "      <td>0</td>\n",
              "      <td>0</td>\n",
              "      <td>0</td>\n",
              "      <td>0</td>\n",
              "      <td>0</td>\n",
              "      <td>0</td>\n",
              "      <td>0</td>\n",
              "      <td>0</td>\n",
              "      <td>0</td>\n",
              "      <td>0</td>\n",
              "      <td>0</td>\n",
              "      <td>0</td>\n",
              "      <td>0</td>\n",
              "      <td>0</td>\n",
              "      <td>0</td>\n",
              "      <td>0</td>\n",
              "      <td>0</td>\n",
              "      <td>0</td>\n",
              "      <td>0</td>\n",
              "      <td>0</td>\n",
              "      <td>0</td>\n",
              "      <td>0</td>\n",
              "      <td>0</td>\n",
              "      <td>0</td>\n",
              "      <td>0</td>\n",
              "      <td>0</td>\n",
              "      <td>0</td>\n",
              "      <td>0</td>\n",
              "      <td>0</td>\n",
              "      <td>1</td>\n",
              "      <td>0</td>\n",
              "      <td>0</td>\n",
              "      <td>0</td>\n",
              "      <td>0</td>\n",
              "      <td>0</td>\n",
              "      <td>0</td>\n",
              "      <td>0</td>\n",
              "      <td>0</td>\n",
              "      <td>0</td>\n",
              "      <td>0</td>\n",
              "      <td>0</td>\n",
              "      <td>1</td>\n",
              "      <td>2</td>\n",
              "      <td>0</td>\n",
              "    </tr>\n",
              "    <tr>\n",
              "      <th>1</th>\n",
              "      <td>31</td>\n",
              "      <td>3081.78</td>\n",
              "      <td>177</td>\n",
              "      <td>213</td>\n",
              "      <td>0</td>\n",
              "      <td>0</td>\n",
              "      <td>1</td>\n",
              "      <td>1</td>\n",
              "      <td>0</td>\n",
              "      <td>0</td>\n",
              "      <td>0</td>\n",
              "      <td>0</td>\n",
              "      <td>0</td>\n",
              "      <td>0</td>\n",
              "      <td>0</td>\n",
              "      <td>0</td>\n",
              "      <td>0</td>\n",
              "      <td>0</td>\n",
              "      <td>0</td>\n",
              "      <td>0</td>\n",
              "      <td>0</td>\n",
              "      <td>0</td>\n",
              "      <td>0</td>\n",
              "      <td>0</td>\n",
              "      <td>0</td>\n",
              "      <td>0</td>\n",
              "      <td>0</td>\n",
              "      <td>0</td>\n",
              "      <td>0</td>\n",
              "      <td>1</td>\n",
              "      <td>0</td>\n",
              "      <td>0</td>\n",
              "      <td>0</td>\n",
              "      <td>0</td>\n",
              "      <td>0</td>\n",
              "      <td>0</td>\n",
              "      <td>0</td>\n",
              "      <td>0</td>\n",
              "      <td>0</td>\n",
              "      <td>0</td>\n",
              "      <td>0</td>\n",
              "      <td>0</td>\n",
              "      <td>0</td>\n",
              "      <td>0</td>\n",
              "      <td>0</td>\n",
              "      <td>0</td>\n",
              "      <td>0</td>\n",
              "      <td>0</td>\n",
              "      <td>0</td>\n",
              "      <td>0</td>\n",
              "      <td>0</td>\n",
              "      <td>0</td>\n",
              "      <td>0</td>\n",
              "      <td>0</td>\n",
              "      <td>0</td>\n",
              "      <td>0</td>\n",
              "      <td>0</td>\n",
              "      <td>1</td>\n",
              "      <td>1</td>\n",
              "    </tr>\n",
              "  </tbody>\n",
              "</table>\n",
              "</div>"
            ],
            "text/plain": [
              "   Yas  Yillik_prim  ...  Arac_yasi_bin  Hasar_durumu_H\n",
              "0   36      2960.00  ...              2               0\n",
              "1   31      3081.78  ...              1               1\n",
              "\n",
              "[2 rows x 59 columns]"
            ]
          },
          "metadata": {
            "tags": []
          },
          "execution_count": 54
        }
      ]
    },
    {
      "cell_type": "code",
      "metadata": {
        "id": "NeIUVgS4cNBg"
      },
      "source": [
        ""
      ],
      "execution_count": null,
      "outputs": []
    },
    {
      "cell_type": "markdown",
      "metadata": {
        "id": "AXh_rxg3PyrQ"
      },
      "source": [
        "# **Yillik_prim**"
      ]
    },
    {
      "cell_type": "code",
      "metadata": {
        "colab": {
          "base_uri": "https://localhost:8080/",
          "height": 284
        },
        "id": "RcSdo8u1Pyh-",
        "outputId": "02e08729-cffa-4fb0-cda3-95217ac6b4fa"
      },
      "source": [
        "g = sns.kdeplot(arac_train['Yillik_prim'][(arac_train[\"Sonuc\"] == 0)], color=\"Red\", shade = True)\n",
        "g = sns.kdeplot(arac_train['Yillik_prim'][(arac_train[\"Sonuc\"] == 1)], ax =g, color=\"Blue\", shade= True)\n",
        "g.set_xlabel('Yillik_prim')\n",
        "g.set_ylabel(\"Frequency\")\n",
        "g = g.legend([\"Yillik_prim for Sonuc = 0\", \"Yillik_prim for Sonuc = 1\"])"
      ],
      "execution_count": null,
      "outputs": [
        {
          "output_type": "display_data",
          "data": {
            "image/png": "[encoded data removed]",
            "text/plain": [
              "<Figure size 432x288 with 1 Axes>"
            ]
          },
          "metadata": {
            "tags": []
          }
        }
      ]
    },
    {
      "cell_type": "markdown",
      "metadata": {
        "id": "y5AmL47uRNZt"
      },
      "source": [
        "# **Acenta_no**"
      ]
    },
    {
      "cell_type": "code",
      "metadata": {
        "colab": {
          "base_uri": "https://localhost:8080/",
          "height": 284
        },
        "id": "xP-PGlpfPybF",
        "outputId": "645c0bb6-8cdd-4e58-ef74-7797da19cdd8"
      },
      "source": [
        "g = sns.kdeplot(arac_train['Acenta_no'][(arac_train[\"Sonuc\"] == 0)], color=\"Red\", shade = True)\n",
        "g = sns.kdeplot(arac_train['Acenta_no'][(arac_train[\"Sonuc\"] == 1)], ax =g, color=\"Blue\", shade= True)\n",
        "g.set_xlabel('Acenta_no')\n",
        "g.set_ylabel(\"Frequency\")\n",
        "g = g.legend([\"Acenta_no for Sonuc = 0\", \"Acenta_no for Sonuc = 1\"])"
      ],
      "execution_count": null,
      "outputs": [
        {
          "output_type": "display_data",
          "data": {
            "image/png": "[encoded data removed]",
            "text/plain": [
              "<Figure size 432x288 with 1 Axes>"
            ]
          },
          "metadata": {
            "tags": []
          }
        }
      ]
    },
    {
      "cell_type": "code",
      "metadata": {
        "colab": {
          "base_uri": "https://localhost:8080/"
        },
        "id": "yK6QrwEvTLmx",
        "outputId": "c7e0c9fb-7a6a-4a1c-8837-774e435973c8"
      },
      "source": [
        "arac_train['Acenta_no'].max()"
      ],
      "execution_count": null,
      "outputs": [
        {
          "output_type": "execute_result",
          "data": {
            "text/plain": [
              "188"
            ]
          },
          "metadata": {
            "tags": []
          },
          "execution_count": 57
        }
      ]
    },
    {
      "cell_type": "code",
      "metadata": {
        "colab": {
          "base_uri": "https://localhost:8080/"
        },
        "id": "FByE8cgvTO85",
        "outputId": "0ebb2f26-24ff-42b3-a67a-e2e949201d05"
      },
      "source": [
        "arac_train['Acenta_no'].min()"
      ],
      "execution_count": null,
      "outputs": [
        {
          "output_type": "execute_result",
          "data": {
            "text/plain": [
              "26"
            ]
          },
          "metadata": {
            "tags": []
          },
          "execution_count": 58
        }
      ]
    },
    {
      "cell_type": "code",
      "metadata": {
        "colab": {
          "base_uri": "https://localhost:8080/",
          "height": 124
        },
        "id": "fjlncIk6S0Cv",
        "outputId": "99d4a8b5-6f76-4cb0-fe0a-bfa082d704a3"
      },
      "source": [
        "bins = [0,20,75,125,160,200]\n",
        "labels=[\"a_1\",\"a_2\",\"a_3\",\"a_4\",\"a_5\"]\n",
        "arac_train['Acenta_no_bin'] = pd.cut(arac_train['Acenta_no'], bins=bins, labels=labels)\n",
        "arac_train.head(2)"
      ],
      "execution_count": null,
      "outputs": [
        {
          "output_type": "execute_result",
          "data": {
            "text/html": [
              "<div>\n",
              "<style scoped>\n",
              "    .dataframe tbody tr th:only-of-type {\n",
              "        vertical-align: middle;\n",
              "    }\n",
              "\n",
              "    .dataframe tbody tr th {\n",
              "        vertical-align: top;\n",
              "    }\n",
              "\n",
              "    .dataframe thead th {\n",
              "        text-align: right;\n",
              "    }\n",
              "</style>\n",
              "<table border=\"1\" class=\"dataframe\">\n",
              "  <thead>\n",
              "    <tr style=\"text-align: right;\">\n",
              "      <th></th>\n",
              "      <th>Yas</th>\n",
              "      <th>Yillik_prim</th>\n",
              "      <th>Acenta_no</th>\n",
              "      <th>Sure</th>\n",
              "      <th>Sonuc</th>\n",
              "      <th>Cinsiyet_K</th>\n",
              "      <th>NUMBER</th>\n",
              "      <th>age_bin_middle</th>\n",
              "      <th>age_bin_middle_p</th>\n",
              "      <th>age_bin_older</th>\n",
              "      <th>age_bin_older_p</th>\n",
              "      <th>Ehliyet_Yok</th>\n",
              "      <th>Sehir_Adana</th>\n",
              "      <th>Sehir_Adiyaman</th>\n",
              "      <th>Sehir_Afyon</th>\n",
              "      <th>Sehir_Agri</th>\n",
              "      <th>Sehir_Ankara</th>\n",
              "      <th>Sehir_Antalya</th>\n",
              "      <th>Sehir_Aydin</th>\n",
              "      <th>Sehir_Balikesir</th>\n",
              "      <th>Sehir_Batman</th>\n",
              "      <th>Sehir_Canakkale</th>\n",
              "      <th>Sehir_Corum</th>\n",
              "      <th>Sehir_Denizli</th>\n",
              "      <th>Sehir_Diyarbakir</th>\n",
              "      <th>Sehir_Duzce</th>\n",
              "      <th>Sehir_Elazig</th>\n",
              "      <th>Sehir_Erzurum</th>\n",
              "      <th>Sehir_Eskisehir</th>\n",
              "      <th>Sehir_Gaziantep</th>\n",
              "      <th>Sehir_Giresun</th>\n",
              "      <th>Sehir_Hatay</th>\n",
              "      <th>Sehir_Isparta</th>\n",
              "      <th>Sehir_Istanbul</th>\n",
              "      <th>Sehir_Izmir</th>\n",
              "      <th>Sehir_Kastamonu</th>\n",
              "      <th>Sehir_Kayseri</th>\n",
              "      <th>Sehir_Kocaeli</th>\n",
              "      <th>Sehir_Konya</th>\n",
              "      <th>Sehir_Kutahya</th>\n",
              "      <th>Sehir_Malatya</th>\n",
              "      <th>Sehir_Mardin</th>\n",
              "      <th>Sehir_Mugla</th>\n",
              "      <th>Sehir_Mus</th>\n",
              "      <th>Sehir_Ordu</th>\n",
              "      <th>Sehir_Osmaniye</th>\n",
              "      <th>Sehir_Sakarya</th>\n",
              "      <th>Sehir_Samsun</th>\n",
              "      <th>Sehir_Sirnak</th>\n",
              "      <th>Sehir_Sivas</th>\n",
              "      <th>Sehir_Tokat</th>\n",
              "      <th>Sehir_Trabzon</th>\n",
              "      <th>Sehir_Urfa</th>\n",
              "      <th>Sehir_Van</th>\n",
              "      <th>Sehir_Yozgat</th>\n",
              "      <th>Sehir_Zonguldak</th>\n",
              "      <th>Gecmis_police_Yok</th>\n",
              "      <th>Arac_yasi_bin</th>\n",
              "      <th>Hasar_durumu_H</th>\n",
              "      <th>Acenta_no_bin</th>\n",
              "    </tr>\n",
              "  </thead>\n",
              "  <tbody>\n",
              "    <tr>\n",
              "      <th>0</th>\n",
              "      <td>36</td>\n",
              "      <td>2960.00</td>\n",
              "      <td>147</td>\n",
              "      <td>131</td>\n",
              "      <td>0</td>\n",
              "      <td>0</td>\n",
              "      <td>1</td>\n",
              "      <td>1</td>\n",
              "      <td>0</td>\n",
              "      <td>0</td>\n",
              "      <td>0</td>\n",
              "      <td>0</td>\n",
              "      <td>0</td>\n",
              "      <td>0</td>\n",
              "      <td>0</td>\n",
              "      <td>0</td>\n",
              "      <td>0</td>\n",
              "      <td>0</td>\n",
              "      <td>0</td>\n",
              "      <td>0</td>\n",
              "      <td>0</td>\n",
              "      <td>0</td>\n",
              "      <td>0</td>\n",
              "      <td>0</td>\n",
              "      <td>0</td>\n",
              "      <td>0</td>\n",
              "      <td>0</td>\n",
              "      <td>0</td>\n",
              "      <td>0</td>\n",
              "      <td>0</td>\n",
              "      <td>0</td>\n",
              "      <td>0</td>\n",
              "      <td>0</td>\n",
              "      <td>0</td>\n",
              "      <td>0</td>\n",
              "      <td>0</td>\n",
              "      <td>0</td>\n",
              "      <td>0</td>\n",
              "      <td>0</td>\n",
              "      <td>0</td>\n",
              "      <td>0</td>\n",
              "      <td>0</td>\n",
              "      <td>0</td>\n",
              "      <td>0</td>\n",
              "      <td>1</td>\n",
              "      <td>0</td>\n",
              "      <td>0</td>\n",
              "      <td>0</td>\n",
              "      <td>0</td>\n",
              "      <td>0</td>\n",
              "      <td>0</td>\n",
              "      <td>0</td>\n",
              "      <td>0</td>\n",
              "      <td>0</td>\n",
              "      <td>0</td>\n",
              "      <td>0</td>\n",
              "      <td>1</td>\n",
              "      <td>2</td>\n",
              "      <td>0</td>\n",
              "      <td>a_4</td>\n",
              "    </tr>\n",
              "    <tr>\n",
              "      <th>1</th>\n",
              "      <td>31</td>\n",
              "      <td>3081.78</td>\n",
              "      <td>177</td>\n",
              "      <td>213</td>\n",
              "      <td>0</td>\n",
              "      <td>0</td>\n",
              "      <td>1</td>\n",
              "      <td>1</td>\n",
              "      <td>0</td>\n",
              "      <td>0</td>\n",
              "      <td>0</td>\n",
              "      <td>0</td>\n",
              "      <td>0</td>\n",
              "      <td>0</td>\n",
              "      <td>0</td>\n",
              "      <td>0</td>\n",
              "      <td>0</td>\n",
              "      <td>0</td>\n",
              "      <td>0</td>\n",
              "      <td>0</td>\n",
              "      <td>0</td>\n",
              "      <td>0</td>\n",
              "      <td>0</td>\n",
              "      <td>0</td>\n",
              "      <td>0</td>\n",
              "      <td>0</td>\n",
              "      <td>0</td>\n",
              "      <td>0</td>\n",
              "      <td>0</td>\n",
              "      <td>1</td>\n",
              "      <td>0</td>\n",
              "      <td>0</td>\n",
              "      <td>0</td>\n",
              "      <td>0</td>\n",
              "      <td>0</td>\n",
              "      <td>0</td>\n",
              "      <td>0</td>\n",
              "      <td>0</td>\n",
              "      <td>0</td>\n",
              "      <td>0</td>\n",
              "      <td>0</td>\n",
              "      <td>0</td>\n",
              "      <td>0</td>\n",
              "      <td>0</td>\n",
              "      <td>0</td>\n",
              "      <td>0</td>\n",
              "      <td>0</td>\n",
              "      <td>0</td>\n",
              "      <td>0</td>\n",
              "      <td>0</td>\n",
              "      <td>0</td>\n",
              "      <td>0</td>\n",
              "      <td>0</td>\n",
              "      <td>0</td>\n",
              "      <td>0</td>\n",
              "      <td>0</td>\n",
              "      <td>0</td>\n",
              "      <td>1</td>\n",
              "      <td>1</td>\n",
              "      <td>a_5</td>\n",
              "    </tr>\n",
              "  </tbody>\n",
              "</table>\n",
              "</div>"
            ],
            "text/plain": [
              "   Yas  Yillik_prim  Acenta_no  ...  Arac_yasi_bin  Hasar_durumu_H  Acenta_no_bin\n",
              "0   36      2960.00        147  ...              2               0            a_4\n",
              "1   31      3081.78        177  ...              1               1            a_5\n",
              "\n",
              "[2 rows x 60 columns]"
            ]
          },
          "metadata": {
            "tags": []
          },
          "execution_count": 59
        }
      ]
    },
    {
      "cell_type": "markdown",
      "metadata": {
        "id": "mHShyS9fZj7q"
      },
      "source": [
        " **yukarıdaki grafiğe göre binledim**"
      ]
    },
    {
      "cell_type": "code",
      "metadata": {
        "colab": {
          "base_uri": "https://localhost:8080/",
          "height": 124
        },
        "id": "NshrkWz8UQ26",
        "outputId": "c063847b-c424-491c-c051-e51be6c19f87"
      },
      "source": [
        "bins = [0,20,75,125,160,200]\n",
        "labels=[\"a_1\",\"a_2\",\"a_3\",\"a_4\",\"a_5\"]\n",
        "arac_test['Acenta_no_bin'] = pd.cut(arac_test['Acenta_no'], bins=bins, labels=labels)\n",
        "arac_test.head(2)"
      ],
      "execution_count": null,
      "outputs": [
        {
          "output_type": "execute_result",
          "data": {
            "text/html": [
              "<div>\n",
              "<style scoped>\n",
              "    .dataframe tbody tr th:only-of-type {\n",
              "        vertical-align: middle;\n",
              "    }\n",
              "\n",
              "    .dataframe tbody tr th {\n",
              "        vertical-align: top;\n",
              "    }\n",
              "\n",
              "    .dataframe thead th {\n",
              "        text-align: right;\n",
              "    }\n",
              "</style>\n",
              "<table border=\"1\" class=\"dataframe\">\n",
              "  <thead>\n",
              "    <tr style=\"text-align: right;\">\n",
              "      <th></th>\n",
              "      <th>Yas</th>\n",
              "      <th>Yillik_prim</th>\n",
              "      <th>Acenta_no</th>\n",
              "      <th>Sure</th>\n",
              "      <th>Cinsiyet_K</th>\n",
              "      <th>age_bin_middle</th>\n",
              "      <th>age_bin_middle_p</th>\n",
              "      <th>age_bin_older</th>\n",
              "      <th>age_bin_older_p</th>\n",
              "      <th>Ehliyet_Yok</th>\n",
              "      <th>Sehir_Adana</th>\n",
              "      <th>Sehir_Adiyaman</th>\n",
              "      <th>Sehir_Afyon</th>\n",
              "      <th>Sehir_Agri</th>\n",
              "      <th>Sehir_Ankara</th>\n",
              "      <th>Sehir_Antalya</th>\n",
              "      <th>Sehir_Aydin</th>\n",
              "      <th>Sehir_Balikesir</th>\n",
              "      <th>Sehir_Batman</th>\n",
              "      <th>Sehir_Canakkale</th>\n",
              "      <th>Sehir_Corum</th>\n",
              "      <th>Sehir_Denizli</th>\n",
              "      <th>Sehir_Diyarbakir</th>\n",
              "      <th>Sehir_Duzce</th>\n",
              "      <th>Sehir_Elazig</th>\n",
              "      <th>Sehir_Erzurum</th>\n",
              "      <th>Sehir_Eskisehir</th>\n",
              "      <th>Sehir_Gaziantep</th>\n",
              "      <th>Sehir_Giresun</th>\n",
              "      <th>Sehir_Hatay</th>\n",
              "      <th>Sehir_Isparta</th>\n",
              "      <th>Sehir_Istanbul</th>\n",
              "      <th>Sehir_Izmir</th>\n",
              "      <th>Sehir_Kastamonu</th>\n",
              "      <th>Sehir_Kayseri</th>\n",
              "      <th>Sehir_Kocaeli</th>\n",
              "      <th>Sehir_Konya</th>\n",
              "      <th>Sehir_Kutahya</th>\n",
              "      <th>Sehir_Malatya</th>\n",
              "      <th>Sehir_Mardin</th>\n",
              "      <th>Sehir_Mugla</th>\n",
              "      <th>Sehir_Mus</th>\n",
              "      <th>Sehir_Ordu</th>\n",
              "      <th>Sehir_Osmaniye</th>\n",
              "      <th>Sehir_Sakarya</th>\n",
              "      <th>Sehir_Samsun</th>\n",
              "      <th>Sehir_Sirnak</th>\n",
              "      <th>Sehir_Sivas</th>\n",
              "      <th>Sehir_Tokat</th>\n",
              "      <th>Sehir_Trabzon</th>\n",
              "      <th>Sehir_Urfa</th>\n",
              "      <th>Sehir_Van</th>\n",
              "      <th>Sehir_Yozgat</th>\n",
              "      <th>Sehir_Zonguldak</th>\n",
              "      <th>Gecmis_police_Yok</th>\n",
              "      <th>Arac_yasi_bin</th>\n",
              "      <th>Hasar_durumu_H</th>\n",
              "      <th>Acenta_no_bin</th>\n",
              "    </tr>\n",
              "  </thead>\n",
              "  <tbody>\n",
              "    <tr>\n",
              "      <th>0</th>\n",
              "      <td>26</td>\n",
              "      <td>2975.56</td>\n",
              "      <td>177</td>\n",
              "      <td>94</td>\n",
              "      <td>1</td>\n",
              "      <td>0</td>\n",
              "      <td>0</td>\n",
              "      <td>0</td>\n",
              "      <td>0</td>\n",
              "      <td>0</td>\n",
              "      <td>0</td>\n",
              "      <td>0</td>\n",
              "      <td>0</td>\n",
              "      <td>0</td>\n",
              "      <td>0</td>\n",
              "      <td>0</td>\n",
              "      <td>0</td>\n",
              "      <td>0</td>\n",
              "      <td>0</td>\n",
              "      <td>0</td>\n",
              "      <td>0</td>\n",
              "      <td>0</td>\n",
              "      <td>0</td>\n",
              "      <td>0</td>\n",
              "      <td>0</td>\n",
              "      <td>0</td>\n",
              "      <td>0</td>\n",
              "      <td>0</td>\n",
              "      <td>0</td>\n",
              "      <td>0</td>\n",
              "      <td>0</td>\n",
              "      <td>0</td>\n",
              "      <td>0</td>\n",
              "      <td>0</td>\n",
              "      <td>0</td>\n",
              "      <td>1</td>\n",
              "      <td>0</td>\n",
              "      <td>0</td>\n",
              "      <td>0</td>\n",
              "      <td>0</td>\n",
              "      <td>0</td>\n",
              "      <td>0</td>\n",
              "      <td>0</td>\n",
              "      <td>0</td>\n",
              "      <td>0</td>\n",
              "      <td>0</td>\n",
              "      <td>0</td>\n",
              "      <td>0</td>\n",
              "      <td>0</td>\n",
              "      <td>0</td>\n",
              "      <td>0</td>\n",
              "      <td>0</td>\n",
              "      <td>0</td>\n",
              "      <td>0</td>\n",
              "      <td>1</td>\n",
              "      <td>1</td>\n",
              "      <td>1</td>\n",
              "      <td>a_5</td>\n",
              "    </tr>\n",
              "    <tr>\n",
              "      <th>1</th>\n",
              "      <td>24</td>\n",
              "      <td>2683.33</td>\n",
              "      <td>177</td>\n",
              "      <td>105</td>\n",
              "      <td>1</td>\n",
              "      <td>0</td>\n",
              "      <td>0</td>\n",
              "      <td>0</td>\n",
              "      <td>0</td>\n",
              "      <td>0</td>\n",
              "      <td>0</td>\n",
              "      <td>0</td>\n",
              "      <td>0</td>\n",
              "      <td>0</td>\n",
              "      <td>0</td>\n",
              "      <td>0</td>\n",
              "      <td>0</td>\n",
              "      <td>0</td>\n",
              "      <td>0</td>\n",
              "      <td>0</td>\n",
              "      <td>0</td>\n",
              "      <td>0</td>\n",
              "      <td>0</td>\n",
              "      <td>0</td>\n",
              "      <td>0</td>\n",
              "      <td>0</td>\n",
              "      <td>0</td>\n",
              "      <td>0</td>\n",
              "      <td>0</td>\n",
              "      <td>0</td>\n",
              "      <td>0</td>\n",
              "      <td>0</td>\n",
              "      <td>0</td>\n",
              "      <td>0</td>\n",
              "      <td>0</td>\n",
              "      <td>0</td>\n",
              "      <td>0</td>\n",
              "      <td>0</td>\n",
              "      <td>0</td>\n",
              "      <td>0</td>\n",
              "      <td>0</td>\n",
              "      <td>0</td>\n",
              "      <td>0</td>\n",
              "      <td>0</td>\n",
              "      <td>0</td>\n",
              "      <td>0</td>\n",
              "      <td>0</td>\n",
              "      <td>0</td>\n",
              "      <td>0</td>\n",
              "      <td>0</td>\n",
              "      <td>0</td>\n",
              "      <td>0</td>\n",
              "      <td>0</td>\n",
              "      <td>0</td>\n",
              "      <td>0</td>\n",
              "      <td>1</td>\n",
              "      <td>1</td>\n",
              "      <td>a_5</td>\n",
              "    </tr>\n",
              "  </tbody>\n",
              "</table>\n",
              "</div>"
            ],
            "text/plain": [
              "   Yas  Yillik_prim  Acenta_no  ...  Arac_yasi_bin  Hasar_durumu_H  Acenta_no_bin\n",
              "0   26      2975.56        177  ...              1               1            a_5\n",
              "1   24      2683.33        177  ...              1               1            a_5\n",
              "\n",
              "[2 rows x 58 columns]"
            ]
          },
          "metadata": {
            "tags": []
          },
          "execution_count": 60
        }
      ]
    },
    {
      "cell_type": "code",
      "metadata": {
        "id": "zPfzi3hCZycE"
      },
      "source": [
        "arac_train=arac_train.drop(['Acenta_no'], axis=1)\n",
        "arac_test=arac_test.drop(['Acenta_no'], axis=1)"
      ],
      "execution_count": null,
      "outputs": []
    },
    {
      "cell_type": "code",
      "metadata": {
        "colab": {
          "base_uri": "https://localhost:8080/",
          "height": 418
        },
        "id": "uWr_r4VhTYQ3",
        "outputId": "2a6ee729-0220-44fe-9820-11befde941ee"
      },
      "source": [
        "table=pd.crosstab(arac_train.Acenta_no_bin, arac_train.Sonuc)\n",
        "table.div(table.sum(1).astype(float), axis=0).plot(kind='bar', figsize=(10,6), stacked=True)\n",
        "plt.title('Acenta_no_bin vs Sonuc')\n",
        "plt.xlabel('Acenta_no_bin')\n",
        "plt.ylabel('Sonuc')\n",
        "plt.show()"
      ],
      "execution_count": null,
      "outputs": [
        {
          "output_type": "display_data",
          "data": {
            "image/png": "[encoded data removed]",
            "text/plain": [
              "<Figure size 720x432 with 1 Axes>"
            ]
          },
          "metadata": {
            "tags": []
          }
        }
      ]
    },
    {
      "cell_type": "code",
      "metadata": {
        "colab": {
          "base_uri": "https://localhost:8080/",
          "height": 409
        },
        "id": "IvsVikLqThJQ",
        "outputId": "b3df2c6a-7c2d-427b-e140-bc17872c369e"
      },
      "source": [
        "arac_train['NUMBER'] = 1 \n",
        "pivot_table = pd.pivot_table(arac_train,values = 'NUMBER',index=['Acenta_no_bin'],columns=['Sonuc'], aggfunc=np.sum,fill_value=0).rename_axis(None)\n",
        "pivot_table = pivot_table[[0,1]]\n",
        "pivot_table.plot(kind='barh', stacked=True,figsize=(12,6), title= 'Acenta_no_bin and Sonuc', rot=0)"
      ],
      "execution_count": null,
      "outputs": [
        {
          "output_type": "execute_result",
          "data": {
            "text/plain": [
              "<matplotlib.axes._subplots.AxesSubplot at 0x7f6c629be690>"
            ]
          },
          "metadata": {
            "tags": []
          },
          "execution_count": 63
        },
        {
          "output_type": "display_data",
          "data": {
            "image/png": "[encoded data removed]",
            "text/plain": [
              "<Figure size 864x432 with 1 Axes>"
            ]
          },
          "metadata": {
            "tags": []
          }
        }
      ]
    },
    {
      "cell_type": "code",
      "metadata": {
        "colab": {
          "base_uri": "https://localhost:8080/",
          "height": 246
        },
        "id": "w2ibB7u_ThGc",
        "outputId": "525aae60-c7b1-425c-e19d-17a424ff385e"
      },
      "source": [
        "PythonDummies = arac_train['Acenta_no_bin'].str.get_dummies(sep=\",\")\n",
        "Satisfaction=arac_train[\"Sonuc\"]\n",
        "\n",
        "chi2test = SelectKBest(score_func=chi2, k='all') # you can select the first n features as well (k=n)\n",
        "selector = chi2test.fit(PythonDummies, Satisfaction)\n",
        "\n",
        "# summarize scores\n",
        "np.set_printoptions(precision=3)\n",
        "print('Scores  :', selector.scores_, '\\n')\n",
        "print('p_values:', selector.pvalues_, '\\n')\n",
        "features = selector.transform(PythonDummies)\n",
        "\n",
        "print(PythonDummies.columns[selector.get_support()])\n",
        "\n",
        "dfChi2 = pd.DataFrame(data=np.zeros(shape=(PythonDummies.shape[1],2)), columns = ['Feature', 'p-value'])\n",
        "for i in range(PythonDummies.shape[1]):\n",
        "    dfChi2.loc[i,'Feature'] = PythonDummies.columns[i]\n",
        "    dfChi2.loc[i, 'p-value'] = np.round(selector.pvalues_[i],6)\n",
        "dfChi2.sort_values(by='p-value')"
      ],
      "execution_count": null,
      "outputs": [
        {
          "output_type": "stream",
          "text": [
            "Scores  : [3.398e+03 2.115e+00 2.526e+03 5.912e+03] \n",
            "\n",
            "p_values: [0.    0.146 0.    0.   ] \n",
            "\n",
            "Index(['a_2', 'a_3', 'a_4', 'a_5'], dtype='object')\n"
          ],
          "name": "stdout"
        },
        {
          "output_type": "execute_result",
          "data": {
            "text/html": [
              "<div>\n",
              "<style scoped>\n",
              "    .dataframe tbody tr th:only-of-type {\n",
              "        vertical-align: middle;\n",
              "    }\n",
              "\n",
              "    .dataframe tbody tr th {\n",
              "        vertical-align: top;\n",
              "    }\n",
              "\n",
              "    .dataframe thead th {\n",
              "        text-align: right;\n",
              "    }\n",
              "</style>\n",
              "<table border=\"1\" class=\"dataframe\">\n",
              "  <thead>\n",
              "    <tr style=\"text-align: right;\">\n",
              "      <th></th>\n",
              "      <th>Feature</th>\n",
              "      <th>p-value</th>\n",
              "    </tr>\n",
              "  </thead>\n",
              "  <tbody>\n",
              "    <tr>\n",
              "      <th>0</th>\n",
              "      <td>a_2</td>\n",
              "      <td>0.000000</td>\n",
              "    </tr>\n",
              "    <tr>\n",
              "      <th>2</th>\n",
              "      <td>a_4</td>\n",
              "      <td>0.000000</td>\n",
              "    </tr>\n",
              "    <tr>\n",
              "      <th>3</th>\n",
              "      <td>a_5</td>\n",
              "      <td>0.000000</td>\n",
              "    </tr>\n",
              "    <tr>\n",
              "      <th>1</th>\n",
              "      <td>a_3</td>\n",
              "      <td>0.145818</td>\n",
              "    </tr>\n",
              "  </tbody>\n",
              "</table>\n",
              "</div>"
            ],
            "text/plain": [
              "  Feature   p-value\n",
              "0     a_2  0.000000\n",
              "2     a_4  0.000000\n",
              "3     a_5  0.000000\n",
              "1     a_3  0.145818"
            ]
          },
          "metadata": {
            "tags": []
          },
          "execution_count": 64
        }
      ]
    },
    {
      "cell_type": "markdown",
      "metadata": {
        "id": "1irN-aDrZ9gw"
      },
      "source": [
        "a_3 ün sonuc üzerinde etkisi olmadıgı ıcın bunu drop ettim p valuea 0.05ten büyük"
      ]
    },
    {
      "cell_type": "code",
      "metadata": {
        "id": "4yKZHXI0ThET"
      },
      "source": [
        "cols_to_transform = ['Acenta_no_bin'] # make a list if more than one column\n",
        "arac_train = pd.get_dummies(arac_train, columns = cols_to_transform)"
      ],
      "execution_count": null,
      "outputs": []
    },
    {
      "cell_type": "code",
      "metadata": {
        "id": "B442YMyHUEun"
      },
      "source": [
        "cols_to_transform = ['Acenta_no_bin'] # make a list if more than one column\n",
        "arac_test= pd.get_dummies(arac_test, columns = cols_to_transform)"
      ],
      "execution_count": null,
      "outputs": []
    },
    {
      "cell_type": "code",
      "metadata": {
        "id": "O2zkJFqgThB2"
      },
      "source": [
        "arac_train=arac_train.drop(['Acenta_no_bin_a_3'], axis=1)\n",
        "arac_test=arac_test.drop(['Acenta_no_bin_a_3'], axis=1)"
      ],
      "execution_count": null,
      "outputs": []
    },
    {
      "cell_type": "code",
      "metadata": {
        "id": "H0l4Ul3naN5F"
      },
      "source": [
        "arac_train=arac_train.drop(['NUMBER'], axis=1)"
      ],
      "execution_count": null,
      "outputs": []
    },
    {
      "cell_type": "code",
      "metadata": {
        "colab": {
          "base_uri": "https://localhost:8080/",
          "height": 95
        },
        "id": "0e0xGPSoUZ9_",
        "outputId": "0f5690f0-6eee-4dfd-fe28-625e10fca505"
      },
      "source": [
        "arac_train.head(1)"
      ],
      "execution_count": null,
      "outputs": [
        {
          "output_type": "execute_result",
          "data": {
            "text/html": [
              "<div>\n",
              "<style scoped>\n",
              "    .dataframe tbody tr th:only-of-type {\n",
              "        vertical-align: middle;\n",
              "    }\n",
              "\n",
              "    .dataframe tbody tr th {\n",
              "        vertical-align: top;\n",
              "    }\n",
              "\n",
              "    .dataframe thead th {\n",
              "        text-align: right;\n",
              "    }\n",
              "</style>\n",
              "<table border=\"1\" class=\"dataframe\">\n",
              "  <thead>\n",
              "    <tr style=\"text-align: right;\">\n",
              "      <th></th>\n",
              "      <th>Yas</th>\n",
              "      <th>Yillik_prim</th>\n",
              "      <th>Sure</th>\n",
              "      <th>Sonuc</th>\n",
              "      <th>Cinsiyet_K</th>\n",
              "      <th>age_bin_middle</th>\n",
              "      <th>age_bin_middle_p</th>\n",
              "      <th>age_bin_older</th>\n",
              "      <th>age_bin_older_p</th>\n",
              "      <th>Ehliyet_Yok</th>\n",
              "      <th>Sehir_Adana</th>\n",
              "      <th>Sehir_Adiyaman</th>\n",
              "      <th>Sehir_Afyon</th>\n",
              "      <th>Sehir_Agri</th>\n",
              "      <th>Sehir_Ankara</th>\n",
              "      <th>Sehir_Antalya</th>\n",
              "      <th>Sehir_Aydin</th>\n",
              "      <th>Sehir_Balikesir</th>\n",
              "      <th>Sehir_Batman</th>\n",
              "      <th>Sehir_Canakkale</th>\n",
              "      <th>Sehir_Corum</th>\n",
              "      <th>Sehir_Denizli</th>\n",
              "      <th>Sehir_Diyarbakir</th>\n",
              "      <th>Sehir_Duzce</th>\n",
              "      <th>Sehir_Elazig</th>\n",
              "      <th>Sehir_Erzurum</th>\n",
              "      <th>Sehir_Eskisehir</th>\n",
              "      <th>Sehir_Gaziantep</th>\n",
              "      <th>Sehir_Giresun</th>\n",
              "      <th>Sehir_Hatay</th>\n",
              "      <th>Sehir_Isparta</th>\n",
              "      <th>Sehir_Istanbul</th>\n",
              "      <th>Sehir_Izmir</th>\n",
              "      <th>Sehir_Kastamonu</th>\n",
              "      <th>Sehir_Kayseri</th>\n",
              "      <th>Sehir_Kocaeli</th>\n",
              "      <th>Sehir_Konya</th>\n",
              "      <th>Sehir_Kutahya</th>\n",
              "      <th>Sehir_Malatya</th>\n",
              "      <th>Sehir_Mardin</th>\n",
              "      <th>Sehir_Mugla</th>\n",
              "      <th>Sehir_Mus</th>\n",
              "      <th>Sehir_Ordu</th>\n",
              "      <th>Sehir_Osmaniye</th>\n",
              "      <th>Sehir_Sakarya</th>\n",
              "      <th>Sehir_Samsun</th>\n",
              "      <th>Sehir_Sirnak</th>\n",
              "      <th>Sehir_Sivas</th>\n",
              "      <th>Sehir_Tokat</th>\n",
              "      <th>Sehir_Trabzon</th>\n",
              "      <th>Sehir_Urfa</th>\n",
              "      <th>Sehir_Van</th>\n",
              "      <th>Sehir_Yozgat</th>\n",
              "      <th>Sehir_Zonguldak</th>\n",
              "      <th>Gecmis_police_Yok</th>\n",
              "      <th>Arac_yasi_bin</th>\n",
              "      <th>Hasar_durumu_H</th>\n",
              "      <th>Acenta_no_bin_a_1</th>\n",
              "      <th>Acenta_no_bin_a_2</th>\n",
              "      <th>Acenta_no_bin_a_4</th>\n",
              "      <th>Acenta_no_bin_a_5</th>\n",
              "    </tr>\n",
              "  </thead>\n",
              "  <tbody>\n",
              "    <tr>\n",
              "      <th>0</th>\n",
              "      <td>36</td>\n",
              "      <td>2960.0</td>\n",
              "      <td>131</td>\n",
              "      <td>0</td>\n",
              "      <td>0</td>\n",
              "      <td>1</td>\n",
              "      <td>0</td>\n",
              "      <td>0</td>\n",
              "      <td>0</td>\n",
              "      <td>0</td>\n",
              "      <td>0</td>\n",
              "      <td>0</td>\n",
              "      <td>0</td>\n",
              "      <td>0</td>\n",
              "      <td>0</td>\n",
              "      <td>0</td>\n",
              "      <td>0</td>\n",
              "      <td>0</td>\n",
              "      <td>0</td>\n",
              "      <td>0</td>\n",
              "      <td>0</td>\n",
              "      <td>0</td>\n",
              "      <td>0</td>\n",
              "      <td>0</td>\n",
              "      <td>0</td>\n",
              "      <td>0</td>\n",
              "      <td>0</td>\n",
              "      <td>0</td>\n",
              "      <td>0</td>\n",
              "      <td>0</td>\n",
              "      <td>0</td>\n",
              "      <td>0</td>\n",
              "      <td>0</td>\n",
              "      <td>0</td>\n",
              "      <td>0</td>\n",
              "      <td>0</td>\n",
              "      <td>0</td>\n",
              "      <td>0</td>\n",
              "      <td>0</td>\n",
              "      <td>0</td>\n",
              "      <td>0</td>\n",
              "      <td>0</td>\n",
              "      <td>1</td>\n",
              "      <td>0</td>\n",
              "      <td>0</td>\n",
              "      <td>0</td>\n",
              "      <td>0</td>\n",
              "      <td>0</td>\n",
              "      <td>0</td>\n",
              "      <td>0</td>\n",
              "      <td>0</td>\n",
              "      <td>0</td>\n",
              "      <td>0</td>\n",
              "      <td>0</td>\n",
              "      <td>1</td>\n",
              "      <td>2</td>\n",
              "      <td>0</td>\n",
              "      <td>0</td>\n",
              "      <td>0</td>\n",
              "      <td>1</td>\n",
              "      <td>0</td>\n",
              "    </tr>\n",
              "  </tbody>\n",
              "</table>\n",
              "</div>"
            ],
            "text/plain": [
              "   Yas  Yillik_prim  ...  Acenta_no_bin_a_4  Acenta_no_bin_a_5\n",
              "0   36       2960.0  ...                  1                  0\n",
              "\n",
              "[1 rows x 61 columns]"
            ]
          },
          "metadata": {
            "tags": []
          },
          "execution_count": 69
        }
      ]
    },
    {
      "cell_type": "code",
      "metadata": {
        "colab": {
          "base_uri": "https://localhost:8080/",
          "height": 95
        },
        "id": "Z-cVUQcGViUX",
        "outputId": "01e5bc34-3929-4f1c-a271-f4c09ed58326"
      },
      "source": [
        "arac_test.head(1)"
      ],
      "execution_count": null,
      "outputs": [
        {
          "output_type": "execute_result",
          "data": {
            "text/html": [
              "<div>\n",
              "<style scoped>\n",
              "    .dataframe tbody tr th:only-of-type {\n",
              "        vertical-align: middle;\n",
              "    }\n",
              "\n",
              "    .dataframe tbody tr th {\n",
              "        vertical-align: top;\n",
              "    }\n",
              "\n",
              "    .dataframe thead th {\n",
              "        text-align: right;\n",
              "    }\n",
              "</style>\n",
              "<table border=\"1\" class=\"dataframe\">\n",
              "  <thead>\n",
              "    <tr style=\"text-align: right;\">\n",
              "      <th></th>\n",
              "      <th>Yas</th>\n",
              "      <th>Yillik_prim</th>\n",
              "      <th>Sure</th>\n",
              "      <th>Cinsiyet_K</th>\n",
              "      <th>age_bin_middle</th>\n",
              "      <th>age_bin_middle_p</th>\n",
              "      <th>age_bin_older</th>\n",
              "      <th>age_bin_older_p</th>\n",
              "      <th>Ehliyet_Yok</th>\n",
              "      <th>Sehir_Adana</th>\n",
              "      <th>Sehir_Adiyaman</th>\n",
              "      <th>Sehir_Afyon</th>\n",
              "      <th>Sehir_Agri</th>\n",
              "      <th>Sehir_Ankara</th>\n",
              "      <th>Sehir_Antalya</th>\n",
              "      <th>Sehir_Aydin</th>\n",
              "      <th>Sehir_Balikesir</th>\n",
              "      <th>Sehir_Batman</th>\n",
              "      <th>Sehir_Canakkale</th>\n",
              "      <th>Sehir_Corum</th>\n",
              "      <th>Sehir_Denizli</th>\n",
              "      <th>Sehir_Diyarbakir</th>\n",
              "      <th>Sehir_Duzce</th>\n",
              "      <th>Sehir_Elazig</th>\n",
              "      <th>Sehir_Erzurum</th>\n",
              "      <th>Sehir_Eskisehir</th>\n",
              "      <th>Sehir_Gaziantep</th>\n",
              "      <th>Sehir_Giresun</th>\n",
              "      <th>Sehir_Hatay</th>\n",
              "      <th>Sehir_Isparta</th>\n",
              "      <th>Sehir_Istanbul</th>\n",
              "      <th>Sehir_Izmir</th>\n",
              "      <th>Sehir_Kastamonu</th>\n",
              "      <th>Sehir_Kayseri</th>\n",
              "      <th>Sehir_Kocaeli</th>\n",
              "      <th>Sehir_Konya</th>\n",
              "      <th>Sehir_Kutahya</th>\n",
              "      <th>Sehir_Malatya</th>\n",
              "      <th>Sehir_Mardin</th>\n",
              "      <th>Sehir_Mugla</th>\n",
              "      <th>Sehir_Mus</th>\n",
              "      <th>Sehir_Ordu</th>\n",
              "      <th>Sehir_Osmaniye</th>\n",
              "      <th>Sehir_Sakarya</th>\n",
              "      <th>Sehir_Samsun</th>\n",
              "      <th>Sehir_Sirnak</th>\n",
              "      <th>Sehir_Sivas</th>\n",
              "      <th>Sehir_Tokat</th>\n",
              "      <th>Sehir_Trabzon</th>\n",
              "      <th>Sehir_Urfa</th>\n",
              "      <th>Sehir_Van</th>\n",
              "      <th>Sehir_Yozgat</th>\n",
              "      <th>Sehir_Zonguldak</th>\n",
              "      <th>Gecmis_police_Yok</th>\n",
              "      <th>Arac_yasi_bin</th>\n",
              "      <th>Hasar_durumu_H</th>\n",
              "      <th>Acenta_no_bin_a_1</th>\n",
              "      <th>Acenta_no_bin_a_2</th>\n",
              "      <th>Acenta_no_bin_a_4</th>\n",
              "      <th>Acenta_no_bin_a_5</th>\n",
              "    </tr>\n",
              "  </thead>\n",
              "  <tbody>\n",
              "    <tr>\n",
              "      <th>0</th>\n",
              "      <td>26</td>\n",
              "      <td>2975.56</td>\n",
              "      <td>94</td>\n",
              "      <td>1</td>\n",
              "      <td>0</td>\n",
              "      <td>0</td>\n",
              "      <td>0</td>\n",
              "      <td>0</td>\n",
              "      <td>0</td>\n",
              "      <td>0</td>\n",
              "      <td>0</td>\n",
              "      <td>0</td>\n",
              "      <td>0</td>\n",
              "      <td>0</td>\n",
              "      <td>0</td>\n",
              "      <td>0</td>\n",
              "      <td>0</td>\n",
              "      <td>0</td>\n",
              "      <td>0</td>\n",
              "      <td>0</td>\n",
              "      <td>0</td>\n",
              "      <td>0</td>\n",
              "      <td>0</td>\n",
              "      <td>0</td>\n",
              "      <td>0</td>\n",
              "      <td>0</td>\n",
              "      <td>0</td>\n",
              "      <td>0</td>\n",
              "      <td>0</td>\n",
              "      <td>0</td>\n",
              "      <td>0</td>\n",
              "      <td>0</td>\n",
              "      <td>0</td>\n",
              "      <td>0</td>\n",
              "      <td>1</td>\n",
              "      <td>0</td>\n",
              "      <td>0</td>\n",
              "      <td>0</td>\n",
              "      <td>0</td>\n",
              "      <td>0</td>\n",
              "      <td>0</td>\n",
              "      <td>0</td>\n",
              "      <td>0</td>\n",
              "      <td>0</td>\n",
              "      <td>0</td>\n",
              "      <td>0</td>\n",
              "      <td>0</td>\n",
              "      <td>0</td>\n",
              "      <td>0</td>\n",
              "      <td>0</td>\n",
              "      <td>0</td>\n",
              "      <td>0</td>\n",
              "      <td>0</td>\n",
              "      <td>1</td>\n",
              "      <td>1</td>\n",
              "      <td>1</td>\n",
              "      <td>0</td>\n",
              "      <td>0</td>\n",
              "      <td>0</td>\n",
              "      <td>1</td>\n",
              "    </tr>\n",
              "  </tbody>\n",
              "</table>\n",
              "</div>"
            ],
            "text/plain": [
              "   Yas  Yillik_prim  ...  Acenta_no_bin_a_4  Acenta_no_bin_a_5\n",
              "0   26      2975.56  ...                  0                  1\n",
              "\n",
              "[1 rows x 60 columns]"
            ]
          },
          "metadata": {
            "tags": []
          },
          "execution_count": 70
        }
      ]
    },
    {
      "cell_type": "markdown",
      "metadata": {
        "id": "cNZXY5viRLYn"
      },
      "source": [
        "# **Sure**"
      ]
    },
    {
      "cell_type": "code",
      "metadata": {
        "colab": {
          "base_uri": "https://localhost:8080/",
          "height": 284
        },
        "id": "yKtH316ZPyYL",
        "outputId": "f52d2954-a796-48a8-d3d4-46ffa8ac04a2"
      },
      "source": [
        "g = sns.kdeplot(arac_train['Sure'][(arac_train[\"Sonuc\"] == 0)], color=\"Red\", shade = True)\n",
        "g = sns.kdeplot(arac_train['Sure'][(arac_train[\"Sonuc\"] == 1)], ax =g, color=\"Blue\", shade= True)\n",
        "g.set_xlabel('Sure')\n",
        "g.set_ylabel(\"Frequency\")\n",
        "g = g.legend([\"Sure for Sonuc = 0\", \"Sure for Sonuc = 1\"])"
      ],
      "execution_count": null,
      "outputs": [
        {
          "output_type": "display_data",
          "data": {
            "image/png": "[encoded data removed]",
            "text/plain": [
              "<Figure size 432x288 with 1 Axes>"
            ]
          },
          "metadata": {
            "tags": []
          }
        }
      ]
    },
    {
      "cell_type": "markdown",
      "metadata": {
        "id": "zvdpy7hYUtt2"
      },
      "source": [
        "# **MODELLİNG**"
      ]
    },
    {
      "cell_type": "code",
      "metadata": {
        "colab": {
          "base_uri": "https://localhost:8080/"
        },
        "id": "o85gRz84ajXV",
        "outputId": "59395d24-5c85-425f-f016-6ad3290c04ca"
      },
      "source": [
        "arac_train.isna().sum()"
      ],
      "execution_count": null,
      "outputs": [
        {
          "output_type": "execute_result",
          "data": {
            "text/plain": [
              "Yas                  0\n",
              "Yillik_prim          0\n",
              "Sure                 0\n",
              "Sonuc                0\n",
              "Cinsiyet_K           0\n",
              "                    ..\n",
              "Hasar_durumu_H       0\n",
              "Acenta_no_bin_a_1    0\n",
              "Acenta_no_bin_a_2    0\n",
              "Acenta_no_bin_a_4    0\n",
              "Acenta_no_bin_a_5    0\n",
              "Length: 61, dtype: int64"
            ]
          },
          "metadata": {
            "tags": []
          },
          "execution_count": 72
        }
      ]
    },
    {
      "cell_type": "code",
      "metadata": {
        "id": "JYKj75OpVXEc"
      },
      "source": [
        "y = arac_train.Sonuc\n",
        "X = arac_train.drop('Sonuc', axis=1) #drop column \"Price\" from the dataset \n",
        "X_train, X_test, y_train, y_test = train_test_split(X, y, test_size=0.4, random_state=1) \n",
        "seed = 42"
      ],
      "execution_count": null,
      "outputs": []
    },
    {
      "cell_type": "markdown",
      "metadata": {
        "id": "DXazSfg8VFJx"
      },
      "source": [
        "**DEFAULT TREE BASED MODEL**"
      ]
    },
    {
      "cell_type": "code",
      "metadata": {
        "id": "dX7IcoSsPDjW"
      },
      "source": [
        "seed = 10\n",
        "tree = DecisionTreeClassifier(random_state=seed)\n",
        "models = [\n",
        "    ['DecisionTree', DecisionTreeClassifier(random_state=seed)], \n",
        "    ['RandomForest', RandomForestClassifier(n_estimators=100, random_state=seed)], #default changes to 100 in sklearn 0.22\n",
        "    ['ExtraTrees', ExtraTreesClassifier(n_estimators=100, random_state=seed)],\n",
        "    ['BaggingClassifier', BaggingClassifier(base_estimator=tree, n_estimators=100, random_state=seed)],\n",
        "    ['AdaBoost', AdaBoostClassifier(n_estimators=100, random_state=seed)], \n",
        "    ['GradientBoosting', GradientBoostingClassifier(random_state=seed)],\n",
        "    ['XGBoost', XGBClassifier(seed=seed)],\n",
        "    ]"
      ],
      "execution_count": null,
      "outputs": []
    },
    {
      "cell_type": "code",
      "metadata": {
        "colab": {
          "base_uri": "https://localhost:8080/"
        },
        "id": "jbHnwS6rVJDp",
        "outputId": "5f241e71-05c6-4b7d-ffdf-4f01f6207529"
      },
      "source": [
        "# Use the following classifiers with their defaults\n",
        "\n",
        "log_cols=[\"Classifier\", \"ROC_AUC Score\"]\n",
        "log_f1 = pd.DataFrame(columns=log_cols)\n",
        "\n",
        "\n",
        "print(\"ROC_AUC Score : \")\n",
        "print(\"=\"*30)\n",
        "for abbrv, clf in models:\n",
        "    clf.fit(X_train, y_train)\n",
        "    y_pred = clf.predict(X_test)\n",
        "    log_entry = pd.DataFrame([[abbrv, roc_auc_score(y_test, y_pred)*100]], columns=log_cols)\n",
        "    log_f1 = log_f1.append(log_entry)\n",
        "    print('%17s  %5.3f' % (abbrv,roc_auc_score(y_test, y_pred)))\n",
        "    \n",
        "\n",
        "print(\"\")\n",
        "print(\"recall - score : \")\n",
        "print(\"=\"*30)\n",
        "for abbrv, clf in models:\n",
        "    clf.fit(X_train, y_train)\n",
        "    y_pred = clf.predict(X_test)\n",
        "    print('%17s  %5.3f' % (abbrv,recall_score(y_test, y_pred)))\n",
        "\n",
        "\n",
        "print(\"\")\n",
        "print(\"precision_score - score : \")\n",
        "print(\"=\"*30)\n",
        "for abbrv, clf in models:\n",
        "    clf.fit(X_train, y_train)\n",
        "    y_pred = clf.predict(X_test)\n",
        "\n",
        "    print('%17s  %5.3f' % (abbrv,precision_score(y_test, y_pred)))\n",
        "    "
      ],
      "execution_count": null,
      "outputs": [
        {
          "output_type": "stream",
          "text": [
            "ROC_AUC Score : \n",
            "==============================\n",
            "     DecisionTree  0.606\n",
            "     RandomForest  0.558\n",
            "       ExtraTrees  0.573\n",
            "BaggingClassifier  0.553\n",
            "         AdaBoost  0.509\n",
            " GradientBoosting  0.505\n",
            "          XGBoost  0.504\n",
            "\n",
            "recall - score : \n",
            "==============================\n",
            "     DecisionTree  0.314\n",
            "     RandomForest  0.155\n",
            "       ExtraTrees  0.201\n",
            "BaggingClassifier  0.140\n",
            "         AdaBoost  0.022\n",
            " GradientBoosting  0.012\n",
            "          XGBoost  0.009\n",
            "\n",
            "precision_score - score : \n",
            "==============================\n",
            "     DecisionTree  0.298\n",
            "     RandomForest  0.362\n",
            "       ExtraTrees  0.336\n",
            "BaggingClassifier  0.365\n",
            "         AdaBoost  0.495\n",
            " GradientBoosting  0.594\n",
            "          XGBoost  0.600\n"
          ],
          "name": "stdout"
        }
      ]
    },
    {
      "cell_type": "code",
      "metadata": {
        "colab": {
          "base_uri": "https://localhost:8080/",
          "height": 301
        },
        "id": "iqd3iHSbdGaW",
        "outputId": "b697d1bc-0d4f-4ee7-918e-e639be2a3f32"
      },
      "source": [
        "sns.set_color_codes(\"muted\")\n",
        "sns.barplot(x='ROC_AUC Score', y='Classifier', data=log_f1, color=\"b\")\n",
        "plt.xlabel('ROC_AUC Score %')\n",
        "plt.title('Classifier ROC_AUC Score')\n",
        "plt.show()"
      ],
      "execution_count": null,
      "outputs": [
        {
          "output_type": "display_data",
          "data": {
            "image/png": "[encoded data removed]",
            "text/plain": [
              "<Figure size 432x288 with 1 Axes>"
            ]
          },
          "metadata": {
            "tags": []
          }
        }
      ]
    },
    {
      "cell_type": "markdown",
      "metadata": {
        "id": "kaH44A2xgLaV"
      },
      "source": [
        "**DT model auc score en iyi görünüyor. Bu sebeple onu tune ederek iyileştirmeye calısacagım**"
      ]
    },
    {
      "cell_type": "markdown",
      "metadata": {
        "id": "TwZ9cqAid4y7"
      },
      "source": [
        "**DEFAULT LOGİSTİC REGRESSİON**"
      ]
    },
    {
      "cell_type": "code",
      "metadata": {
        "colab": {
          "base_uri": "https://localhost:8080/"
        },
        "id": "AvB1LX7qdgE_",
        "outputId": "0d33a712-4cd0-4839-c2c3-397b6be503bc"
      },
      "source": [
        "model1 = LogisticRegression() # no other hyperparameters to tune\n",
        "model1.fit(X_train, y_train)\n",
        "train_score = roc_auc_score(y_train, model1.predict(X_train))\n",
        "test_score = roc_auc_score(y_test, model1.predict(X_test))\n",
        "print('Log_Reg train accuracy:', train_score)\n",
        "print('Log_Reg test accuracy:', test_score)"
      ],
      "execution_count": null,
      "outputs": [
        {
          "output_type": "stream",
          "text": [
            "Log_Reg train accuracy: 0.5097455332958364\n",
            "Log_Reg test accuracy: 0.5111501014154559\n"
          ],
          "name": "stdout"
        }
      ]
    },
    {
      "cell_type": "markdown",
      "metadata": {
        "id": "7lbTFHhBgAhB"
      },
      "source": [
        "## **TUNİNG THE BEST MODEL**"
      ]
    },
    {
      "cell_type": "markdown",
      "metadata": {
        "id": "bshubavZe3nX"
      },
      "source": [
        "**TUNING DECISION TREE**"
      ]
    },
    {
      "cell_type": "markdown",
      "metadata": {
        "id": "xtn2GpPHonOr"
      },
      "source": [
        "**TUNING RANDOM FOREST**"
      ]
    },
    {
      "cell_type": "code",
      "metadata": {
        "colab": {
          "base_uri": "https://localhost:8080/"
        },
        "id": "ObBob8oRoAT5",
        "outputId": "242990a4-81b9-4a34-917f-5bc30a41936d"
      },
      "source": [
        "param = {\"criterion\":         [\"gini\", \"entropy\"],\n",
        "              \"max_depth\":         [6, 7,10,15,20,25,30,40,50,70],\n",
        "              \"max_features\":      [1, 2, 3, 4,10,15,30,40],\n",
        "              \"min_samples_split\": [2, 3, 4, 5, 6,8,10,15],\n",
        "              \"min_samples_leaf\":  [7,10,15,20]\n",
        "              }\n",
        "\n",
        "            \n",
        "scorer = make_scorer(roc_auc_score)\n",
        "\n",
        "\n",
        "grid_search = RandomizedSearchCV(DecisionTreeClassifier(), param, n_iter =10, cv=9, scoring=scorer)\n",
        "\n",
        "grid_search.fit(X_train, y_train)\n",
        "print(grid_search.best_params_)\n",
        "print(grid_search.best_estimator_)\n",
        "print(grid_search.best_score_)"
      ],
      "execution_count": null,
      "outputs": [
        {
          "output_type": "stream",
          "text": [
            "{'min_samples_split': 15, 'min_samples_leaf': 7, 'max_features': 4, 'max_depth': 25, 'criterion': 'entropy'}\n",
            "DecisionTreeClassifier(ccp_alpha=0.0, class_weight=None, criterion='entropy',\n",
            "                       max_depth=25, max_features=4, max_leaf_nodes=None,\n",
            "                       min_impurity_decrease=0.0, min_impurity_split=None,\n",
            "                       min_samples_leaf=7, min_samples_split=15,\n",
            "                       min_weight_fraction_leaf=0.0, presort='deprecated',\n",
            "                       random_state=None, splitter='best')\n",
            "0.5129976086032533\n"
          ],
          "name": "stdout"
        }
      ]
    },
    {
      "cell_type": "markdown",
      "metadata": {
        "id": "rUDv7UYC_MTL"
      },
      "source": [
        "# **TUNING WITH OVERSAMPLING**"
      ]
    },
    {
      "cell_type": "code",
      "metadata": {
        "id": "8yik3DbI8j1p"
      },
      "source": [
        "arac_train.Cinsiyet_K = arac_train.Cinsiyet_K.astype('category')\n",
        "arac_train.age_bin_middle = arac_train.age_bin_middle.astype('category')\n",
        "arac_train.age_bin_middle_p = arac_train.age_bin_middle_p.astype('category')\n",
        "arac_train.age_bin_older = arac_train.age_bin_older.astype('category')\n",
        "arac_train.age_bin_older_p = arac_train.age_bin_older_p.astype('category')\n",
        "arac_train.Ehliyet_Yok = arac_train.Ehliyet_Yok.astype('category')\n",
        "\n",
        "arac_train.Sehir_Adana = arac_train.Sehir_Adana.astype('category')\n",
        "arac_train.Sehir_Adiyaman = arac_train.Sehir_Adiyaman.astype('category')\n",
        "arac_train.Sehir_Afyon = arac_train.Sehir_Afyon.astype('category')\n",
        "arac_train.Sehir_Agri = arac_train.Sehir_Agri.astype('category')\n",
        "arac_train.Sehir_Ankara = arac_train.Sehir_Ankara.astype('category')\n",
        "arac_train.Sehir_Antalya = arac_train.Sehir_Antalya.astype('category')\n",
        "arac_train.Sehir_Aydin = arac_train.Sehir_Aydin.astype('category')\n",
        "arac_train.Sehir_Balikesir = arac_train.Sehir_Balikesir.astype('category')\n",
        "arac_train.Sehir_Batman = arac_train.Sehir_Batman.astype('category')\n",
        "arac_train.Sehir_Canakkale = arac_train.Sehir_Canakkale.astype('category')\n",
        "arac_train.Sehir_Corum = arac_train.Sehir_Corum.astype('category')\n",
        "arac_train.Sehir_Denizli = arac_train.Sehir_Denizli.astype('category')\n",
        "arac_train.Sehir_Diyarbakir = arac_train.Sehir_Diyarbakir.astype('category')\n",
        "arac_train.Sehir_Duzce = arac_train.Sehir_Duzce.astype('category')\n",
        "arac_train.Sehir_Elazig = arac_train.Sehir_Elazig.astype('category')\n",
        "arac_train.Sehir_Erzurum = arac_train.Sehir_Erzurum.astype('category')\n",
        "arac_train.Sehir_Eskisehir = arac_train.Sehir_Eskisehir.astype('category')\n",
        "arac_train.Sehir_Gaziantep = arac_train.Sehir_Gaziantep.astype('category')\n",
        "arac_train.Sehir_Giresun = arac_train.Sehir_Giresun.astype('category')\n",
        "arac_train.Sehir_Hatay = arac_train.Sehir_Hatay.astype('category')\n",
        "arac_train.Sehir_Isparta = arac_train.Sehir_Isparta.astype('category')\n",
        "arac_train.Sehir_Istanbul = arac_train.Sehir_Istanbul.astype('category')\n",
        "arac_train.Sehir_Izmir = arac_train.Sehir_Izmir.astype('category')\n",
        "arac_train.Sehir_Kastamonu = arac_train.Sehir_Kastamonu.astype('category')\n",
        "arac_train.Sehir_Kayseri = arac_train.Sehir_Kayseri.astype('category')\n",
        "arac_train.Sehir_Kocaeli = arac_train.Sehir_Kocaeli.astype('category')\n",
        "arac_train.Sehir_Konya = arac_train.Sehir_Konya.astype('category')\n",
        "arac_train.Sehir_Kutahya = arac_train.Sehir_Kutahya.astype('category')\n",
        "arac_train.Sehir_Malatya = arac_train.Sehir_Malatya.astype('category')\n",
        "arac_train.Sehir_Mardin = arac_train.Sehir_Mardin.astype('category')\n",
        "arac_train.Sehir_Mugla = arac_train.Sehir_Mugla.astype('category')\n",
        "arac_train.Sehir_Mus = arac_train.Sehir_Mus.astype('category')\n",
        "arac_train.Sehir_Ordu = arac_train.Sehir_Ordu.astype('category')\n",
        "arac_train.Sehir_Osmaniye = arac_train.Sehir_Osmaniye.astype('category')\n",
        "arac_train.Sehir_Sakarya = arac_train.Sehir_Sakarya.astype('category')\n",
        "arac_train.Sehir_Samsun = arac_train.Sehir_Samsun.astype('category')\n",
        "arac_train.Sehir_Sirnak = arac_train.Sehir_Sirnak.astype('category')\n",
        "arac_train.Sehir_Sivas = arac_train.Sehir_Sivas.astype('category')\n",
        "arac_train.Sehir_Tokat = arac_train.Sehir_Tokat.astype('category')\n",
        "arac_train.Sehir_Trabzon = arac_train.Sehir_Trabzon.astype('category')\n",
        "arac_train.Sehir_Urfa = arac_train.Sehir_Urfa.astype('category')\n",
        "arac_train.Sehir_Van = arac_train.Sehir_Van.astype('category')\n",
        "arac_train.Sehir_Yozgat = arac_train.Sehir_Yozgat.astype('category')\n",
        "arac_train.Sehir_Zonguldak = arac_train.Sehir_Zonguldak.astype('category')\n",
        "arac_train.Gecmis_police_Yok = arac_train.Gecmis_police_Yok.astype('category')\n",
        "arac_train.Arac_yasi_bin = arac_train.Arac_yasi_bin.astype('category')\n",
        "arac_train.Hasar_durumu_H = arac_train.Hasar_durumu_H.astype('category')\n",
        "arac_train.Acenta_no_bin_a_1 = arac_train.Acenta_no_bin_a_1.astype('category')\n",
        "arac_train.Acenta_no_bin_a_2 = arac_train.Acenta_no_bin_a_2.astype('category')\n",
        "arac_train.Acenta_no_bin_a_4 = arac_train.Acenta_no_bin_a_4.astype('category')\n",
        "arac_train.Acenta_no_bin_a_5 = arac_train.Acenta_no_bin_a_5.astype('category')\n"
      ],
      "execution_count": null,
      "outputs": []
    },
    {
      "cell_type": "code",
      "metadata": {
        "id": "TjfyrpJA-d-8"
      },
      "source": [
        "arac_test.Cinsiyet_K = arac_test.Cinsiyet_K.astype('category')\n",
        "arac_test.age_bin_middle = arac_test.age_bin_middle.astype('category')\n",
        "arac_test.age_bin_middle_p = arac_test.age_bin_middle_p.astype('category')\n",
        "arac_test.age_bin_older = arac_test.age_bin_older.astype('category')\n",
        "arac_test.age_bin_older_p = arac_test.age_bin_older_p.astype('category')\n",
        "arac_test.Ehliyet_Yok = arac_test.Ehliyet_Yok.astype('category')\n",
        "arac_test.Sehir_Adana = arac_test.Sehir_Adana.astype('category')\n",
        "arac_test.Sehir_Adiyaman = arac_test.Sehir_Adiyaman.astype('category')\n",
        "arac_test.Sehir_Afyon = arac_test.Sehir_Afyon.astype('category')\n",
        "arac_test.Sehir_Agri = arac_test.Sehir_Agri.astype('category')\n",
        "arac_test.Sehir_Ankara = arac_test.Sehir_Ankara.astype('category')\n",
        "arac_test.Sehir_Antalya = arac_test.Sehir_Antalya.astype('category')\n",
        "arac_test.Sehir_Aydin = arac_test.Sehir_Aydin.astype('category')\n",
        "arac_test.Sehir_Balikesir = arac_test.Sehir_Balikesir.astype('category')\n",
        "arac_test.Sehir_Batman = arac_test.Sehir_Batman.astype('category')\n",
        "arac_test.Sehir_Canakkale = arac_test.Sehir_Canakkale.astype('category')\n",
        "arac_test.Sehir_Corum = arac_test.Sehir_Corum.astype('category')\n",
        "arac_test.Sehir_Denizli = arac_test.Sehir_Denizli.astype('category')\n",
        "arac_test.Sehir_Diyarbakir = arac_test.Sehir_Diyarbakir.astype('category')\n",
        "arac_test.Sehir_Duzce = arac_test.Sehir_Duzce.astype('category')\n",
        "arac_test.Sehir_Elazig = arac_test.Sehir_Elazig.astype('category')\n",
        "arac_test.Sehir_Erzurum = arac_test.Sehir_Erzurum.astype('category')\n",
        "arac_test.Sehir_Eskisehir = arac_test.Sehir_Eskisehir.astype('category')\n",
        "arac_test.Sehir_Gaziantep = arac_test.Sehir_Gaziantep.astype('category')\n",
        "arac_test.Sehir_Giresun = arac_test.Sehir_Giresun.astype('category')\n",
        "arac_test.Sehir_Hatay = arac_test.Sehir_Hatay.astype('category')\n",
        "arac_test.Sehir_Isparta = arac_test.Sehir_Isparta.astype('category')\n",
        "arac_test.Sehir_Istanbul = arac_test.Sehir_Istanbul.astype('category')\n",
        "arac_test.Sehir_Izmir = arac_test.Sehir_Izmir.astype('category')\n",
        "arac_test.Sehir_Kastamonu = arac_test.Sehir_Kastamonu.astype('category')\n",
        "arac_test.Sehir_Kayseri = arac_test.Sehir_Kayseri.astype('category')\n",
        "arac_test.Sehir_Kocaeli = arac_test.Sehir_Kocaeli.astype('category')\n",
        "arac_test.Sehir_Konya = arac_test.Sehir_Konya.astype('category')\n",
        "arac_test.Sehir_Kutahya = arac_test.Sehir_Kutahya.astype('category')\n",
        "arac_test.Sehir_Malatya = arac_test.Sehir_Malatya.astype('category')\n",
        "arac_test.Sehir_Mardin = arac_test.Sehir_Mardin.astype('category')\n",
        "arac_test.Sehir_Mugla = arac_test.Sehir_Mugla.astype('category')\n",
        "arac_test.Sehir_Mus = arac_test.Sehir_Mus.astype('category')\n",
        "arac_test.Sehir_Ordu = arac_test.Sehir_Ordu.astype('category')\n",
        "arac_test.Sehir_Osmaniye = arac_test.Sehir_Osmaniye.astype('category')\n",
        "arac_test.Sehir_Sakarya = arac_test.Sehir_Sakarya.astype('category')\n",
        "arac_test.Sehir_Samsun = arac_test.Sehir_Samsun.astype('category')\n",
        "arac_test.Sehir_Sirnak = arac_test.Sehir_Sirnak.astype('category')\n",
        "arac_test.Sehir_Sivas = arac_test.Sehir_Sivas.astype('category')\n",
        "arac_test.Sehir_Tokat = arac_test.Sehir_Tokat.astype('category')\n",
        "arac_test.Sehir_Trabzon = arac_test.Sehir_Trabzon.astype('category')\n",
        "arac_test.Sehir_Urfa = arac_test.Sehir_Urfa.astype('category')\n",
        "arac_test.Sehir_Van = arac_test.Sehir_Van.astype('category')\n",
        "arac_test.Sehir_Yozgat = arac_test.Sehir_Yozgat.astype('category')\n",
        "arac_test.Sehir_Zonguldak = arac_test.Sehir_Zonguldak.astype('category')\n",
        "arac_test.Gecmis_police_Yok = arac_test.Gecmis_police_Yok.astype('category')\n",
        "arac_test.Arac_yasi_bin = arac_test.Arac_yasi_bin.astype('category')\n",
        "arac_test.Hasar_durumu_H = arac_test.Hasar_durumu_H.astype('category')\n",
        "arac_test.Acenta_no_bin_a_1 = arac_test.Acenta_no_bin_a_1.astype('category')\n",
        "arac_test.Acenta_no_bin_a_2 = arac_test.Acenta_no_bin_a_2.astype('category')\n",
        "arac_test.Acenta_no_bin_a_4 = arac_test.Acenta_no_bin_a_4.astype('category')\n",
        "arac_test.Acenta_no_bin_a_5 = arac_test.Acenta_no_bin_a_5.astype('category')\n",
        "\n",
        "\n",
        "\n"
      ],
      "execution_count": null,
      "outputs": []
    },
    {
      "cell_type": "code",
      "metadata": {
        "id": "zVtWIGC8Dwgk"
      },
      "source": [
        "sampledata= arac_train.sample(frac =.25)"
      ],
      "execution_count": null,
      "outputs": []
    },
    {
      "cell_type": "code",
      "metadata": {
        "id": "-aTpqxJR_d_g"
      },
      "source": [
        "y = sampledata.Sonuc\n",
        "X = sampledata.drop('Sonuc', axis=1) #drop column \"Price\" from the dataset \n",
        "X_train, X_test, y_train, y_test = train_test_split(X, y, test_size=0.4, random_state=1) \n",
        "seed = 42"
      ],
      "execution_count": null,
      "outputs": []
    },
    {
      "cell_type": "code",
      "metadata": {
        "id": "5kDlEj-78OSD"
      },
      "source": [
        "# define the transformer for numerical variables\n",
        "num_transformer = Pipeline(steps=[('scaler', StandardScaler())\n",
        "                                 ])\n",
        "\n",
        "# list of numerical features in the data set\n",
        "num_attrs = X_train.columns[X_train.dtypes != 'category'].tolist()\n",
        "\n",
        "# define the preprocessor to scale numerical variables and leave categorical ones untouched\n",
        "preprocessor = ColumnTransformer(transformers=[('num', num_transformer, num_attrs)],\n",
        "                                 remainder = 'passthrough') # let anything non-numerical pass through"
      ],
      "execution_count": null,
      "outputs": []
    },
    {
      "cell_type": "markdown",
      "metadata": {
        "id": "ql22VZUTH63g"
      },
      "source": [
        "# **RANDOM OVER SAMPLING With DT**"
      ]
    },
    {
      "cell_type": "code",
      "metadata": {
        "colab": {
          "base_uri": "https://localhost:8080/"
        },
        "id": "zdny2sOj8ILR",
        "outputId": "572545ca-826d-4c9e-b94b-5cf4c38dbb68"
      },
      "source": [
        "num_transformer = Pipeline(steps=[('scaler', StandardScaler())\n",
        "                                 ])\n",
        "num_attrs = X_train.columns[X_train.dtypes != 'category'].tolist()\n",
        "\n",
        "preprocessor = ColumnTransformer(transformers=[('num', num_transformer, num_attrs)],\n",
        "                                 remainder = 'passthrough') # process num features and let all others pass through\n",
        "\n",
        "ovsmp_pipe = pipe_imb([('preprocessor' , preprocessor),\n",
        "                       ('sampler', RandomOverSampler(random_state=seed)),\n",
        "                       ('df'    , DecisionTreeClassifier(random_state=seed))])\n",
        "\n",
        "\n",
        "params = {\"df__criterion\":         [\"gini\", \"entropy\"],\n",
        "          \"df__max_depth\":         [6, 7,10,15],\n",
        "           \"df__max_features\":      [1, 2, 3, 4],\n",
        "           \"df__min_samples_split\": [2, 3, 4, 5],\n",
        "           \"df__min_samples_leaf\":  [7,10,15]\n",
        "              }\n",
        "\n",
        "\n",
        "\n",
        "scorer = make_scorer(roc_auc_score)\n",
        "\n",
        "grid1 = RandomizedSearchCV(ovsmp_pipe, param_distributions=params, cv=4,scoring=scorer, n_jobs=-1,n_iter=50,verbose=1)\n",
        "\n",
        "grid1.fit(X_train, y_train)\n",
        "print('Best grid parameters:', grid1.best_params_, '\\n')\n",
        "print(grid1.best_params_)\n",
        "print(grid1.best_estimator_)\n",
        "print(grid1.best_score_)"
      ],
      "execution_count": null,
      "outputs": [
        {
          "output_type": "stream",
          "text": [
            "Fitting 4 folds for each of 50 candidates, totalling 200 fits\n"
          ],
          "name": "stdout"
        },
        {
          "output_type": "stream",
          "text": [
            "[Parallel(n_jobs=-1)]: Using backend LokyBackend with 2 concurrent workers.\n",
            "[Parallel(n_jobs=-1)]: Done  46 tasks      | elapsed:   10.8s\n",
            "[Parallel(n_jobs=-1)]: Done 196 tasks      | elapsed:   40.7s\n"
          ],
          "name": "stderr"
        },
        {
          "output_type": "stream",
          "text": [
            "Best grid parameters: {'df__min_samples_split': 2, 'df__min_samples_leaf': 10, 'df__max_features': 1, 'df__max_depth': 7, 'df__criterion': 'gini'} \n",
            "\n",
            "{'df__min_samples_split': 2, 'df__min_samples_leaf': 10, 'df__max_features': 1, 'df__max_depth': 7, 'df__criterion': 'gini'}\n",
            "Pipeline(memory=None,\n",
            "         steps=[('preprocessor',\n",
            "                 ColumnTransformer(n_jobs=None, remainder='passthrough',\n",
            "                                   sparse_threshold=0.3,\n",
            "                                   transformer_weights=None,\n",
            "                                   transformers=[('num',\n",
            "                                                  Pipeline(memory=None,\n",
            "                                                           steps=[('scaler',\n",
            "                                                                   StandardScaler(copy=True,\n",
            "                                                                                  with_mean=True,\n",
            "                                                                                  with_std=True))],\n",
            "                                                           verbose=False),\n",
            "                                                  ['Yas', 'Yillik_prim',\n",
            "                                                   'Sure'])],\n",
            "                                   verbose=False)),\n",
            "                ('sampler',\n",
            "                 RandomOverSampler...\n",
            "                                   return_indices=False,\n",
            "                                   sampling_strategy='auto')),\n",
            "                ('df',\n",
            "                 DecisionTreeClassifier(ccp_alpha=0.0, class_weight=None,\n",
            "                                        criterion='gini', max_depth=7,\n",
            "                                        max_features=1, max_leaf_nodes=None,\n",
            "                                        min_impurity_decrease=0.0,\n",
            "                                        min_impurity_split=None,\n",
            "                                        min_samples_leaf=10,\n",
            "                                        min_samples_split=2,\n",
            "                                        min_weight_fraction_leaf=0.0,\n",
            "                                        presort='deprecated', random_state=42,\n",
            "                                        splitter='best'))],\n",
            "         verbose=False)\n",
            "0.7829417178752068\n"
          ],
          "name": "stdout"
        },
        {
          "output_type": "stream",
          "text": [
            "[Parallel(n_jobs=-1)]: Done 200 out of 200 | elapsed:   41.4s finished\n"
          ],
          "name": "stderr"
        }
      ]
    },
    {
      "cell_type": "code",
      "metadata": {
        "colab": {
          "base_uri": "https://localhost:8080/"
        },
        "id": "sEixQK6xHJCV",
        "outputId": "7f9c6259-5e2d-458e-f1e3-f34a1f597b28"
      },
      "source": [
        "print('Train auc:', grid1.score(X_train, y_train))\n",
        "print('Test auc :', grid1.score(X_test, y_test))"
      ],
      "execution_count": null,
      "outputs": [
        {
          "output_type": "stream",
          "text": [
            "Train auc: 0.787780776020734\n",
            "Test auc : 0.7827919161321824\n"
          ],
          "name": "stdout"
        }
      ]
    },
    {
      "cell_type": "markdown",
      "metadata": {
        "id": "1pE8-5dAH27G"
      },
      "source": [
        "# **SMOTE with DT**"
      ]
    },
    {
      "cell_type": "code",
      "metadata": {
        "colab": {
          "base_uri": "https://localhost:8080/"
        },
        "id": "f3JgQA-B8IN8",
        "outputId": "14901b51-b1cb-4f67-8b6e-d9ac4ea920d6"
      },
      "source": [
        "num_transformer = Pipeline(steps=[('scaler', StandardScaler())\n",
        "                                 ])\n",
        "num_attrs = X_train.columns[X_train.dtypes != 'category'].tolist()\n",
        "\n",
        "preprocessor = ColumnTransformer(transformers=[('num', num_transformer, num_attrs)],\n",
        "                                 remainder = 'passthrough') # process num features and let all others pass through\n",
        "\n",
        "ovsmp_pipe = pipe_imb([('preprocessor' , preprocessor),\n",
        "                       ('sampler', SMOTE(random_state=seed)),\n",
        "                       ('df'    , DecisionTreeClassifier(random_state=seed))])\n",
        "\n",
        "\n",
        "params = {\"df__criterion\":         [\"gini\", \"entropy\"],\n",
        "          \"df__max_depth\":         [6, 7,10,15],\n",
        "           \"df__max_features\":      [1, 2, 3, 4],\n",
        "           \"df__min_samples_split\": [2, 3, 4, 5],\n",
        "           \"df__min_samples_leaf\":  [7,10,15]\n",
        "              }\n",
        "\n",
        "\n",
        "\n",
        "scorer = make_scorer(roc_auc_score)\n",
        "\n",
        "grid1 = RandomizedSearchCV(ovsmp_pipe, param_distributions=params, cv=4,scoring=scorer, n_jobs=-1,n_iter=50,verbose=1)\n",
        "\n",
        "grid1.fit(X_train, y_train)\n",
        "print('Best grid parameters:', grid1.best_params_, '\\n')\n",
        "print(grid1.best_params_)\n",
        "print(grid1.best_estimator_)\n",
        "print(grid1.best_score_)"
      ],
      "execution_count": null,
      "outputs": [
        {
          "output_type": "stream",
          "text": [
            "Fitting 4 folds for each of 50 candidates, totalling 200 fits\n"
          ],
          "name": "stdout"
        },
        {
          "output_type": "stream",
          "text": [
            "[Parallel(n_jobs=-1)]: Using backend LokyBackend with 2 concurrent workers.\n",
            "[Parallel(n_jobs=-1)]: Done  46 tasks      | elapsed:   40.7s\n",
            "[Parallel(n_jobs=-1)]: Done 196 tasks      | elapsed:  2.7min\n",
            "[Parallel(n_jobs=-1)]: Done 200 out of 200 | elapsed:  2.8min finished\n"
          ],
          "name": "stderr"
        },
        {
          "output_type": "stream",
          "text": [
            "Best grid parameters: {'df__min_samples_split': 4, 'df__min_samples_leaf': 10, 'df__max_features': 1, 'df__max_depth': 15, 'df__criterion': 'gini'} \n",
            "\n",
            "{'df__min_samples_split': 4, 'df__min_samples_leaf': 10, 'df__max_features': 1, 'df__max_depth': 15, 'df__criterion': 'gini'}\n",
            "Pipeline(memory=None,\n",
            "         steps=[('preprocessor',\n",
            "                 ColumnTransformer(n_jobs=None, remainder='passthrough',\n",
            "                                   sparse_threshold=0.3,\n",
            "                                   transformer_weights=None,\n",
            "                                   transformers=[('num',\n",
            "                                                  Pipeline(memory=None,\n",
            "                                                           steps=[('scaler',\n",
            "                                                                   StandardScaler(copy=True,\n",
            "                                                                                  with_mean=True,\n",
            "                                                                                  with_std=True))],\n",
            "                                                           verbose=False),\n",
            "                                                  ['Yas', 'Yillik_prim',\n",
            "                                                   'Sure'])],\n",
            "                                   verbose=False)),\n",
            "                ('sampler',\n",
            "                 SMOTE(k_neighbors...\n",
            "                       sampling_strategy='auto', svm_estimator='deprecated')),\n",
            "                ('df',\n",
            "                 DecisionTreeClassifier(ccp_alpha=0.0, class_weight=None,\n",
            "                                        criterion='gini', max_depth=15,\n",
            "                                        max_features=1, max_leaf_nodes=None,\n",
            "                                        min_impurity_decrease=0.0,\n",
            "                                        min_impurity_split=None,\n",
            "                                        min_samples_leaf=10,\n",
            "                                        min_samples_split=4,\n",
            "                                        min_weight_fraction_leaf=0.0,\n",
            "                                        presort='deprecated', random_state=42,\n",
            "                                        splitter='best'))],\n",
            "         verbose=False)\n",
            "0.7738426358912454\n"
          ],
          "name": "stdout"
        }
      ]
    },
    {
      "cell_type": "code",
      "metadata": {
        "colab": {
          "base_uri": "https://localhost:8080/"
        },
        "id": "YexB05lrIhHq",
        "outputId": "c956407f-c7bd-4f2c-e531-25ecd6e5c0ab"
      },
      "source": [
        "print('Train auc:', grid1.score(X_train, y_train))\n",
        "print('Test auc :', grid1.score(X_test, y_test))"
      ],
      "execution_count": null,
      "outputs": [
        {
          "output_type": "stream",
          "text": [
            "Train auc: 0.7685114317552563\n",
            "Test auc : 0.7688898873435064\n"
          ],
          "name": "stdout"
        }
      ]
    },
    {
      "cell_type": "markdown",
      "metadata": {
        "id": "qSt4Kb-fH-96"
      },
      "source": [
        "# **RandomUnderSampler With DT**"
      ]
    },
    {
      "cell_type": "code",
      "metadata": {
        "colab": {
          "base_uri": "https://localhost:8080/"
        },
        "id": "FVAHckLDH9-T",
        "outputId": "cf3cf222-b2b2-45db-b83c-74d911ee0114"
      },
      "source": [
        "num_transformer = Pipeline(steps=[('scaler', StandardScaler())\n",
        "                                 ])\n",
        "num_attrs = X_train.columns[X_train.dtypes != 'category'].tolist()\n",
        "\n",
        "preprocessor = ColumnTransformer(transformers=[('num', num_transformer, num_attrs)],\n",
        "                                 remainder = 'passthrough') # process num features and let all others pass through\n",
        "\n",
        "ovsmp_pipe = pipe_imb([('preprocessor' , preprocessor),\n",
        "                       ('sampler', RandomUnderSampler(random_state=seed)),\n",
        "                       ('df'    , DecisionTreeClassifier(random_state=seed))])\n",
        "\n",
        "\n",
        "params = {\"df__criterion\":         [\"gini\", \"entropy\"],\n",
        "          \"df__max_depth\":         [6, 7,10,15],\n",
        "           \"df__max_features\":      [1, 2, 3, 4],\n",
        "           \"df__min_samples_split\": [2, 3, 4, 5],\n",
        "           \"df__min_samples_leaf\":  [7,10,15]\n",
        "              }\n",
        "\n",
        "\n",
        "\n",
        "scorer = make_scorer(roc_auc_score)\n",
        "\n",
        "grid3 = RandomizedSearchCV(ovsmp_pipe, param_distributions=params, cv=4,scoring=scorer, n_jobs=-1,n_iter=50,verbose=1)\n",
        "\n",
        "grid3.fit(X_train, y_train)\n",
        "print('Best grid parameters:', grid1.best_params_, '\\n')\n",
        "print(grid3.best_params_)\n",
        "print(grid3.best_estimator_)\n",
        "print(grid3.best_score_)\n",
        "\n",
        "print('Train auc:', grid3.score(X_train, y_train))\n",
        "print('Test auc :', grid3.score(X_test, y_test))"
      ],
      "execution_count": null,
      "outputs": [
        {
          "output_type": "stream",
          "text": [
            "Fitting 4 folds for each of 50 candidates, totalling 200 fits\n"
          ],
          "name": "stdout"
        },
        {
          "output_type": "stream",
          "text": [
            "[Parallel(n_jobs=-1)]: Using backend LokyBackend with 2 concurrent workers.\n",
            "[Parallel(n_jobs=-1)]: Done  46 tasks      | elapsed:    8.7s\n",
            "[Parallel(n_jobs=-1)]: Done 196 tasks      | elapsed:   31.6s\n",
            "[Parallel(n_jobs=-1)]: Done 200 out of 200 | elapsed:   32.1s finished\n"
          ],
          "name": "stderr"
        },
        {
          "output_type": "stream",
          "text": [
            "Best grid parameters: {'df__min_samples_split': 4, 'df__min_samples_leaf': 10, 'df__max_features': 1, 'df__max_depth': 15, 'df__criterion': 'gini'} \n",
            "\n",
            "{'df__min_samples_split': 2, 'df__min_samples_leaf': 10, 'df__max_features': 1, 'df__max_depth': 15, 'df__criterion': 'entropy'}\n",
            "Pipeline(memory=None,\n",
            "         steps=[('preprocessor',\n",
            "                 ColumnTransformer(n_jobs=None, remainder='passthrough',\n",
            "                                   sparse_threshold=0.3,\n",
            "                                   transformer_weights=None,\n",
            "                                   transformers=[('num',\n",
            "                                                  Pipeline(memory=None,\n",
            "                                                           steps=[('scaler',\n",
            "                                                                   StandardScaler(copy=True,\n",
            "                                                                                  with_mean=True,\n",
            "                                                                                  with_std=True))],\n",
            "                                                           verbose=False),\n",
            "                                                  ['Yas', 'Yillik_prim',\n",
            "                                                   'Sure'])],\n",
            "                                   verbose=False)),\n",
            "                ('sampler',\n",
            "                 RandomUnderSample...\n",
            "                                    replacement=False, return_indices=False,\n",
            "                                    sampling_strategy='auto')),\n",
            "                ('df',\n",
            "                 DecisionTreeClassifier(ccp_alpha=0.0, class_weight=None,\n",
            "                                        criterion='entropy', max_depth=15,\n",
            "                                        max_features=1, max_leaf_nodes=None,\n",
            "                                        min_impurity_decrease=0.0,\n",
            "                                        min_impurity_split=None,\n",
            "                                        min_samples_leaf=10,\n",
            "                                        min_samples_split=2,\n",
            "                                        min_weight_fraction_leaf=0.0,\n",
            "                                        presort='deprecated', random_state=42,\n",
            "                                        splitter='best'))],\n",
            "         verbose=False)\n",
            "0.7693690351282586\n",
            "Train auc: 0.7687558646030902\n",
            "Test auc : 0.769570080848159\n"
          ],
          "name": "stdout"
        }
      ]
    },
    {
      "cell_type": "markdown",
      "metadata": {
        "id": "cPu5ZqH1LRLv"
      },
      "source": [
        "# **SVM**"
      ]
    },
    {
      "cell_type": "code",
      "metadata": {
        "colab": {
          "base_uri": "https://localhost:8080/"
        },
        "id": "Rknj3hxTA9Uu",
        "outputId": "a9e6ee6f-87fd-4d53-9b4d-3a1343f914ee"
      },
      "source": [
        "num_transformer = Pipeline(steps=[('scaler', StandardScaler())\n",
        "                                 ])\n",
        "num_attrs = X_train.columns[X_train.dtypes != 'category'].tolist()\n",
        "\n",
        "preprocessor = ColumnTransformer(transformers=[('num', num_transformer, num_attrs)],\n",
        "                                 remainder = 'passthrough') # process num features and let all others pass through\n",
        "\n",
        "ovsmp_pipe = pipe_imb([('preprocessor' , preprocessor),\n",
        "                       ('sampler', RandomUnderSampler(random_state=seed)),\n",
        "                       ('classifier',SVC(random_state=seed))])\n",
        "\n",
        "\n",
        "params = [\n",
        "          {'classifier__kernel': ['rbf'], \n",
        "           'classifier__gamma' : ['auto'], \n",
        "           'classifier__C'     : [5],\n",
        "           'classifier__class_weight': [{0:0.5,1:1}, 'balanced']}\n",
        "         ]\n",
        "\n",
        "\n",
        "\n",
        "scorer = make_scorer(roc_auc_score)\n",
        "\n",
        "grid4 = RandomizedSearchCV(ovsmp_pipe, param_distributions=params, cv=4,scoring=scorer, n_jobs=-1,n_iter=50,verbose=1)\n",
        "\n",
        "grid4.fit(X_train, y_train)\n",
        "print('Best grid parameters:', grid1.best_params_, '\\n')\n",
        "print(grid4.best_params_)\n",
        "print(grid4.best_estimator_)\n",
        "print(grid4.best_score_)\n",
        "\n",
        "print('Train auc:', grid4.score(X_train, y_train))\n",
        "print('Test auc :', grid4.score(X_test, y_test))"
      ],
      "execution_count": null,
      "outputs": [
        {
          "output_type": "stream",
          "text": [
            "Fitting 4 folds for each of 2 candidates, totalling 8 fits\n"
          ],
          "name": "stdout"
        },
        {
          "output_type": "stream",
          "text": [
            "[Parallel(n_jobs=-1)]: Using backend LokyBackend with 2 concurrent workers.\n",
            "[Parallel(n_jobs=-1)]: Done   8 out of   8 | elapsed:    8.8s finished\n"
          ],
          "name": "stderr"
        },
        {
          "output_type": "stream",
          "text": [
            "Best grid parameters: {'df__min_samples_split': 4, 'df__min_samples_leaf': 10, 'df__max_features': 1, 'df__max_depth': 15, 'df__criterion': 'gini'} \n",
            "\n",
            "{'classifier__kernel': 'rbf', 'classifier__gamma': 'auto', 'classifier__class_weight': 'balanced', 'classifier__C': 5}\n",
            "Pipeline(memory=None,\n",
            "         steps=[('preprocessor',\n",
            "                 ColumnTransformer(n_jobs=None, remainder='passthrough',\n",
            "                                   sparse_threshold=0.3,\n",
            "                                   transformer_weights=None,\n",
            "                                   transformers=[('num',\n",
            "                                                  Pipeline(memory=None,\n",
            "                                                           steps=[('scaler',\n",
            "                                                                   StandardScaler(copy=True,\n",
            "                                                                                  with_mean=True,\n",
            "                                                                                  with_std=True))],\n",
            "                                                           verbose=False),\n",
            "                                                  ['Yas', 'Yillik_prim',\n",
            "                                                   'Sure'])],\n",
            "                                   verbose=False)),\n",
            "                ('sampler',\n",
            "                 RandomUnderSampler(random_state=42, ratio=None,\n",
            "                                    replacement=False, return_indices=False,\n",
            "                                    sampling_strategy='auto')),\n",
            "                ('classifier',\n",
            "                 SVC(C=5, break_ties=False, cache_size=200,\n",
            "                     class_weight='balanced', coef0=0.0,\n",
            "                     decision_function_shape='ovr', degree=3, gamma='auto',\n",
            "                     kernel='rbf', max_iter=-1, probability=False,\n",
            "                     random_state=42, shrinking=True, tol=0.001,\n",
            "                     verbose=False))],\n",
            "         verbose=False)\n",
            "0.7924949379566176\n",
            "Train auc: 0.793140540117296\n",
            "Test auc : 0.7931678185307542\n"
          ],
          "name": "stdout"
        }
      ]
    },
    {
      "cell_type": "code",
      "metadata": {
        "id": "7Qx2Wd2rVoe-"
      },
      "source": [
        ""
      ],
      "execution_count": null,
      "outputs": []
    },
    {
      "cell_type": "code",
      "metadata": {
        "id": "ZpEzq3a1PXZE"
      },
      "source": [
        ""
      ],
      "execution_count": null,
      "outputs": []
    },
    {
      "cell_type": "markdown",
      "metadata": {
        "id": "TM2TJag2Qkkx"
      },
      "source": [
        "# **FEATURE SELECTION**"
      ]
    },
    {
      "cell_type": "code",
      "metadata": {
        "colab": {
          "base_uri": "https://localhost:8080/"
        },
        "id": "zgkbjaurPSem",
        "outputId": "69b57ca2-fc95-4caf-b7f6-10cef5a8ec00"
      },
      "source": [
        "Clf = RF(criterion = 'gini', n_estimators = 150, max_depth = 23, min_samples_leaf = 1, \n",
        "         min_samples_split = 2, max_features = 4, class_weight='balanced', random_state = seed)\n",
        "Clf.fit(X_train, y_train)\n",
        "print( 'RF Training accuracy :', Clf.score(X_train, y_train) )\n",
        "print( 'RF Test accuracy     :', Clf.score(X_test, y_test) ,\"\\n\")"
      ],
      "execution_count": null,
      "outputs": [
        {
          "output_type": "stream",
          "text": [
            "RF Training accuracy : 0.9181990707414436\n",
            "RF Test accuracy     : 0.8176285826462505 \n",
            "\n"
          ],
          "name": "stdout"
        }
      ]
    },
    {
      "cell_type": "code",
      "metadata": {
        "colab": {
          "base_uri": "https://localhost:8080/",
          "height": 1000
        },
        "id": "oVw5u8N1PWgT",
        "outputId": "7ea22676-36ca-4d6b-867a-ef47e791522b"
      },
      "source": [
        "importances = Clf.feature_importances_\n",
        "std = np.std([tree.feature_importances_ for tree in Clf.estimators_], axis=0)\n",
        "indices = np.argsort(importances)[::-1]\n",
        "\n",
        "feature_names = arac_train.columns.tolist()\n",
        "# Print the feature ranking\n",
        "print(\"Feature ranking:\")\n",
        "feature_list = []\n",
        "for f in range(X.shape[1]):\n",
        "#    print(\"%d. feature %d (%f)\" % (f + 1, indices[f], importances[indices[f]]))\n",
        "    feature_list.append(feature_names[indices[f]])\n",
        "    print(\"%2d. %15s %2d (%f)\" % (f + 1, feature_names[indices[f]], indices[f], importances[indices[f]]))\n",
        "\n",
        "# Plot the feature importances of the forest\n",
        "plt.figure()\n",
        "plt.title(\"Feature importances\")\n",
        "plt.bar(range(X.shape[1]), importances[indices],\n",
        "       color=\"r\", yerr=std[indices], align=\"center\")\n",
        "\n",
        "#plt.xticks(range(X.shape[1]), indices, rotation='vertical')\n",
        "plt.xticks(range(X.shape[1]), feature_list, rotation='vertical')\n",
        "plt.xlim([-1, X.shape[1]])\n",
        "plt.show()"
      ],
      "execution_count": null,
      "outputs": [
        {
          "output_type": "stream",
          "text": [
            "Feature ranking:\n",
            " 1.   Arac_yasi_bin 55 (0.210300)\n",
            " 2. Sehir_Zonguldak 53 (0.194270)\n",
            " 3.             Yas  0 (0.124796)\n",
            " 4.     Yillik_prim  1 (0.104655)\n",
            " 5.            Sure  2 (0.103534)\n",
            " 6. Gecmis_police_Yok 54 (0.053038)\n",
            " 7. Acenta_no_bin_a_4 59 (0.033867)\n",
            " 8.   Sehir_Isparta 30 (0.017768)\n",
            " 9. Acenta_no_bin_a_2 58 (0.015306)\n",
            "10.  age_bin_middle  5 (0.014338)\n",
            "11.           Sonuc  3 (0.013247)\n",
            "12.      Cinsiyet_K  4 (0.013200)\n",
            "13. Acenta_no_bin_a_1 57 (0.012941)\n",
            "14.   age_bin_older  7 (0.007564)\n",
            "15. age_bin_middle_p  6 (0.006147)\n",
            "16.      Sehir_Agri 13 (0.005688)\n",
            "17.  Sehir_Istanbul 31 (0.004362)\n",
            "18.   Sehir_Kayseri 34 (0.004134)\n",
            "19. Sehir_Eskisehir 26 (0.004041)\n",
            "20.   Sehir_Kocaeli 35 (0.002755)\n",
            "21.     Ehliyet_Yok  9 (0.002711)\n",
            "22.    Sehir_Ankara 14 (0.002662)\n",
            "23.   Sehir_Trabzon 49 (0.002587)\n",
            "24.     Sehir_Aydin 16 (0.002449)\n",
            "25. Sehir_Kastamonu 33 (0.002448)\n",
            "26.   Sehir_Denizli 21 (0.002344)\n",
            "27.   Sehir_Antalya 15 (0.002146)\n",
            "28.     Sehir_Adana 10 (0.002077)\n",
            "29.   Sehir_Sakarya 44 (0.002003)\n",
            "30.   Sehir_Malatya 38 (0.001921)\n",
            "31.    Sehir_Yozgat 52 (0.001884)\n",
            "32.   Sehir_Kutahya 37 (0.001739)\n",
            "33.       Sehir_Mus 41 (0.001547)\n",
            "34.    Sehir_Mardin 39 (0.001536)\n",
            "35.   Sehir_Giresun 28 (0.001525)\n",
            "36.  Sehir_Adiyaman 11 (0.001444)\n",
            "37.  Sehir_Osmaniye 43 (0.001431)\n",
            "38.     Sehir_Corum 20 (0.001375)\n",
            "39.    Sehir_Sirnak 46 (0.001358)\n",
            "40.     Sehir_Sivas 47 (0.001350)\n",
            "41.   Sehir_Erzurum 25 (0.001337)\n",
            "42. Sehir_Balikesir 17 (0.001318)\n",
            "43. Sehir_Diyarbakir 22 (0.001209)\n",
            "44.    Sehir_Samsun 45 (0.001133)\n",
            "45.       Sehir_Van 51 (0.001123)\n",
            "46. age_bin_older_p  8 (0.001115)\n",
            "47.     Sehir_Tokat 48 (0.001102)\n",
            "48.    Sehir_Batman 18 (0.001065)\n",
            "49. Sehir_Gaziantep 27 (0.001032)\n",
            "50.     Sehir_Konya 36 (0.001027)\n",
            "51.    Sehir_Elazig 24 (0.001000)\n",
            "52.     Sehir_Hatay 29 (0.000955)\n",
            "53.      Sehir_Ordu 42 (0.000921)\n",
            "54.     Sehir_Mugla 40 (0.000324)\n",
            "55.      Sehir_Urfa 50 (0.000225)\n",
            "56.     Sehir_Duzce 23 (0.000224)\n",
            "57.     Sehir_Izmir 32 (0.000179)\n",
            "58. Sehir_Canakkale 19 (0.000158)\n",
            "59.     Sehir_Afyon 12 (0.000066)\n",
            "60.  Hasar_durumu_H 56 (0.000000)\n"
          ],
          "name": "stdout"
        },
        {
          "output_type": "display_data",
          "data": {
            "image/png": "[encoded data removed]",
            "text/plain": [
              "<Figure size 432x288 with 1 Axes>"
            ]
          },
          "metadata": {
            "tags": []
          }
        }
      ]
    },
    {
      "cell_type": "code",
      "metadata": {
        "id": "4U99WK2mPbcV"
      },
      "source": [
        "used_columns=[\"Arac_yasi_bin\",\"Sehir_Zonguldak\",\"Yas\",\"Yillik_prim\",\"Sure\",\"Gecmis_police_Yok\",\"Acenta_no_bin_a_4\" ,\"Sehir_Isparta\",\n",
        "              \"Acenta_no_bin_a_2\",\"age_bin_middle\" ,\"Sonuc\",\"Cinsiyet_K\",\"Acenta_no_bin_a_1\",\"age_bin_older\",\"age_bin_middle_p\",\"Sehir_Agri\",\n",
        "              \"Sehir_Istanbul\",\"Sehir_Kayseri\",\"Sehir_Eskisehir\",\"Sehir_Kocaeli\",\"Ehliyet_Yok\",\"Sehir_Ankara\",\"Sehir_Trabzon\",\"Sehir_Aydin\",\n",
        "              \"Sehir_Kastamonu\",\"Sehir_Denizli\",\"Sehir_Antalya\",\"Sehir_Adana\",\"Sehir_Sakarya\"]\n",
        "\n",
        "NEW_DF=arac_train[used_columns]"
      ],
      "execution_count": null,
      "outputs": []
    },
    {
      "cell_type": "code",
      "metadata": {
        "id": "vOAIl6hzRcDA"
      },
      "source": [
        "sampledata= NEW_DF.sample(frac =.25)"
      ],
      "execution_count": null,
      "outputs": []
    },
    {
      "cell_type": "code",
      "metadata": {
        "id": "DrIGNyKAPbZT"
      },
      "source": [
        "y = sampledata.Sonuc\n",
        "X = sampledata.drop('Sonuc', axis=1) #drop column \"Price\" from the dataset \n",
        "X_train, X_test, y_train, y_test = train_test_split(X, y, test_size=0.4, random_state=1) \n",
        "seed = 42"
      ],
      "execution_count": null,
      "outputs": []
    },
    {
      "cell_type": "code",
      "metadata": {
        "colab": {
          "base_uri": "https://localhost:8080/"
        },
        "id": "45URCf1jPbWQ",
        "outputId": "eb7844e1-0a86-446b-f1c5-8dd2e9a1966a"
      },
      "source": [
        "num_transformer = Pipeline(steps=[('scaler', StandardScaler())\n",
        "                                 ])\n",
        "num_attrs = X_train.columns[X_train.dtypes != 'category'].tolist()\n",
        "\n",
        "preprocessor = ColumnTransformer(transformers=[('num', num_transformer, num_attrs)],\n",
        "                                 remainder = 'passthrough') # process num features and let all others pass through\n",
        "\n",
        "ovsmp_pipe = pipe_imb([('preprocessor' , preprocessor),\n",
        "                       ('sampler', RandomUnderSampler(random_state=seed)),\n",
        "                       ('classifier',SVC(random_state=seed))])\n",
        "\n",
        "\n",
        "params = [\n",
        "          {'classifier__kernel': ['rbf'], \n",
        "           'classifier__gamma' : ['auto'], \n",
        "           'classifier__C'     : [5],\n",
        "           'classifier__class_weight': [{0:0.5,1:1}, 'balanced']}\n",
        "         ]\n",
        "\n",
        "\n",
        "\n",
        "scorer = make_scorer(roc_auc_score)\n",
        "\n",
        "grid4 = RandomizedSearchCV(ovsmp_pipe, param_distributions=params, cv=4,scoring=scorer, n_jobs=-1,n_iter=50,verbose=1)\n",
        "\n",
        "grid4.fit(X_train, y_train)\n",
        "print('Best grid parameters:', grid1.best_params_, '\\n')\n",
        "print(grid4.best_params_)\n",
        "print(grid4.best_estimator_)\n",
        "print(grid4.best_score_)\n",
        "\n",
        "print('Train auc:', grid4.score(X_train, y_train))\n",
        "print('Test auc :', grid4.score(X_test, y_test))"
      ],
      "execution_count": null,
      "outputs": [
        {
          "output_type": "stream",
          "text": [
            "Fitting 4 folds for each of 2 candidates, totalling 8 fits\n"
          ],
          "name": "stdout"
        },
        {
          "output_type": "stream",
          "text": [
            "[Parallel(n_jobs=-1)]: Using backend LokyBackend with 2 concurrent workers.\n",
            "[Parallel(n_jobs=-1)]: Done   8 out of   8 | elapsed:   37.5s finished\n"
          ],
          "name": "stderr"
        },
        {
          "output_type": "stream",
          "text": [
            "Best grid parameters: {'df__min_samples_split': 4, 'df__min_samples_leaf': 10, 'df__max_features': 1, 'df__max_depth': 15, 'df__criterion': 'gini'} \n",
            "\n",
            "{'classifier__kernel': 'rbf', 'classifier__gamma': 'auto', 'classifier__class_weight': 'balanced', 'classifier__C': 5}\n",
            "Pipeline(memory=None,\n",
            "         steps=[('preprocessor',\n",
            "                 ColumnTransformer(n_jobs=None, remainder='passthrough',\n",
            "                                   sparse_threshold=0.3,\n",
            "                                   transformer_weights=None,\n",
            "                                   transformers=[('num',\n",
            "                                                  Pipeline(memory=None,\n",
            "                                                           steps=[('scaler',\n",
            "                                                                   StandardScaler(copy=True,\n",
            "                                                                                  with_mean=True,\n",
            "                                                                                  with_std=True))],\n",
            "                                                           verbose=False),\n",
            "                                                  ['Yas', 'Yillik_prim',\n",
            "                                                   'Sure'])],\n",
            "                                   verbose=False)),\n",
            "                ('sampler',\n",
            "                 RandomUnderSampler(random_state=42, ratio=None,\n",
            "                                    replacement=False, return_indices=False,\n",
            "                                    sampling_strategy='auto')),\n",
            "                ('classifier',\n",
            "                 SVC(C=5, break_ties=False, cache_size=200,\n",
            "                     class_weight='balanced', coef0=0.0,\n",
            "                     decision_function_shape='ovr', degree=3, gamma='auto',\n",
            "                     kernel='rbf', max_iter=-1, probability=False,\n",
            "                     random_state=42, shrinking=True, tol=0.001,\n",
            "                     verbose=False))],\n",
            "         verbose=False)\n",
            "0.7877697689269605\n",
            "Train auc: 0.788737138664741\n",
            "Test auc : 0.7907244361015067\n"
          ],
          "name": "stdout"
        }
      ]
    },
    {
      "cell_type": "markdown",
      "metadata": {
        "id": "LDWBPvWgSLA6"
      },
      "source": [
        "# **MLP**"
      ]
    },
    {
      "cell_type": "code",
      "metadata": {
        "colab": {
          "base_uri": "https://localhost:8080/"
        },
        "id": "k2hnvpP-PbSp",
        "outputId": "dd740a1a-9b4b-4f4f-a335-cd627c745bab"
      },
      "source": [
        "pipeline = Pipeline(steps=[('classifier',   MLPClassifier(max_iter=50, random_state=seed))])\n",
        "\n",
        "\n",
        "params = {'classifier__hidden_layer_sizes': [(50,50), (100,100)],\n",
        "          'classifier__activation': ['tanh', 'relu'],\n",
        "          'classifier__solver': ['adam', 'sgd'],\n",
        "          'classifier__alpha': [0.01, 0.1, 1],\n",
        "          'classifier__learning_rate': ['constant', 'adaptive', 'invscaling']\n",
        "         }\n",
        "\n",
        "\n",
        "\n",
        "scorer = make_scorer(roc_auc_score)\n",
        "\n",
        "grid5 = RandomizedSearchCV(pipeline, param_distributions=params, cv=4,scoring=scorer, n_jobs=-1,n_iter=50,verbose=1)\n",
        "\n",
        "grid5.fit(X_train, y_train)"
      ],
      "execution_count": null,
      "outputs": [
        {
          "output_type": "stream",
          "text": [
            "Fitting 4 folds for each of 50 candidates, totalling 200 fits\n"
          ],
          "name": "stdout"
        },
        {
          "output_type": "stream",
          "text": [
            "[Parallel(n_jobs=-1)]: Using backend LokyBackend with 2 concurrent workers.\n",
            "[Parallel(n_jobs=-1)]: Done  46 tasks      | elapsed:  4.6min\n",
            "[Parallel(n_jobs=-1)]: Done 196 tasks      | elapsed: 24.4min\n",
            "[Parallel(n_jobs=-1)]: Done 200 out of 200 | elapsed: 25.3min finished\n"
          ],
          "name": "stderr"
        },
        {
          "output_type": "execute_result",
          "data": {
            "text/plain": [
              "RandomizedSearchCV(cv=4, error_score=nan,\n",
              "                   estimator=Pipeline(memory=None,\n",
              "                                      steps=[('classifier',\n",
              "                                              MLPClassifier(activation='relu',\n",
              "                                                            alpha=0.0001,\n",
              "                                                            batch_size='auto',\n",
              "                                                            beta_1=0.9,\n",
              "                                                            beta_2=0.999,\n",
              "                                                            early_stopping=False,\n",
              "                                                            epsilon=1e-08,\n",
              "                                                            hidden_layer_sizes=(100,),\n",
              "                                                            learning_rate='constant',\n",
              "                                                            learning_rate_init=0.001,\n",
              "                                                            max_fun=15000,\n",
              "                                                            max_iter=50,\n",
              "                                                            momentum=0.9,\n",
              "                                                            n_iter_no_change=10,\n",
              "                                                            n...\n",
              "                   param_distributions={'classifier__activation': ['tanh',\n",
              "                                                                   'relu'],\n",
              "                                        'classifier__alpha': [0.01, 0.1, 1],\n",
              "                                        'classifier__hidden_layer_sizes': [(50,\n",
              "                                                                            50),\n",
              "                                                                           (100,\n",
              "                                                                            100)],\n",
              "                                        'classifier__learning_rate': ['constant',\n",
              "                                                                      'adaptive',\n",
              "                                                                      'invscaling'],\n",
              "                                        'classifier__solver': ['adam', 'sgd']},\n",
              "                   pre_dispatch='2*n_jobs', random_state=None, refit=True,\n",
              "                   return_train_score=False, scoring=make_scorer(roc_auc_score),\n",
              "                   verbose=1)"
            ]
          },
          "metadata": {
            "tags": []
          },
          "execution_count": 207
        }
      ]
    },
    {
      "cell_type": "code",
      "metadata": {
        "colab": {
          "base_uri": "https://localhost:8080/"
        },
        "id": "94_aMfgjJnWH",
        "outputId": "32a1fd1c-ab10-49d7-f78b-add600447ed5"
      },
      "source": [
        "print('Best grid parameters:', grid5.best_params_, '\\n')\n",
        "print('Best grid estimator:',grid5.best_estimator_)\n",
        "print('Best grid score_:',grid5.best_score_)\n",
        "\n",
        "print('Train auc:', grid5.score(X_train, y_train))\n",
        "print('Test auc :', grid5.score(X_test, y_test))"
      ],
      "execution_count": null,
      "outputs": [
        {
          "output_type": "stream",
          "text": [
            "Best grid parameters: {'classifier__solver': 'adam', 'classifier__learning_rate': 'constant', 'classifier__hidden_layer_sizes': (50, 50), 'classifier__alpha': 0.01, 'classifier__activation': 'relu'} \n",
            "\n",
            "Best grid estimator: Pipeline(memory=None,\n",
            "         steps=[('classifier',\n",
            "                 MLPClassifier(activation='relu', alpha=0.01, batch_size='auto',\n",
            "                               beta_1=0.9, beta_2=0.999, early_stopping=False,\n",
            "                               epsilon=1e-08, hidden_layer_sizes=(50, 50),\n",
            "                               learning_rate='constant',\n",
            "                               learning_rate_init=0.001, max_fun=15000,\n",
            "                               max_iter=50, momentum=0.9, n_iter_no_change=10,\n",
            "                               nesterovs_momentum=True, power_t=0.5,\n",
            "                               random_state=42, shuffle=True, solver='adam',\n",
            "                               tol=0.0001, validation_fraction=0.1,\n",
            "                               verbose=False, warm_start=False))],\n",
            "         verbose=False)\n",
            "Best grid score_: 0.5711393846251189\n",
            "Train auc: 0.7647731811204264\n",
            "Test auc : 0.7613673296615683\n"
          ],
          "name": "stdout"
        }
      ]
    },
    {
      "cell_type": "code",
      "metadata": {
        "id": "gsmTSYaVVZbT"
      },
      "source": [
        ""
      ],
      "execution_count": null,
      "outputs": []
    },
    {
      "cell_type": "markdown",
      "metadata": {
        "id": "RoYgr4oOasSn"
      },
      "source": [
        "# **FULL DATA PREDICTION**"
      ]
    },
    {
      "cell_type": "code",
      "metadata": {
        "id": "K4oOt_kbagWF"
      },
      "source": [
        "y = arac_train.Sonuc\n",
        "X = arac_train.drop('Sonuc', axis=1) #drop column \"Price\" from the dataset \n",
        "X_train, X_test, y_train, y_test = train_test_split(X, y, test_size=0.4, random_state=1) \n",
        "seed = 42"
      ],
      "execution_count": null,
      "outputs": []
    },
    {
      "cell_type": "code",
      "metadata": {
        "colab": {
          "base_uri": "https://localhost:8080/"
        },
        "id": "efQ8B9lZLBS7",
        "outputId": "dc08935c-a8ae-4067-91e7-626ec0d812fa"
      },
      "source": [
        "num_transformer = Pipeline(steps=[('scaler', StandardScaler())\n",
        "                                 ])\n",
        "num_attrs = X_train.columns[X_train.dtypes != 'category'].tolist()\n",
        "\n",
        "preprocessor = ColumnTransformer(transformers=[('num', num_transformer, num_attrs)],\n",
        "                                 remainder = 'passthrough') # process num features and let all others pass through\n",
        "\n",
        "ovsmp_pipe = pipe_imb([('preprocessor' , preprocessor),\n",
        "                       ('sampler', RandomOverSampler(random_state=seed)),\n",
        "                       ('df'    , DecisionTreeClassifier(random_state=seed))])\n",
        "\n",
        "\n",
        "params = {\"df__criterion\":         [\"gini\", \"entropy\"],\n",
        "          \"df__max_depth\":         [10,15,18,20,22],\n",
        "           \"df__max_features\":      [1, 2, 3, 4],\n",
        "           \"df__min_samples_split\": [2, 3, 4, 5],\n",
        "           \"df__min_samples_leaf\":  [3,5,6,7,10]\n",
        "              }\n",
        "\n",
        "scorer = make_scorer(roc_auc_score)\n",
        "\n",
        "grid1 = RandomizedSearchCV(ovsmp_pipe, param_distributions=params, cv=4,scoring=scorer, n_jobs=-1,n_iter=50,verbose=1)\n",
        "\n",
        "grid1.fit(X_train, y_train)\n",
        "print('Best grid parameters:', grid1.best_params_, '\\n')\n",
        "print('Best grid estimator:',grid1.best_estimator_)\n",
        "print('Best grid score_:',grid1.best_score_)\n",
        "\n",
        "print('Train auc:', grid1.score(X_train, y_train))\n",
        "print('Test auc :', grid1.score(X_test, y_test))"
      ],
      "execution_count": null,
      "outputs": [
        {
          "output_type": "stream",
          "text": [
            "Fitting 4 folds for each of 50 candidates, totalling 200 fits\n"
          ],
          "name": "stdout"
        },
        {
          "output_type": "stream",
          "text": [
            "[Parallel(n_jobs=-1)]: Using backend LokyBackend with 2 concurrent workers.\n",
            "[Parallel(n_jobs=-1)]: Done  46 tasks      | elapsed:   39.1s\n",
            "[Parallel(n_jobs=-1)]: Done 196 tasks      | elapsed:  2.6min\n",
            "[Parallel(n_jobs=-1)]: Done 200 out of 200 | elapsed:  2.7min finished\n"
          ],
          "name": "stderr"
        },
        {
          "output_type": "stream",
          "text": [
            "Best grid parameters: {'df__min_samples_split': 2, 'df__min_samples_leaf': 3, 'df__max_features': 1, 'df__max_depth': 15, 'df__criterion': 'gini'} \n",
            "\n",
            "Best grid estimator: Pipeline(memory=None,\n",
            "         steps=[('preprocessor',\n",
            "                 ColumnTransformer(n_jobs=None, remainder='passthrough',\n",
            "                                   sparse_threshold=0.3,\n",
            "                                   transformer_weights=None,\n",
            "                                   transformers=[('num',\n",
            "                                                  Pipeline(memory=None,\n",
            "                                                           steps=[('scaler',\n",
            "                                                                   StandardScaler(copy=True,\n",
            "                                                                                  with_mean=True,\n",
            "                                                                                  with_std=True))],\n",
            "                                                           verbose=False),\n",
            "                                                  ['Yas', 'Yillik_prim',\n",
            "                                                   'Sure'])],\n",
            "                                   verbose=False)),\n",
            "                ('sampler',\n",
            "                 RandomOverSampler...\n",
            "                                   return_indices=False,\n",
            "                                   sampling_strategy='auto')),\n",
            "                ('df',\n",
            "                 DecisionTreeClassifier(ccp_alpha=0.0, class_weight=None,\n",
            "                                        criterion='gini', max_depth=15,\n",
            "                                        max_features=1, max_leaf_nodes=None,\n",
            "                                        min_impurity_decrease=0.0,\n",
            "                                        min_impurity_split=None,\n",
            "                                        min_samples_leaf=3, min_samples_split=2,\n",
            "                                        min_weight_fraction_leaf=0.0,\n",
            "                                        presort='deprecated', random_state=42,\n",
            "                                        splitter='best'))],\n",
            "         verbose=False)\n",
            "Best grid score_: 0.7829784954787928\n",
            "Train auc: 0.7885099797579184\n",
            "Test auc : 0.7796162443996748\n"
          ],
          "name": "stdout"
        }
      ]
    },
    {
      "cell_type": "code",
      "metadata": {
        "id": "U2DaWisecTy3"
      },
      "source": [
        "num_transformer = Pipeline(steps=[('scaler', StandardScaler())\n",
        "                                 ])\n",
        "num_attrs = X_train.columns[X_train.dtypes != 'category'].tolist()\n",
        "\n",
        "preprocessor = ColumnTransformer(transformers=[('num', num_transformer, num_attrs)],\n",
        "                                 remainder = 'passthrough') # process num features and let all others pass through\n",
        "\n",
        "ovsmp_pipe = pipe_imb([('preprocessor' , preprocessor),\n",
        "                       ('sampler', RandomUnderSampler(random_state=seed)),\n",
        "                       ('classifier',SVC(random_state=seed))])\n",
        "\n",
        "\n",
        "params = [\n",
        "          {'classifier__kernel': ['rbf'], \n",
        "           'classifier__gamma' : ['auto'], \n",
        "           'classifier__C'     : [5],\n",
        "           'classifier__class_weight': [{0:0.5,1:1}, 'balanced']}\n",
        "         ]\n",
        "\n",
        "\n",
        "\n",
        "scorer = make_scorer(roc_auc_score)\n",
        "\n",
        "grid4 = RandomizedSearchCV(ovsmp_pipe, param_distributions=params, cv=4,scoring=scorer, n_jobs=-1,n_iter=50,verbose=1)\n",
        "\n",
        "grid4.fit(X_train, y_train)\n",
        "print('Best grid parameters:', grid1.best_params_, '\\n')\n",
        "print(grid4.best_params_)\n",
        "print(grid4.best_estimator_)\n",
        "print(grid4.best_score_)\n",
        "\n",
        "print('Train auc:', grid4.score(X_train, y_train))\n",
        "print('Test auc :', grid4.score(X_test, y_test))"
      ],
      "execution_count": null,
      "outputs": []
    },
    {
      "cell_type": "code",
      "metadata": {
        "id": "Dn2mfSFgcqP_"
      },
      "source": [
        "num_transformer = Pipeline(steps=[('scaler', StandardScaler())\n",
        "                                 ])\n",
        "num_attrs = X_train.columns[X_train.dtypes != 'category'].tolist()\n",
        "\n",
        "preprocessor = ColumnTransformer(transformers=[('num', num_transformer, num_attrs)],\n",
        "                                 remainder = 'passthrough') # process num features and let all others pass through\n",
        "\n",
        "ovsmp_pipe = pipe_imb([('preprocessor' , preprocessor),\n",
        "                       ('sampler', RandomOverSampler(random_state=seed)),\n",
        "                       ('clf'    , LogisticRegression(random_state=seed))])\n",
        "\n",
        "\n",
        "params = [{'sampler__sampling_strategy': [0.6, 0.7],\n",
        "           'clf__C'           : np.arange(0.1, 2.0), \n",
        "           'clf__penalty'     : ['l1'], \n",
        "           'clf__solver'      : ['liblinear', 'saga'],\n",
        "           'clf__class_weight': ['balanced']},\n",
        "          \n",
        "          {'sampler__sampling_strategy': [0.6, 0.7],\n",
        "           'clf__C'           : np.arange(0.1, 2.0), \n",
        "           'clf__penalty'     : ['l2'], \n",
        "           'clf__solver'      : ['liblinear', 'newton-cg', 'lbfgs', 'sag', 'saga'],\n",
        "           'clf__class_weight': ['balanced']},\n",
        "         ]\n",
        "\n",
        "scorer = make_scorer(roc_auc_score)\n",
        "\n",
        "grid3 = RandomizedSearchCV(ovsmp_pipe, param_distributions=params, cv=4,scoring=scorer, n_jobs=-1,n_iter=50,verbose=1)\n",
        "\n",
        "grid3.fit(X_train, y_train)\n",
        "print('Best grid parameters:', grid3.best_params_, '\\n')\n",
        "print('Best grid estimator:',grid3.best_estimator_)\n",
        "print('Best grid score_:',grid3.best_score_)\n",
        "\n",
        "print('Train auc:', grid3.score(X_train, y_train))\n",
        "print('Test auc :', grid3.score(X_test, y_test))"
      ],
      "execution_count": null,
      "outputs": []
    },
    {
      "cell_type": "markdown",
      "metadata": {
        "id": "Ok2lbeES11fO"
      },
      "source": [
        "# **PREDİCTİON FOR TEST**"
      ]
    },
    {
      "cell_type": "code",
      "metadata": {
        "id": "UXxFmcDMzkcg"
      },
      "source": [
        "y_pred = grid1.predict(arac_test)\n",
        "arac_test_2 = pd.read_excel('Arac_test.xlsx')"
      ],
      "execution_count": null,
      "outputs": []
    },
    {
      "cell_type": "code",
      "metadata": {
        "id": "dncJ2ECa5Eul"
      },
      "source": [
        "submission_cıgdem = pd.DataFrame({\"ID\": np.arange(1,63673).tolist(), \"Prediction\":y_pred})"
      ],
      "execution_count": null,
      "outputs": []
    },
    {
      "cell_type": "code",
      "metadata": {
        "id": "L4XU6FNX5dHt"
      },
      "source": [
        "submission_cıgdem.to_csv(\"CigdemUyumaz.csv\", index = None)"
      ],
      "execution_count": null,
      "outputs": []
    }
  ]
}